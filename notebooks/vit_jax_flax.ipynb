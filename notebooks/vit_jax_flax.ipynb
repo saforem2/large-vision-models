{
 "cells": [
  {
   "cell_type": "markdown",
   "id": "00079868",
   "metadata": {
    "execution": {
     "iopub.status.busy": "2024-04-15T18:28:31.845241+00:00",
     "iopub.status.idle": "2024-04-15T18:28:31.850571+00:00"
    },
    "jupyter": {
     "source_hidden": false
    }
   },
   "source": [
    "# Training a `ViT` with Jax + `flax`"
   ]
  },
  {
   "cell_type": "code",
   "execution_count": 1,
   "id": "bfb754e7",
   "metadata": {
    "collapsed": false,
    "execution": {
     "iopub": {
      "execute_input": "2024-04-15T18:28:40.362644+00:00"
     },
     "iopub.status.busy": "2024-04-15T18:28:40.362440+00:00",
     "iopub.status.idle": "2024-04-15T18:28:41.974249+00:00",
     "shell.execute_reply": "2024-04-15T18:28:41.973635+00:00"
    },
    "id": "4zlFHtNbVSdy",
    "jupyter": {
     "outputs_hidden": false,
     "source_hidden": false
    }
   },
   "outputs": [
    {
     "name": "stdout",
     "output_type": "stream",
     "text": [
      "nvcc: NVIDIA (R) Cuda compiler driver\r\n",
      "Copyright (c) 2005-2022 NVIDIA Corporation\r\n",
      "Built on Wed_Sep_21_10:33:58_PDT_2022\r\n",
      "Cuda compilation tools, release 11.8, V11.8.89\r\n",
      "Build cuda_11.8.r11.8/compiler.31833905_0\r\n"
     ]
    },
    {
     "name": "stdout",
     "output_type": "stream",
     "text": [
      "Mon Apr 15 13:28:40 2024       \r\n",
      "+-----------------------------------------------------------------------------+\r\n",
      "| NVIDIA-SMI 520.61.05    Driver Version: 520.61.05    CUDA Version: 11.8     |\r\n",
      "|-------------------------------+----------------------+----------------------+\r\n",
      "| GPU  Name        Persistence-M| Bus-Id        Disp.A | Volatile Uncorr. ECC |\r\n",
      "| Fan  Temp  Perf  Pwr:Usage/Cap|         Memory-Usage | GPU-Util  Compute M. |\r\n",
      "|                               |                      |               MIG M. |\r\n",
      "|===============================+======================+======================|\r\n"
     ]
    },
    {
     "name": "stdout",
     "output_type": "stream",
     "text": [
      "|   0  NVIDIA A100-SXM...  On   | 00000000:07:00.0 Off |                    0 |\r\n",
      "| N/A   28C    P0    51W / 400W |      0MiB / 40960MiB |      0%      Default |\r\n",
      "|                               |                      |             Disabled |\r\n",
      "+-------------------------------+----------------------+----------------------+\r\n"
     ]
    },
    {
     "name": "stdout",
     "output_type": "stream",
     "text": [
      "|   1  NVIDIA A100-SXM...  On   | 00000000:46:00.0 Off |                    0 |\r\n",
      "| N/A   30C    P0    51W / 400W |      0MiB / 40960MiB |      0%      Default |\r\n",
      "|                               |                      |             Disabled |\r\n",
      "+-------------------------------+----------------------+----------------------+\r\n"
     ]
    },
    {
     "name": "stdout",
     "output_type": "stream",
     "text": [
      "|   2  NVIDIA A100-SXM...  On   | 00000000:85:00.0 Off |                    0 |\r\n",
      "| N/A   30C    P0    55W / 400W |      0MiB / 40960MiB |      0%      Default |\r\n",
      "|                               |                      |             Disabled |\r\n",
      "+-------------------------------+----------------------+----------------------+\r\n"
     ]
    },
    {
     "name": "stdout",
     "output_type": "stream",
     "text": [
      "|   3  NVIDIA A100-SXM...  On   | 00000000:C7:00.0 Off |                    0 |\r\n",
      "| N/A   31C    P0    53W / 400W |      0MiB / 40960MiB |      0%      Default |\r\n",
      "|                               |                      |             Disabled |\r\n",
      "+-------------------------------+----------------------+----------------------+\r\n",
      "                                                                               \r\n",
      "+-----------------------------------------------------------------------------+\r\n",
      "| Processes:                                                                  |\r\n",
      "|  GPU   GI   CI        PID   Type   Process name                  GPU Memory |\r\n",
      "|        ID   ID                                                   Usage      |\r\n",
      "|=============================================================================|\r\n",
      "|  No running processes found                                                 |\r\n",
      "+-----------------------------------------------------------------------------+\r\n"
     ]
    }
   ],
   "source": [
    "!nvcc --version\n",
    "!nvidia-smi"
   ]
  },
  {
   "cell_type": "code",
   "execution_count": 2,
   "id": "148fcfdb",
   "metadata": {
    "collapsed": false,
    "execution": {
     "iopub": {
      "execute_input": "2024-04-15T18:28:41.975332+00:00"
     },
     "iopub.status.busy": "2024-04-15T18:28:41.975181+00:00",
     "iopub.status.idle": "2024-04-15T18:28:51.966636+00:00",
     "shell.execute_reply": "2024-04-15T18:28:51.966071+00:00"
    },
    "id": "MGT0h4ZRK3W2",
    "jupyter": {
     "outputs_hidden": false
    }
   },
   "outputs": [
    {
     "name": "stderr",
     "output_type": "stream",
     "text": [
      "/soft/datascience/conda/2023-10-04/mconda3/lib/python3.10/site-packages/h5py/__init__.py:36: UserWarning: h5py is running against HDF5 1.12.2 when it was built against 1.12.1, this may cause problems\n",
      "  _warn((\"h5py is running against HDF5 {0} when it was built against {1}, \"\n"
     ]
    }
   ],
   "source": [
    "import jax\n",
    "import jax.numpy as jnp\n",
    "import jax.dlpack\n",
    "from jax import grad, jit, vmap, random\n",
    "from jax import random\n",
    "from jax.example_libraries import stax, optimizers\n",
    "\n",
    "from tensorflow import keras\n",
    "import tensorflow_datasets as tfds\n",
    "import tensorflow as tf\n",
    "\n",
    "import time\n",
    "import numpy.random as npr\n",
    "import math\n",
    "\n",
    "from typing import Optional\n",
    "\n",
    "import optax\n",
    "from flax.training import train_state, checkpoints\n",
    "\n",
    "from tqdm.auto import tqdm\n",
    "from collections import defaultdict\n",
    "\n",
    "import numpy as np\n",
    "\n",
    "import torch\n",
    "from torch.utils.tensorboard import SummaryWriter\n",
    "\n",
    "import matplotlib.pyplot as plt"
   ]
  },
  {
   "cell_type": "markdown",
   "id": "42659633",
   "metadata": {
    "id": "iNmAau7872pm"
   },
   "source": [
    "## ViT"
   ]
  },
  {
   "cell_type": "code",
   "execution_count": 3,
   "id": "f4f63464",
   "metadata": {
    "collapsed": false,
    "execution": {
     "iopub": {
      "execute_input": "2024-04-15T18:28:51.967824+00:00"
     },
     "iopub.status.busy": "2024-04-15T18:28:51.967524+00:00",
     "iopub.status.idle": "2024-04-15T18:28:52.213187+00:00",
     "shell.execute_reply": "2024-04-15T18:28:52.212680+00:00"
    },
    "id": "nIYx16Xv896d",
    "jupyter": {
     "outputs_hidden": false,
     "source_hidden": false
    }
   },
   "outputs": [],
   "source": [
    "from rich import print\n",
    "from flax import linen as nn"
   ]
  },
  {
   "cell_type": "code",
   "execution_count": 4,
   "id": "bdcf45b6",
   "metadata": {
    "collapsed": false,
    "execution": {
     "iopub": {
      "execute_input": "2024-04-15T18:28:52.214130+00:00"
     },
     "iopub.status.busy": "2024-04-15T18:28:52.213977+00:00",
     "iopub.status.idle": "2024-04-15T18:28:52.458321+00:00",
     "shell.execute_reply": "2024-04-15T18:28:52.457834+00:00"
    },
    "id": "FmUlFQSBL1Gw",
    "jupyter": {
     "outputs_hidden": false
    }
   },
   "outputs": [],
   "source": [
    "class Patches(nn.Module):\n",
    "  patch_size: int\n",
    "  embed_dim: int\n",
    "\n",
    "  def setup(self):\n",
    "    self.conv = nn.Conv(\n",
    "        features=self.embed_dim,\n",
    "        kernel_size=(self.patch_size, self.patch_size),\n",
    "        strides=(self.patch_size, self.patch_size),\n",
    "        padding='VALID'\n",
    "    )\n",
    "\n",
    "  def __call__(self, images):\n",
    "    patches = self.conv(images)\n",
    "    b, h, w, c = patches.shape\n",
    "    patches = jnp.reshape(patches, (b, h*w, c))\n",
    "    return patches"
   ]
  },
  {
   "cell_type": "code",
   "execution_count": 5,
   "id": "431a9448",
   "metadata": {
    "collapsed": false,
    "execution": {
     "iopub": {
      "execute_input": "2024-04-15T18:31:00.654249+00:00"
     },
     "iopub.status.busy": "2024-04-15T18:31:00.653757+00:00",
     "iopub.status.idle": "2024-04-15T18:31:00.903035+00:00",
     "shell.execute_reply": "2024-04-15T18:31:00.902321+00:00"
    },
    "id": "vkA3rripeet2",
    "jupyter": {
     "outputs_hidden": false
    }
   },
   "outputs": [],
   "source": [
    "class PatchEncoder(nn.Module):\n",
    "  hidden_dim: int\n",
    "\n",
    "  @nn.compact\n",
    "  def __call__(self, x):\n",
    "    assert x.ndim == 3\n",
    "    n, seq_len, _ = x.shape\n",
    "    # Hidden dim\n",
    "    x = nn.Dense(self.hidden_dim)(x)\n",
    "    # Add cls token\n",
    "    cls = self.param('cls_token', nn.initializers.zeros, (1, 1, self.hidden_dim))\n",
    "    cls = jnp.tile(cls, (n, 1, 1))\n",
    "    x = jnp.concatenate([cls, x], axis=1)\n",
    "    # Add position embedding\n",
    "    pos_embed = self.param(\n",
    "        'position_embedding', \n",
    "        nn.initializers.normal(stddev=0.02), # From BERT\n",
    "        (1, seq_len + 1, self.hidden_dim)\n",
    "    )\n",
    "    return x + pos_embed"
   ]
  },
  {
   "cell_type": "code",
   "execution_count": 6,
   "id": "3db56539",
   "metadata": {
    "collapsed": false,
    "execution": {
     "iopub": {
      "execute_input": "2024-04-15T18:31:00.903936+00:00"
     },
     "iopub.status.busy": "2024-04-15T18:31:00.903787+00:00",
     "iopub.status.idle": "2024-04-15T18:31:01.145037+00:00",
     "shell.execute_reply": "2024-04-15T18:31:01.144466+00:00"
    },
    "id": "03qMlD1p72M8",
    "jupyter": {
     "outputs_hidden": false
    }
   },
   "outputs": [],
   "source": [
    "class MultiHeadSelfAttention(nn.Module):\n",
    "  hidden_dim: int\n",
    "  n_heads: int\n",
    "  drop_p: float\n",
    "\n",
    "  def setup(self):\n",
    "    self.q_net = nn.Dense(self.hidden_dim)\n",
    "    self.k_net = nn.Dense(self.hidden_dim)\n",
    "    self.v_net = nn.Dense(self.hidden_dim)\n",
    "\n",
    "    self.proj_net = nn.Dense(self.hidden_dim)\n",
    "\n",
    "    self.att_drop = nn.Dropout(self.drop_p)\n",
    "    self.proj_drop = nn.Dropout(self.drop_p)\n",
    "\n",
    "  def __call__(self, x, train=True):\n",
    "    B, T, C = x.shape # batch_size, seq_length, hidden_dim\n",
    "    N, D = self.n_heads, C // self.n_heads # num_heads, head_dim\n",
    "    q = self.q_net(x).reshape(B, T, N, D).transpose(0, 2, 1, 3) # (B, N, T, D)\n",
    "    k = self.k_net(x).reshape(B, T, N, D).transpose(0, 2, 1, 3)\n",
    "    v = self.v_net(x).reshape(B, T, N, D).transpose(0, 2, 1, 3)\n",
    "\n",
    "    # weights (B, N, T, T)\n",
    "    weights = jnp.matmul(q, jnp.swapaxes(k, -2, -1)) / math.sqrt(D)\n",
    "    normalized_weights = nn.softmax(weights, axis=-1)\n",
    "\n",
    "    # attention (B, N, T, D)\n",
    "    attention = jnp.matmul(normalized_weights, v)\n",
    "    attention = self.att_drop(attention, deterministic=not train)\n",
    "\n",
    "    # gather heads\n",
    "    attention = attention.transpose(0, 2, 1, 3).reshape(B, T, N*D)\n",
    "\n",
    "    # project\n",
    "    out = self.proj_drop(self.proj_net(attention), deterministic=not train)\n",
    "\n",
    "    return out"
   ]
  },
  {
   "cell_type": "code",
   "execution_count": 7,
   "id": "7ad8a8d9",
   "metadata": {
    "collapsed": false,
    "execution": {
     "iopub": {
      "execute_input": "2024-04-15T18:31:01.326838+00:00"
     },
     "iopub.status.busy": "2024-04-15T18:31:01.326545+00:00",
     "iopub.status.idle": "2024-04-15T18:31:01.564972+00:00",
     "shell.execute_reply": "2024-04-15T18:31:01.564484+00:00"
    },
    "id": "yZ83UwjTQm9r",
    "jupyter": {
     "outputs_hidden": false
    }
   },
   "outputs": [],
   "source": [
    "class MLP(nn.Module):\n",
    "  mlp_dim: int\n",
    "  drop_p: float\n",
    "  out_dim: Optional[int] = None\n",
    "\n",
    "  @nn.compact\n",
    "  def __call__(self, inputs, train=True):\n",
    "    actual_out_dim = inputs.shape[-1] if self.out_dim is None else self.out_dim\n",
    "    x = nn.Dense(features=self.mlp_dim)(inputs)\n",
    "    x = nn.gelu(x)\n",
    "    x = nn.Dropout(rate=self.drop_p, deterministic=not train)(x)\n",
    "    x = nn.Dense(features=actual_out_dim)(x)\n",
    "    x = nn.Dropout(rate=self.drop_p, deterministic=not train)(x)\n",
    "    return x"
   ]
  },
  {
   "cell_type": "code",
   "execution_count": 8,
   "id": "49d1863c",
   "metadata": {
    "collapsed": false,
    "execution": {
     "iopub": {
      "execute_input": "2024-04-15T18:31:01.565873+00:00"
     },
     "iopub.status.busy": "2024-04-15T18:31:01.565721+00:00",
     "iopub.status.idle": "2024-04-15T18:31:01.804718+00:00",
     "shell.execute_reply": "2024-04-15T18:31:01.804221+00:00"
    },
    "id": "Oi4p-2JcHej8",
    "jupyter": {
     "outputs_hidden": false
    }
   },
   "outputs": [],
   "source": [
    "class TransformerEncoder(nn.Module):\n",
    "  embed_dim: int\n",
    "  hidden_dim: int\n",
    "  n_heads: int\n",
    "  drop_p: float\n",
    "  mlp_dim: int\n",
    "\n",
    "  def setup(self):\n",
    "    self.mha = MultiHeadSelfAttention(self.hidden_dim, self.n_heads, self.drop_p)\n",
    "    self.mlp = MLP(self.mlp_dim, self.drop_p)\n",
    "    self.layer_norm = nn.LayerNorm(epsilon=1e-6)\n",
    "  \n",
    "  def __call__(self, inputs, train=True):\n",
    "    # Attention Block\n",
    "    x = self.layer_norm(inputs)\n",
    "    x = self.mha(x, train)\n",
    "    x = inputs + x\n",
    "    # MLP block\n",
    "    y = self.layer_norm(x)\n",
    "    y = self.mlp(y, train)\n",
    "\n",
    "    return x + y"
   ]
  },
  {
   "cell_type": "code",
   "execution_count": 9,
   "id": "b2bcf734",
   "metadata": {
    "collapsed": false,
    "execution": {
     "iopub": {
      "execute_input": "2024-04-15T18:31:01.805634+00:00"
     },
     "iopub.status.busy": "2024-04-15T18:31:01.805487+00:00",
     "iopub.status.idle": "2024-04-15T18:31:02.045152+00:00",
     "shell.execute_reply": "2024-04-15T18:31:02.044646+00:00"
    },
    "id": "eq_xl6tFBrTj",
    "jupyter": {
     "outputs_hidden": false
    }
   },
   "outputs": [],
   "source": [
    "class ViT(nn.Module):\n",
    "  patch_size: int\n",
    "  embed_dim: int\n",
    "  hidden_dim: int\n",
    "  n_heads: int\n",
    "  drop_p: float\n",
    "  num_layers: int\n",
    "  mlp_dim: int\n",
    "  num_classes: int\n",
    "\n",
    "  def setup(self):\n",
    "    self.patch_extracter = Patches(self.patch_size, self.embed_dim)\n",
    "    self.patch_encoder = PatchEncoder(self.hidden_dim)\n",
    "    self.dropout = nn.Dropout(self.drop_p)\n",
    "    self.transformer_blocks = [\n",
    "      TransformerEncoder(self.embed_dim, self.hidden_dim, self.n_heads, self.drop_p, self.mlp_dim)\n",
    "      for _ in range(self.num_layers)]\n",
    "    self.cls_head = nn.Dense(features=self.num_classes)\n",
    "\n",
    "  def __call__(self, x, train=True):\n",
    "    x = self.patch_extracter(x)\n",
    "    x = self.patch_encoder(x)\n",
    "    x = self.dropout(x, deterministic=not train)\n",
    "    for block in self.transformer_blocks:\n",
    "      x = block(x, train)\n",
    "    # MLP head\n",
    "    x = x[:, 0] # [CLS] token\n",
    "    x = self.cls_head(x)\n",
    "    return x"
   ]
  },
  {
   "cell_type": "markdown",
   "id": "c69df4f5",
   "metadata": {
    "id": "Cyq9sVnClSdK"
   },
   "source": [
    "## Hyper-parameters"
   ]
  },
  {
   "cell_type": "code",
   "execution_count": 10,
   "id": "d05dc9d0",
   "metadata": {
    "collapsed": false,
    "execution": {
     "iopub": {
      "execute_input": "2024-04-15T18:31:02.797171+00:00"
     },
     "iopub.status.busy": "2024-04-15T18:31:02.797010+00:00",
     "iopub.status.idle": "2024-04-15T18:31:03.035932+00:00",
     "shell.execute_reply": "2024-04-15T18:31:03.035423+00:00"
    },
    "id": "37TDI0wIlVVd",
    "jupyter": {
     "outputs_hidden": false
    }
   },
   "outputs": [],
   "source": [
    "IMAGE_SIZE = 32\n",
    "BATCH_SIZE = 128\n",
    "DATA_MEANS = np.array([0.49139968, 0.48215841, 0.44653091])\n",
    "DATA_STD = np.array([0.24703223, 0.24348513, 0.26158784])\n",
    "CROP_SCALES = (0.8, 1.0)\n",
    "CROP_RATIO = (0.9, 1.1)\n",
    "SEED = 42"
   ]
  },
  {
   "cell_type": "markdown",
   "id": "4c5fecc6",
   "metadata": {
    "id": "6Ytr_d-335mt"
   },
   "source": [
    "## Dataset preparation(torchvision)"
   ]
  },
  {
   "cell_type": "code",
   "execution_count": 11,
   "id": "5e31ac46",
   "metadata": {
    "collapsed": false,
    "execution": {
     "iopub": {
      "execute_input": "2024-04-15T18:31:04.011385+00:00"
     },
     "iopub.status.busy": "2024-04-15T18:31:04.011217+00:00",
     "iopub.status.idle": "2024-04-15T18:31:05.137977+00:00",
     "shell.execute_reply": "2024-04-15T18:31:05.137460+00:00"
    },
    "id": "tkIV9zHp4C_f",
    "jupyter": {
     "outputs_hidden": false
    }
   },
   "outputs": [],
   "source": [
    "import torchvision\n",
    "from torchvision import transforms\n",
    "from torchvision.datasets import CIFAR10"
   ]
  },
  {
   "cell_type": "code",
   "execution_count": 12,
   "id": "56a11498",
   "metadata": {
    "collapsed": false,
    "execution": {
     "iopub": {
      "execute_input": "2024-04-15T18:31:05.138993+00:00"
     },
     "iopub.status.busy": "2024-04-15T18:31:05.138829+00:00",
     "iopub.status.idle": "2024-04-15T18:31:05.391178+00:00",
     "shell.execute_reply": "2024-04-15T18:31:05.390676+00:00"
    },
    "id": "3u7GUZ9b4SWU",
    "jupyter": {
     "outputs_hidden": false
    }
   },
   "outputs": [],
   "source": [
    "def image_to_numpy(img):\n",
    "  img = np.array(img, dtype=np.float32)\n",
    "  img = (img / 255. - DATA_MEANS) / DATA_STD\n",
    "  return img"
   ]
  },
  {
   "cell_type": "code",
   "execution_count": 13,
   "id": "1b8d4221",
   "metadata": {
    "collapsed": false,
    "execution": {
     "iopub": {
      "execute_input": "2024-04-15T18:31:05.392122+00:00"
     },
     "iopub.status.busy": "2024-04-15T18:31:05.391972+00:00",
     "iopub.status.idle": "2024-04-15T18:31:05.641655+00:00",
     "shell.execute_reply": "2024-04-15T18:31:05.641162+00:00"
    },
    "id": "G0s3OIso4xHy",
    "jupyter": {
     "outputs_hidden": false
    }
   },
   "outputs": [],
   "source": [
    "# We need to stack the batch elements\n",
    "def numpy_collate(batch):\n",
    "  if isinstance(batch[0], np.ndarray):\n",
    "    return np.stack(batch)\n",
    "  elif isinstance(batch[0], (tuple, list)):\n",
    "    transposed = zip(*batch)\n",
    "    return [numpy_collate(samples) for samples in transposed]\n",
    "  else:\n",
    "    return np.array(batch)"
   ]
  },
  {
   "cell_type": "code",
   "execution_count": 14,
   "id": "3076e2e0",
   "metadata": {
    "collapsed": false,
    "execution": {
     "iopub": {
      "execute_input": "2024-04-15T18:31:05.642316+00:00"
     },
     "iopub.status.busy": "2024-04-15T18:31:05.642174+00:00",
     "iopub.status.idle": "2024-04-15T18:31:10.831090+00:00",
     "shell.execute_reply": "2024-04-15T18:31:10.830440+00:00"
    },
    "id": "lynE6uoGLEeq",
    "jupyter": {
     "outputs_hidden": false
    }
   },
   "outputs": [
    {
     "name": "stdout",
     "output_type": "stream",
     "text": [
      "Downloading https://www.cs.toronto.edu/~kriz/cifar-10-python.tar.gz to data/cifar-10-python.tar.gz\n"
     ]
    },
    {
     "name": "stderr",
     "output_type": "stream",
     "text": [
      "\r",
      "  0%|          | 0/170498071 [00:00<?, ?it/s]"
     ]
    },
    {
     "name": "stderr",
     "output_type": "stream",
     "text": [
      "\r",
      "  2%|▏         | 4030464/170498071 [00:00<00:04, 40254963.18it/s]"
     ]
    },
    {
     "name": "stderr",
     "output_type": "stream",
     "text": [
      "\r",
      "  7%|▋         | 11796480/170498071 [00:00<00:02, 62122529.41it/s]"
     ]
    },
    {
     "name": "stderr",
     "output_type": "stream",
     "text": [
      "\r",
      " 12%|█▏        | 21200896/170498071 [00:00<00:01, 76611162.47it/s]"
     ]
    },
    {
     "name": "stderr",
     "output_type": "stream",
     "text": [
      "\r",
      " 17%|█▋        | 29130752/170498071 [00:00<00:01, 77656324.89it/s]"
     ]
    },
    {
     "name": "stderr",
     "output_type": "stream",
     "text": [
      "\r",
      " 22%|██▏       | 38141952/170498071 [00:00<00:01, 82101850.36it/s]"
     ]
    },
    {
     "name": "stderr",
     "output_type": "stream",
     "text": [
      "\r",
      " 27%|██▋       | 46366720/170498071 [00:00<00:01, 80639557.65it/s]"
     ]
    },
    {
     "name": "stderr",
     "output_type": "stream",
     "text": [
      "\r",
      " 33%|███▎      | 55738368/170498071 [00:00<00:01, 84828300.23it/s]"
     ]
    },
    {
     "name": "stderr",
     "output_type": "stream",
     "text": [
      "\r",
      " 38%|███▊      | 64258048/170498071 [00:00<00:01, 81847654.03it/s]"
     ]
    },
    {
     "name": "stderr",
     "output_type": "stream",
     "text": [
      "\r",
      " 43%|████▎     | 73957376/170498071 [00:00<00:01, 86412395.66it/s]"
     ]
    },
    {
     "name": "stderr",
     "output_type": "stream",
     "text": [
      "\r",
      " 48%|████▊     | 82640896/170498071 [00:01<00:01, 81945050.88it/s]"
     ]
    },
    {
     "name": "stderr",
     "output_type": "stream",
     "text": [
      "\r",
      " 54%|█████▍    | 92176384/170498071 [00:01<00:00, 85618074.62it/s]"
     ]
    },
    {
     "name": "stderr",
     "output_type": "stream",
     "text": [
      "\r",
      " 59%|█████▉    | 100827136/170498071 [00:01<00:00, 82720802.73it/s]"
     ]
    },
    {
     "name": "stderr",
     "output_type": "stream",
     "text": [
      "\r",
      " 65%|██████▍   | 110133248/170498071 [00:01<00:00, 85559789.11it/s]"
     ]
    },
    {
     "name": "stderr",
     "output_type": "stream",
     "text": [
      "\r",
      " 70%|██████▉   | 118751232/170498071 [00:01<00:00, 83517699.83it/s]"
     ]
    },
    {
     "name": "stderr",
     "output_type": "stream",
     "text": [
      "\r",
      " 75%|███████▍  | 127795200/170498071 [00:01<00:00, 85509039.91it/s]"
     ]
    },
    {
     "name": "stderr",
     "output_type": "stream",
     "text": [
      "\r",
      " 80%|████████  | 136413184/170498071 [00:01<00:00, 83015663.94it/s]"
     ]
    },
    {
     "name": "stderr",
     "output_type": "stream",
     "text": [
      "\r",
      " 85%|████████▌ | 145293312/170498071 [00:01<00:00, 84570325.84it/s]"
     ]
    },
    {
     "name": "stderr",
     "output_type": "stream",
     "text": [
      "\r",
      " 90%|█████████ | 153812992/170498071 [00:01<00:00, 83067462.68it/s]"
     ]
    },
    {
     "name": "stderr",
     "output_type": "stream",
     "text": [
      "\r",
      " 95%|█████████▌| 162562048/170498071 [00:01<00:00, 84173560.55it/s]"
     ]
    },
    {
     "name": "stderr",
     "output_type": "stream",
     "text": [
      "\r",
      "100%|██████████| 170498071/170498071 [00:02<00:00, 81961717.75it/s]"
     ]
    },
    {
     "name": "stderr",
     "output_type": "stream",
     "text": [
      "\n"
     ]
    },
    {
     "name": "stdout",
     "output_type": "stream",
     "text": [
      "Extracting data/cifar-10-python.tar.gz to data\n"
     ]
    },
    {
     "name": "stdout",
     "output_type": "stream",
     "text": [
      "Files already downloaded and verified\n"
     ]
    },
    {
     "name": "stdout",
     "output_type": "stream",
     "text": [
      "Files already downloaded and verified\n"
     ]
    }
   ],
   "source": [
    "test_transform = image_to_numpy\n",
    "# For training, we add some augmentations. Neworks are too powerful and would overfit.\n",
    "train_transform = transforms.Compose([\n",
    "    transforms.RandomHorizontalFlip(),\n",
    "    transforms.RandomResizedCrop((IMAGE_SIZE, IMAGE_SIZE), scale=CROP_SCALES, ratio=CROP_RATIO),\n",
    "    image_to_numpy\n",
    "])\n",
    "\n",
    "# Validation set should not use the augmentation.\n",
    "train_dataset = CIFAR10('data', train=True, transform=train_transform, download=True)\n",
    "val_dataset = CIFAR10('data', train=True, transform=test_transform, download=True)\n",
    "train_set, _ = torch.utils.data.random_split(train_dataset, [45000, 5000], generator=torch.Generator().manual_seed(SEED))\n",
    "_, val_set = torch.utils.data.random_split(val_dataset, [45000, 5000], generator=torch.Generator().manual_seed(SEED))\n",
    "test_set = CIFAR10('data', train=False, transform=test_transform, download=True)\n",
    "\n",
    "train_loader = torch.utils.data.DataLoader(\n",
    "    train_set, batch_size=BATCH_SIZE, shuffle=True, drop_last=True, num_workers=2, persistent_workers=True, collate_fn=numpy_collate,\n",
    ")\n",
    "val_loader = torch.utils.data.DataLoader(\n",
    "    val_set, batch_size=BATCH_SIZE, shuffle=False, drop_last=False, num_workers=2, persistent_workers=True, collate_fn=numpy_collate,\n",
    ")\n",
    "test_loader = torch.utils.data.DataLoader(\n",
    "    test_set, batch_size=BATCH_SIZE, shuffle=False, drop_last=False, num_workers=2, persistent_workers=True, collate_fn=numpy_collate,\n",
    ")"
   ]
  },
  {
   "cell_type": "code",
   "execution_count": 15,
   "id": "3f006c3f",
   "metadata": {
    "collapsed": false,
    "execution": {
     "iopub": {
      "execute_input": "2024-04-15T18:31:10.832497+00:00"
     },
     "iopub.status.busy": "2024-04-15T18:31:10.832317+00:00",
     "iopub.status.idle": "2024-04-15T18:31:11.585447+00:00",
     "shell.execute_reply": "2024-04-15T18:31:11.584932+00:00"
    },
    "id": "Tmgh8MFknu4M",
    "jupyter": {
     "outputs_hidden": false
    }
   },
   "outputs": [
    {
     "data": {
      "text/html": [
       "<pre style=\"white-space:pre;overflow-x:auto;line-height:normal;font-family:Menlo,'DejaVu Sans Mono',consolas,'Courier New',monospace\">image: <span style=\"font-weight: bold\">(</span><span style=\"color: #008080; text-decoration-color: #008080; font-weight: bold\">128</span>, <span style=\"color: #008080; text-decoration-color: #008080; font-weight: bold\">32</span>, <span style=\"color: #008080; text-decoration-color: #008080; font-weight: bold\">32</span>, <span style=\"color: #008080; text-decoration-color: #008080; font-weight: bold\">3</span><span style=\"font-weight: bold\">)</span>, label: <span style=\"font-weight: bold\">(</span><span style=\"color: #008080; text-decoration-color: #008080; font-weight: bold\">128</span>,<span style=\"font-weight: bold\">)</span>\n",
       "</pre>\n"
      ],
      "text/plain": [
       "image: \u001b[1m(\u001b[0m\u001b[1;36m128\u001b[0m, \u001b[1;36m32\u001b[0m, \u001b[1;36m32\u001b[0m, \u001b[1;36m3\u001b[0m\u001b[1m)\u001b[0m, label: \u001b[1m(\u001b[0m\u001b[1;36m128\u001b[0m,\u001b[1m)\u001b[0m\n"
      ]
     },
     "metadata": {},
     "output_type": "display_data"
    },
    {
     "data": {
      "text/html": [
       "<pre style=\"white-space:pre;overflow-x:auto;line-height:normal;font-family:Menlo,'DejaVu Sans Mono',consolas,'Courier New',monospace\">type batch<span style=\"font-weight: bold\">[</span><span style=\"color: #008080; text-decoration-color: #008080; font-weight: bold\">0</span><span style=\"font-weight: bold\">]</span>: <span style=\"font-weight: bold\">&lt;</span><span style=\"color: #ff00ff; text-decoration-color: #ff00ff; font-weight: bold\">class</span><span style=\"color: #000000; text-decoration-color: #000000\"> </span><span style=\"color: #008000; text-decoration-color: #008000\">'numpy.ndarray'</span><span style=\"color: #000000; text-decoration-color: #000000\">&gt;, batch</span><span style=\"color: #000000; text-decoration-color: #000000; font-weight: bold\">[</span><span style=\"color: #008080; text-decoration-color: #008080; font-weight: bold\">1</span><span style=\"color: #000000; text-decoration-color: #000000; font-weight: bold\">]</span><span style=\"color: #000000; text-decoration-color: #000000\">: &lt;class </span><span style=\"color: #008000; text-decoration-color: #008000\">'numpy.ndarray'</span><span style=\"font-weight: bold\">&gt;</span>\n",
       "</pre>\n"
      ],
      "text/plain": [
       "type batch\u001b[1m[\u001b[0m\u001b[1;36m0\u001b[0m\u001b[1m]\u001b[0m: \u001b[1m<\u001b[0m\u001b[1;95mclass\u001b[0m\u001b[39m \u001b[0m\u001b[32m'numpy.ndarray'\u001b[0m\u001b[39m>, batch\u001b[0m\u001b[1;39m[\u001b[0m\u001b[1;36m1\u001b[0m\u001b[1;39m]\u001b[0m\u001b[39m: <class \u001b[0m\u001b[32m'numpy.ndarray'\u001b[0m\u001b[1m>\u001b[0m\n"
      ]
     },
     "metadata": {},
     "output_type": "display_data"
    }
   ],
   "source": [
    "batch = next(iter(train_loader))\n",
    "print(f'image: {batch[0].shape}, label: {batch[1].shape}')\n",
    "print(f'type batch[0]: {type(batch[0])}, batch[1]: {type(batch[1])}')"
   ]
  },
  {
   "cell_type": "code",
   "execution_count": 16,
   "id": "11ec6c83",
   "metadata": {
    "collapsed": false,
    "execution": {
     "iopub": {
      "execute_input": "2024-04-15T18:31:12.721205+00:00"
     },
     "iopub.status.busy": "2024-04-15T18:31:12.721020+00:00",
     "iopub.status.idle": "2024-04-15T18:31:13.282308+00:00",
     "shell.execute_reply": "2024-04-15T18:31:13.281902+00:00"
    },
    "id": "VIqoANBI71qj",
    "jupyter": {
     "outputs_hidden": false
    }
   },
   "outputs": [
    {
     "data": {
      "image/png": "[encoded data removed]",
      "text/plain": [
       "<Figure size 800x800 with 1 Axes>"
      ]
     },
     "metadata": {},
     "output_type": "display_data"
    }
   ],
   "source": [
    "# Visualize some examples\n",
    "def numpy_to_torch(array):\n",
    "  array = jax.device_get(array)\n",
    "  tensor = torch.from_numpy(array)\n",
    "  tensor = tensor.permute(0, 3, 1, 2)\n",
    "  return tensor\n",
    "\n",
    "NUM_IMAGES = 8\n",
    "CIFAR_images = np.stack([val_set[idx][0] for idx in range(NUM_IMAGES)], axis=0)\n",
    "img_grid = torchvision.utils.make_grid(numpy_to_torch(CIFAR_images), nrow=4, normalize=True, pad_value=0.9)\n",
    "img_grid = img_grid.permute(1, 2, 0)\n",
    "\n",
    "plt.figure(figsize=(8,8))\n",
    "plt.title(\"Image examples of the CIFAR10 dataset\")\n",
    "plt.imshow(img_grid)\n",
    "plt.axis('off')\n",
    "plt.show()\n",
    "plt.close()"
   ]
  },
  {
   "cell_type": "markdown",
   "id": "126fa2ba",
   "metadata": {
    "id": "wCcAE57QLZss"
   },
   "source": [
    "## Initialize model"
   ]
  },
  {
   "cell_type": "code",
   "execution_count": 17,
   "id": "81171dd7",
   "metadata": {
    "collapsed": false,
    "execution": {
     "iopub": {
      "execute_input": "2024-04-15T18:31:15.434993+00:00"
     },
     "iopub.status.busy": "2024-04-15T18:31:15.434817+00:00",
     "iopub.status.idle": "2024-04-15T18:31:15.686403+00:00",
     "shell.execute_reply": "2024-04-15T18:31:15.685967+00:00"
    },
    "id": "zCz8JPL2NY9O",
    "jupyter": {
     "outputs_hidden": false
    }
   },
   "outputs": [],
   "source": [
    "def initialize_model(\n",
    "    seed=42,\n",
    "    patch_size=4, embed_dim=64, hidden_dim=192,\n",
    "    n_heads=3, drop_p=0.1, num_layers=12, mlp_dim=768, num_classes=10\n",
    "):\n",
    "  main_rng = jax.random.PRNGKey(seed)\n",
    "  x = jnp.ones(shape=(5, 32, 32, 3))\n",
    "  # ViT\n",
    "  model = ViT(\n",
    "      patch_size=patch_size,\n",
    "      embed_dim=embed_dim,\n",
    "      hidden_dim=hidden_dim,\n",
    "      n_heads=n_heads,\n",
    "      drop_p=drop_p,\n",
    "      num_layers=num_layers,\n",
    "      mlp_dim=mlp_dim,\n",
    "      num_classes=num_classes\n",
    "  )\n",
    "  main_rng, init_rng, drop_rng = random.split(main_rng, 3)\n",
    "  params = model.init({'params': init_rng, 'dropout': drop_rng}, x, train=True)['params']\n",
    "  return model, params, main_rng"
   ]
  },
  {
   "cell_type": "code",
   "execution_count": 18,
   "id": "a79a825b",
   "metadata": {
    "collapsed": false,
    "execution": {
     "iopub": {
      "execute_input": "2024-04-15T18:31:15.868469+00:00"
     },
     "iopub.status.busy": "2024-04-15T18:31:15.868173+00:00",
     "iopub.status.idle": "2024-04-15T18:31:33.140696+00:00",
     "shell.execute_reply": "2024-04-15T18:31:33.140204+00:00"
    },
    "id": "zUG69x8ganiH",
    "jupyter": {
     "outputs_hidden": false
    }
   },
   "outputs": [],
   "source": [
    "vit_model, vit_params, vit_rng = initialize_model()"
   ]
  },
  {
   "cell_type": "code",
   "execution_count": 19,
   "id": "ac95025d",
   "metadata": {
    "collapsed": false,
    "execution": {
     "iopub": {
      "execute_input": "2024-04-15T18:31:33.141660+00:00"
     },
     "iopub.status.busy": "2024-04-15T18:31:33.141506+00:00",
     "iopub.status.idle": "2024-04-15T18:31:33.402052+00:00",
     "shell.execute_reply": "2024-04-15T18:31:33.401612+00:00"
    },
    "id": "jaTTZRuCcDyc",
    "jupyter": {
     "outputs_hidden": false
    }
   },
   "outputs": [
    {
     "data": {
      "text/plain": [
       "{'cls_head': {'bias': (10,), 'kernel': (192, 10)},\n",
       " 'patch_encoder': {'Dense_0': {'bias': (192,), 'kernel': (64, 192)},\n",
       "  'cls_token': (1, 1, 192),\n",
       "  'position_embedding': (1, 65, 192)},\n",
       " 'patch_extracter': {'conv': {'bias': (64,), 'kernel': (4, 4, 3, 64)}},\n",
       " 'transformer_blocks_0': {'layer_norm': {'bias': (192,), 'scale': (192,)},\n",
       "  'mha': {'k_net': {'bias': (192,), 'kernel': (192, 192)},\n",
       "   'proj_net': {'bias': (192,), 'kernel': (192, 192)},\n",
       "   'q_net': {'bias': (192,), 'kernel': (192, 192)},\n",
       "   'v_net': {'bias': (192,), 'kernel': (192, 192)}},\n",
       "  'mlp': {'Dense_0': {'bias': (768,), 'kernel': (192, 768)},\n",
       "   'Dense_1': {'bias': (192,), 'kernel': (768, 192)}}},\n",
       " 'transformer_blocks_1': {'layer_norm': {'bias': (192,), 'scale': (192,)},\n",
       "  'mha': {'k_net': {'bias': (192,), 'kernel': (192, 192)},\n",
       "   'proj_net': {'bias': (192,), 'kernel': (192, 192)},\n",
       "   'q_net': {'bias': (192,), 'kernel': (192, 192)},\n",
       "   'v_net': {'bias': (192,), 'kernel': (192, 192)}},\n",
       "  'mlp': {'Dense_0': {'bias': (768,), 'kernel': (192, 768)},\n",
       "   'Dense_1': {'bias': (192,), 'kernel': (768, 192)}}},\n",
       " 'transformer_blocks_10': {'layer_norm': {'bias': (192,), 'scale': (192,)},\n",
       "  'mha': {'k_net': {'bias': (192,), 'kernel': (192, 192)},\n",
       "   'proj_net': {'bias': (192,), 'kernel': (192, 192)},\n",
       "   'q_net': {'bias': (192,), 'kernel': (192, 192)},\n",
       "   'v_net': {'bias': (192,), 'kernel': (192, 192)}},\n",
       "  'mlp': {'Dense_0': {'bias': (768,), 'kernel': (192, 768)},\n",
       "   'Dense_1': {'bias': (192,), 'kernel': (768, 192)}}},\n",
       " 'transformer_blocks_11': {'layer_norm': {'bias': (192,), 'scale': (192,)},\n",
       "  'mha': {'k_net': {'bias': (192,), 'kernel': (192, 192)},\n",
       "   'proj_net': {'bias': (192,), 'kernel': (192, 192)},\n",
       "   'q_net': {'bias': (192,), 'kernel': (192, 192)},\n",
       "   'v_net': {'bias': (192,), 'kernel': (192, 192)}},\n",
       "  'mlp': {'Dense_0': {'bias': (768,), 'kernel': (192, 768)},\n",
       "   'Dense_1': {'bias': (192,), 'kernel': (768, 192)}}},\n",
       " 'transformer_blocks_2': {'layer_norm': {'bias': (192,), 'scale': (192,)},\n",
       "  'mha': {'k_net': {'bias': (192,), 'kernel': (192, 192)},\n",
       "   'proj_net': {'bias': (192,), 'kernel': (192, 192)},\n",
       "   'q_net': {'bias': (192,), 'kernel': (192, 192)},\n",
       "   'v_net': {'bias': (192,), 'kernel': (192, 192)}},\n",
       "  'mlp': {'Dense_0': {'bias': (768,), 'kernel': (192, 768)},\n",
       "   'Dense_1': {'bias': (192,), 'kernel': (768, 192)}}},\n",
       " 'transformer_blocks_3': {'layer_norm': {'bias': (192,), 'scale': (192,)},\n",
       "  'mha': {'k_net': {'bias': (192,), 'kernel': (192, 192)},\n",
       "   'proj_net': {'bias': (192,), 'kernel': (192, 192)},\n",
       "   'q_net': {'bias': (192,), 'kernel': (192, 192)},\n",
       "   'v_net': {'bias': (192,), 'kernel': (192, 192)}},\n",
       "  'mlp': {'Dense_0': {'bias': (768,), 'kernel': (192, 768)},\n",
       "   'Dense_1': {'bias': (192,), 'kernel': (768, 192)}}},\n",
       " 'transformer_blocks_4': {'layer_norm': {'bias': (192,), 'scale': (192,)},\n",
       "  'mha': {'k_net': {'bias': (192,), 'kernel': (192, 192)},\n",
       "   'proj_net': {'bias': (192,), 'kernel': (192, 192)},\n",
       "   'q_net': {'bias': (192,), 'kernel': (192, 192)},\n",
       "   'v_net': {'bias': (192,), 'kernel': (192, 192)}},\n",
       "  'mlp': {'Dense_0': {'bias': (768,), 'kernel': (192, 768)},\n",
       "   'Dense_1': {'bias': (192,), 'kernel': (768, 192)}}},\n",
       " 'transformer_blocks_5': {'layer_norm': {'bias': (192,), 'scale': (192,)},\n",
       "  'mha': {'k_net': {'bias': (192,), 'kernel': (192, 192)},\n",
       "   'proj_net': {'bias': (192,), 'kernel': (192, 192)},\n",
       "   'q_net': {'bias': (192,), 'kernel': (192, 192)},\n",
       "   'v_net': {'bias': (192,), 'kernel': (192, 192)}},\n",
       "  'mlp': {'Dense_0': {'bias': (768,), 'kernel': (192, 768)},\n",
       "   'Dense_1': {'bias': (192,), 'kernel': (768, 192)}}},\n",
       " 'transformer_blocks_6': {'layer_norm': {'bias': (192,), 'scale': (192,)},\n",
       "  'mha': {'k_net': {'bias': (192,), 'kernel': (192, 192)},\n",
       "   'proj_net': {'bias': (192,), 'kernel': (192, 192)},\n",
       "   'q_net': {'bias': (192,), 'kernel': (192, 192)},\n",
       "   'v_net': {'bias': (192,), 'kernel': (192, 192)}},\n",
       "  'mlp': {'Dense_0': {'bias': (768,), 'kernel': (192, 768)},\n",
       "   'Dense_1': {'bias': (192,), 'kernel': (768, 192)}}},\n",
       " 'transformer_blocks_7': {'layer_norm': {'bias': (192,), 'scale': (192,)},\n",
       "  'mha': {'k_net': {'bias': (192,), 'kernel': (192, 192)},\n",
       "   'proj_net': {'bias': (192,), 'kernel': (192, 192)},\n",
       "   'q_net': {'bias': (192,), 'kernel': (192, 192)},\n",
       "   'v_net': {'bias': (192,), 'kernel': (192, 192)}},\n",
       "  'mlp': {'Dense_0': {'bias': (768,), 'kernel': (192, 768)},\n",
       "   'Dense_1': {'bias': (192,), 'kernel': (768, 192)}}},\n",
       " 'transformer_blocks_8': {'layer_norm': {'bias': (192,), 'scale': (192,)},\n",
       "  'mha': {'k_net': {'bias': (192,), 'kernel': (192, 192)},\n",
       "   'proj_net': {'bias': (192,), 'kernel': (192, 192)},\n",
       "   'q_net': {'bias': (192,), 'kernel': (192, 192)},\n",
       "   'v_net': {'bias': (192,), 'kernel': (192, 192)}},\n",
       "  'mlp': {'Dense_0': {'bias': (768,), 'kernel': (192, 768)},\n",
       "   'Dense_1': {'bias': (192,), 'kernel': (768, 192)}}},\n",
       " 'transformer_blocks_9': {'layer_norm': {'bias': (192,), 'scale': (192,)},\n",
       "  'mha': {'k_net': {'bias': (192,), 'kernel': (192, 192)},\n",
       "   'proj_net': {'bias': (192,), 'kernel': (192, 192)},\n",
       "   'q_net': {'bias': (192,), 'kernel': (192, 192)},\n",
       "   'v_net': {'bias': (192,), 'kernel': (192, 192)}},\n",
       "  'mlp': {'Dense_0': {'bias': (768,), 'kernel': (192, 768)},\n",
       "   'Dense_1': {'bias': (192,), 'kernel': (768, 192)}}}}"
      ]
     },
     "execution_count": 19,
     "metadata": {},
     "output_type": "execute_result"
    }
   ],
   "source": [
    "jax.tree_map(lambda x: x.shape, vit_params)"
   ]
  },
  {
   "cell_type": "markdown",
   "id": "d353e71a",
   "metadata": {
    "id": "FYu8XbQbfDx_"
   },
   "source": [
    "## Define loss"
   ]
  },
  {
   "cell_type": "code",
   "execution_count": 20,
   "id": "25c2139e",
   "metadata": {
    "collapsed": false,
    "execution": {
     "iopub": {
      "execute_input": "2024-04-15T18:31:33.402674+00:00"
     },
     "iopub.status.busy": "2024-04-15T18:31:33.402535+00:00",
     "iopub.status.idle": "2024-04-15T18:31:33.653061+00:00",
     "shell.execute_reply": "2024-04-15T18:31:33.652587+00:00"
    },
    "id": "-geg2pmOoOwX",
    "jupyter": {
     "outputs_hidden": false
    }
   },
   "outputs": [],
   "source": [
    "def calculate_loss(params, state, rng, batch, train):\n",
    "  imgs, labels = batch\n",
    "  rng, drop_rng = random.split(rng)\n",
    "  logits = state.apply_fn({'params': params}, imgs, train=train, rngs={'dropout': drop_rng})\n",
    "  loss = optax.softmax_cross_entropy_with_integer_labels(logits=logits, labels=labels).mean()\n",
    "  acc = (logits.argmax(axis=-1) == labels).mean()\n",
    "  return loss, (acc, rng)"
   ]
  },
  {
   "cell_type": "markdown",
   "id": "475c4cae",
   "metadata": {
    "id": "PtEHCv7Nr23i"
   },
   "source": [
    "## Train step"
   ]
  },
  {
   "cell_type": "code",
   "execution_count": 21,
   "id": "2b3ba8a8",
   "metadata": {
    "collapsed": false,
    "execution": {
     "iopub": {
      "execute_input": "2024-04-15T18:31:34.294077+00:00"
     },
     "iopub.status.busy": "2024-04-15T18:31:34.293772+00:00",
     "iopub.status.idle": "2024-04-15T18:31:34.540961+00:00",
     "shell.execute_reply": "2024-04-15T18:31:34.540511+00:00"
    },
    "id": "bLvmNll-pLzA",
    "jupyter": {
     "outputs_hidden": false
    }
   },
   "outputs": [],
   "source": [
    "@jax.jit\n",
    "def train_step(state, rng, batch):\n",
    "  loss_fn = lambda params: calculate_loss(params, state, rng, batch, train=True)\n",
    "  # Get loss, gradients for loss, and other outputs of loss function\n",
    "  (loss, (acc, rng)), grads = jax.value_and_grad(loss_fn, has_aux=True)(state.params)\n",
    "  # Update parameters and batch statistics\n",
    "  state = state.apply_gradients(grads=grads)\n",
    "  return state, rng, loss, acc"
   ]
  },
  {
   "cell_type": "markdown",
   "id": "c549f390",
   "metadata": {
    "id": "17PIif-er6RP"
   },
   "source": [
    "## Evaluate step"
   ]
  },
  {
   "cell_type": "code",
   "execution_count": 22,
   "id": "ab9ee3dd",
   "metadata": {
    "collapsed": false,
    "execution": {
     "iopub": {
      "execute_input": "2024-04-15T18:31:35.126046+00:00"
     },
     "iopub.status.busy": "2024-04-15T18:31:35.125855+00:00",
     "iopub.status.idle": "2024-04-15T18:31:35.376261+00:00",
     "shell.execute_reply": "2024-04-15T18:31:35.375797+00:00"
    },
    "id": "TyXw0Q1d89HR",
    "jupyter": {
     "outputs_hidden": false
    }
   },
   "outputs": [],
   "source": [
    "@jax.jit\n",
    "def eval_step(state, rng, batch):\n",
    "  _, (acc, rng) = calculate_loss(state.params, state, rng, batch, train=False)\n",
    "  return rng, acc"
   ]
  },
  {
   "cell_type": "code",
   "execution_count": 23,
   "id": "b4e77932",
   "metadata": {
    "collapsed": false,
    "execution": {
     "iopub": {
      "execute_input": "2024-04-15T18:31:35.602042+00:00"
     },
     "iopub.status.busy": "2024-04-15T18:31:35.601889+00:00",
     "iopub.status.idle": "2024-04-15T18:31:35.853919+00:00",
     "shell.execute_reply": "2024-04-15T18:31:35.853474+00:00"
    },
    "id": "NHXSxZ2o6_a_",
    "jupyter": {
     "outputs_hidden": false
    }
   },
   "outputs": [],
   "source": [
    "logger = SummaryWriter(log_dir='vit_jax_logs')"
   ]
  },
  {
   "cell_type": "markdown",
   "id": "82343a7e",
   "metadata": {
    "id": "O408vD15sJl9"
   },
   "source": [
    "## Train function"
   ]
  },
  {
   "cell_type": "code",
   "execution_count": 24,
   "id": "82cbd347",
   "metadata": {
    "collapsed": false,
    "execution": {
     "iopub": {
      "execute_input": "2024-04-15T18:31:37.396052+00:00"
     },
     "iopub.status.busy": "2024-04-15T18:31:37.395794+00:00",
     "iopub.status.idle": "2024-04-15T18:31:37.643745+00:00",
     "shell.execute_reply": "2024-04-15T18:31:37.643289+00:00"
    },
    "id": "5Wj9i4EU2LL9",
    "jupyter": {
     "outputs_hidden": false,
     "source_hidden": false
    }
   },
   "outputs": [],
   "source": [
    "def train_epoch(train_loader, epoch_idx, state, rng):\n",
    "  metrics = defaultdict(list)\n",
    "  for batch in tqdm(train_loader, desc='Training', leave=False):\n",
    "    state, rng, loss, acc = train_step(state, rng, batch)\n",
    "    metrics['loss'].append(loss)\n",
    "    metrics['acc'].append(acc)\n",
    "  for key in metrics.keys():\n",
    "    arg_val = np.stack(jax.device_get(metrics[key])).mean()\n",
    "    logger.add_scalar('train/' + key, arg_val, global_step=epoch_idx)\n",
    "    print(f'[epoch {epoch_idx}] {key}: {arg_val}')\n",
    "  return state, rng"
   ]
  },
  {
   "cell_type": "markdown",
   "id": "199c9576",
   "metadata": {
    "id": "G2NHLygSsK3v"
   },
   "source": [
    "## Evaluate function"
   ]
  },
  {
   "cell_type": "code",
   "execution_count": 25,
   "id": "dd136dc7",
   "metadata": {
    "collapsed": false,
    "execution": {
     "iopub": {
      "execute_input": "2024-04-15T18:31:40.663138+00:00"
     },
     "iopub.status.busy": "2024-04-15T18:31:40.662811+00:00",
     "iopub.status.idle": "2024-04-15T18:31:40.912993+00:00",
     "shell.execute_reply": "2024-04-15T18:31:40.912603+00:00"
    },
    "id": "BaOva65J8Ay2",
    "jupyter": {
     "outputs_hidden": false
    }
   },
   "outputs": [],
   "source": [
    "def eval_model(data_loader, state, rng):\n",
    "  # Test model on all images of a data loader and return avg loss\n",
    "  correct_class, count = 0, 0\n",
    "  for batch in data_loader:\n",
    "    rng, acc = eval_step(state, rng, batch)\n",
    "    correct_class += acc * batch[0].shape[0]\n",
    "    count += batch[0].shape[0]\n",
    "  eval_acc = (correct_class / count).item()\n",
    "  return eval_acc"
   ]
  },
  {
   "cell_type": "markdown",
   "id": "2c87f827",
   "metadata": {
    "id": "ovbKehyOsU8Q"
   },
   "source": [
    "## Train model"
   ]
  },
  {
   "cell_type": "code",
   "execution_count": 26,
   "id": "a59bdfaf",
   "metadata": {
    "collapsed": false,
    "execution": {
     "iopub": {
      "execute_input": "2024-04-15T18:32:07.656485+00:00"
     },
     "iopub.status.busy": "2024-04-15T18:32:07.656268+00:00",
     "iopub.status.idle": "2024-04-15T18:32:07.909583+00:00",
     "shell.execute_reply": "2024-04-15T18:32:07.909113+00:00"
    },
    "id": "0yLMra-C3-xC",
    "jupyter": {
     "outputs_hidden": false
    }
   },
   "outputs": [],
   "source": [
    "def train_model(train_loader, val_loader, state, rng, num_epochs=100):\n",
    "  best_eval = 0.0\n",
    "  for epoch_idx in tqdm(range(1, num_epochs + 1)):\n",
    "    state, rng = train_epoch(train_loader, epoch_idx, state, rng)\n",
    "    if epoch_idx % 1 == 0:\n",
    "      eval_acc = eval_model(val_loader, state, rng)\n",
    "      logger.add_scalar('val/acc', eval_acc, global_step=epoch_idx)\n",
    "      if eval_acc >= best_eval:\n",
    "        best_eval = eval_acc\n",
    "        save_model(state, step=epoch_idx)\n",
    "      logger.flush()\n",
    "  # Evaluate after training\n",
    "  test_acc = eval_model(test_loader, state, rng)\n",
    "  print(f'test_acc: {test_acc}')"
   ]
  },
  {
   "cell_type": "markdown",
   "id": "9046c889",
   "metadata": {
    "id": "6vSMAOGysXtm"
   },
   "source": [
    "## Create train state"
   ]
  },
  {
   "cell_type": "code",
   "execution_count": 27,
   "id": "9fc162ec",
   "metadata": {
    "collapsed": false,
    "execution": {
     "iopub": {
      "execute_input": "2024-04-15T18:32:09.778150+00:00"
     },
     "iopub.status.busy": "2024-04-15T18:32:09.777963+00:00",
     "iopub.status.idle": "2024-04-15T18:32:10.025846+00:00",
     "shell.execute_reply": "2024-04-15T18:32:10.025396+00:00"
    },
    "id": "BQtd9GoQRFtJ",
    "jupyter": {
     "outputs_hidden": false
    }
   },
   "outputs": [],
   "source": [
    "def create_train_state(\n",
    "    model, params, learning_rate\n",
    "):\n",
    "  optimizer = optax.adam(learning_rate)\n",
    "  return train_state.TrainState.create(\n",
    "      apply_fn=model.apply,\n",
    "      tx=optimizer,\n",
    "      params=params\n",
    "  )"
   ]
  },
  {
   "cell_type": "markdown",
   "id": "ca6dc360",
   "metadata": {
    "id": "SYnlWm6TsQ0-"
   },
   "source": [
    "## Save model"
   ]
  },
  {
   "cell_type": "code",
   "execution_count": 28,
   "id": "27213632",
   "metadata": {
    "collapsed": false,
    "execution": {
     "iopub": {
      "execute_input": "2024-04-15T18:32:11.283973+00:00"
     },
     "iopub.status.busy": "2024-04-15T18:32:11.283798+00:00",
     "iopub.status.idle": "2024-04-15T18:32:11.529052+00:00",
     "shell.execute_reply": "2024-04-15T18:32:11.528560+00:00"
    },
    "id": "SW0BlojZ-a1c",
    "jupyter": {
     "outputs_hidden": false
    }
   },
   "outputs": [],
   "source": [
    "def save_model(state, step=0):\n",
    "  checkpoints.save_checkpoint(ckpt_dir='vit_jax_logs', target=state.params, step=step, overwrite=True)"
   ]
  },
  {
   "cell_type": "markdown",
   "id": "d9712522",
   "metadata": {
    "id": "WafQ6llqsAxq"
   },
   "source": [
    "## Training"
   ]
  },
  {
   "cell_type": "code",
   "execution_count": 29,
   "id": "e6294b5e",
   "metadata": {
    "collapsed": false,
    "execution": {
     "iopub": {
      "execute_input": "2024-04-15T18:32:12.508951+00:00"
     },
     "iopub.status.busy": "2024-04-15T18:32:12.508786+00:00",
     "iopub.status.idle": "2024-04-15T18:32:13.006040+00:00",
     "shell.execute_reply": "2024-04-15T18:32:13.005574+00:00"
    },
    "id": "sXDI4K55Rdan",
    "jupyter": {
     "outputs_hidden": false
    }
   },
   "outputs": [],
   "source": [
    "state = create_train_state(vit_model, vit_params, 3e-4)"
   ]
  },
  {
   "cell_type": "code",
   "execution_count": 30,
   "id": "38610625",
   "metadata": {
    "collapsed": false,
    "execution": {
     "iopub": {
      "execute_input": "2024-04-15T18:32:13.006923+00:00"
     },
     "iopub.status.busy": "2024-04-15T18:32:13.006778+00:00",
     "iopub.status.idle": "2024-04-15T18:34:34.153015+00:00",
     "shell.execute_reply": "2024-04-15T18:34:34.152236+00:00"
    },
    "id": "CEW1gpM8_R66",
    "jupyter": {
     "outputs_hidden": false
    }
   },
   "outputs": [
    {
     "data": {
      "application/vnd.jupyter.widget-view+json": {
       "model_id": "91c3b3e1358349ba9c5eefbeba036a64",
       "version_major": 2,
       "version_minor": 0
      },
      "text/plain": [
       "  0%|          | 0/100 [00:00<?, ?it/s]"
      ]
     },
     "metadata": {},
     "output_type": "display_data"
    },
    {
     "data": {
      "application/vnd.jupyter.widget-view+json": {
       "model_id": "38f37924a25e420b8ece456db77fabe7",
       "version_major": 2,
       "version_minor": 0
      },
      "text/plain": [
       "Training:   0%|          | 0/351 [00:00<?, ?it/s]"
      ]
     },
     "metadata": {},
     "output_type": "display_data"
    },
    {
     "data": {
      "text/html": [
       "<pre style=\"white-space:pre;overflow-x:auto;line-height:normal;font-family:Menlo,'DejaVu Sans Mono',consolas,'Courier New',monospace\"> loss: <span style=\"color: #008080; text-decoration-color: #008080; font-weight: bold\">2.336591958999634</span>\n",
       "</pre>\n"
      ],
      "text/plain": [
       " loss: \u001b[1;36m2.336591958999634\u001b[0m\n"
      ]
     },
     "metadata": {},
     "output_type": "display_data"
    },
    {
     "data": {
      "text/html": [
       "<pre style=\"white-space:pre;overflow-x:auto;line-height:normal;font-family:Menlo,'DejaVu Sans Mono',consolas,'Courier New',monospace\"> acc: <span style=\"color: #008080; text-decoration-color: #008080; font-weight: bold\">0.28269675374031067</span>\n",
       "</pre>\n"
      ],
      "text/plain": [
       " acc: \u001b[1;36m0.28269675374031067\u001b[0m\n"
      ]
     },
     "metadata": {},
     "output_type": "display_data"
    },
    {
     "data": {
      "application/vnd.jupyter.widget-view+json": {
       "model_id": "7a3542d7c0cb4419a1eb38efb794929c",
       "version_major": 2,
       "version_minor": 0
      },
      "text/plain": [
       "Training:   0%|          | 0/351 [00:00<?, ?it/s]"
      ]
     },
     "metadata": {},
     "output_type": "display_data"
    },
    {
     "data": {
      "text/html": [
       "<pre style=\"white-space:pre;overflow-x:auto;line-height:normal;font-family:Menlo,'DejaVu Sans Mono',consolas,'Courier New',monospace\"> loss: <span style=\"color: #008080; text-decoration-color: #008080; font-weight: bold\">1.7297300100326538</span>\n",
       "</pre>\n"
      ],
      "text/plain": [
       " loss: \u001b[1;36m1.7297300100326538\u001b[0m\n"
      ]
     },
     "metadata": {},
     "output_type": "display_data"
    },
    {
     "data": {
      "text/html": [
       "<pre style=\"white-space:pre;overflow-x:auto;line-height:normal;font-family:Menlo,'DejaVu Sans Mono',consolas,'Courier New',monospace\"> acc: <span style=\"color: #008080; text-decoration-color: #008080; font-weight: bold\">0.377225786447525</span>\n",
       "</pre>\n"
      ],
      "text/plain": [
       " acc: \u001b[1;36m0.377225786447525\u001b[0m\n"
      ]
     },
     "metadata": {},
     "output_type": "display_data"
    },
    {
     "data": {
      "application/vnd.jupyter.widget-view+json": {
       "model_id": "be41da069030425f8f38ea4e34549d55",
       "version_major": 2,
       "version_minor": 0
      },
      "text/plain": [
       "Training:   0%|          | 0/351 [00:00<?, ?it/s]"
      ]
     },
     "metadata": {},
     "output_type": "display_data"
    },
    {
     "data": {
      "text/html": [
       "<pre style=\"white-space:pre;overflow-x:auto;line-height:normal;font-family:Menlo,'DejaVu Sans Mono',consolas,'Courier New',monospace\"> loss: <span style=\"color: #008080; text-decoration-color: #008080; font-weight: bold\">1.5610712766647339</span>\n",
       "</pre>\n"
      ],
      "text/plain": [
       " loss: \u001b[1;36m1.5610712766647339\u001b[0m\n"
      ]
     },
     "metadata": {},
     "output_type": "display_data"
    },
    {
     "data": {
      "text/html": [
       "<pre style=\"white-space:pre;overflow-x:auto;line-height:normal;font-family:Menlo,'DejaVu Sans Mono',consolas,'Courier New',monospace\"> acc: <span style=\"color: #008080; text-decoration-color: #008080; font-weight: bold\">0.43678775429725647</span>\n",
       "</pre>\n"
      ],
      "text/plain": [
       " acc: \u001b[1;36m0.43678775429725647\u001b[0m\n"
      ]
     },
     "metadata": {},
     "output_type": "display_data"
    },
    {
     "data": {
      "application/vnd.jupyter.widget-view+json": {
       "model_id": "897919584c1d4bd9be7ebf6136175962",
       "version_major": 2,
       "version_minor": 0
      },
      "text/plain": [
       "Training:   0%|          | 0/351 [00:00<?, ?it/s]"
      ]
     },
     "metadata": {},
     "output_type": "display_data"
    },
    {
     "data": {
      "text/html": [
       "<pre style=\"white-space:pre;overflow-x:auto;line-height:normal;font-family:Menlo,'DejaVu Sans Mono',consolas,'Courier New',monospace\"> loss: <span style=\"color: #008080; text-decoration-color: #008080; font-weight: bold\">1.4541274309158325</span>\n",
       "</pre>\n"
      ],
      "text/plain": [
       " loss: \u001b[1;36m1.4541274309158325\u001b[0m\n"
      ]
     },
     "metadata": {},
     "output_type": "display_data"
    },
    {
     "data": {
      "text/html": [
       "<pre style=\"white-space:pre;overflow-x:auto;line-height:normal;font-family:Menlo,'DejaVu Sans Mono',consolas,'Courier New',monospace\"> acc: <span style=\"color: #008080; text-decoration-color: #008080; font-weight: bold\">0.47320157289505005</span>\n",
       "</pre>\n"
      ],
      "text/plain": [
       " acc: \u001b[1;36m0.47320157289505005\u001b[0m\n"
      ]
     },
     "metadata": {},
     "output_type": "display_data"
    },
    {
     "data": {
      "application/vnd.jupyter.widget-view+json": {
       "model_id": "295563d64fc144d9bfffe1283a6a49af",
       "version_major": 2,
       "version_minor": 0
      },
      "text/plain": [
       "Training:   0%|          | 0/351 [00:00<?, ?it/s]"
      ]
     },
     "metadata": {},
     "output_type": "display_data"
    },
    {
     "data": {
      "text/html": [
       "<pre style=\"white-space:pre;overflow-x:auto;line-height:normal;font-family:Menlo,'DejaVu Sans Mono',consolas,'Courier New',monospace\"> loss: <span style=\"color: #008080; text-decoration-color: #008080; font-weight: bold\">1.356857419013977</span>\n",
       "</pre>\n"
      ],
      "text/plain": [
       " loss: \u001b[1;36m1.356857419013977\u001b[0m\n"
      ]
     },
     "metadata": {},
     "output_type": "display_data"
    },
    {
     "data": {
      "text/html": [
       "<pre style=\"white-space:pre;overflow-x:auto;line-height:normal;font-family:Menlo,'DejaVu Sans Mono',consolas,'Courier New',monospace\"> acc: <span style=\"color: #008080; text-decoration-color: #008080; font-weight: bold\">0.5102831125259399</span>\n",
       "</pre>\n"
      ],
      "text/plain": [
       " acc: \u001b[1;36m0.5102831125259399\u001b[0m\n"
      ]
     },
     "metadata": {},
     "output_type": "display_data"
    },
    {
     "data": {
      "application/vnd.jupyter.widget-view+json": {
       "model_id": "06eaa589053d454ea665b161c8cb9dfa",
       "version_major": 2,
       "version_minor": 0
      },
      "text/plain": [
       "Training:   0%|          | 0/351 [00:00<?, ?it/s]"
      ]
     },
     "metadata": {},
     "output_type": "display_data"
    },
    {
     "data": {
      "text/html": [
       "<pre style=\"white-space:pre;overflow-x:auto;line-height:normal;font-family:Menlo,'DejaVu Sans Mono',consolas,'Courier New',monospace\"> loss: <span style=\"color: #008080; text-decoration-color: #008080; font-weight: bold\">1.2777398824691772</span>\n",
       "</pre>\n"
      ],
      "text/plain": [
       " loss: \u001b[1;36m1.2777398824691772\u001b[0m\n"
      ]
     },
     "metadata": {},
     "output_type": "display_data"
    },
    {
     "data": {
      "text/html": [
       "<pre style=\"white-space:pre;overflow-x:auto;line-height:normal;font-family:Menlo,'DejaVu Sans Mono',consolas,'Courier New',monospace\"> acc: <span style=\"color: #008080; text-decoration-color: #008080; font-weight: bold\">0.5418002009391785</span>\n",
       "</pre>\n"
      ],
      "text/plain": [
       " acc: \u001b[1;36m0.5418002009391785\u001b[0m\n"
      ]
     },
     "metadata": {},
     "output_type": "display_data"
    },
    {
     "data": {
      "application/vnd.jupyter.widget-view+json": {
       "model_id": "6e936e3d13cf40c5af51bab479dfd2d8",
       "version_major": 2,
       "version_minor": 0
      },
      "text/plain": [
       "Training:   0%|          | 0/351 [00:00<?, ?it/s]"
      ]
     },
     "metadata": {},
     "output_type": "display_data"
    },
    {
     "data": {
      "text/html": [
       "<pre style=\"white-space:pre;overflow-x:auto;line-height:normal;font-family:Menlo,'DejaVu Sans Mono',consolas,'Courier New',monospace\"> loss: <span style=\"color: #008080; text-decoration-color: #008080; font-weight: bold\">1.209302544593811</span>\n",
       "</pre>\n"
      ],
      "text/plain": [
       " loss: \u001b[1;36m1.209302544593811\u001b[0m\n"
      ]
     },
     "metadata": {},
     "output_type": "display_data"
    },
    {
     "data": {
      "text/html": [
       "<pre style=\"white-space:pre;overflow-x:auto;line-height:normal;font-family:Menlo,'DejaVu Sans Mono',consolas,'Courier New',monospace\"> acc: <span style=\"color: #008080; text-decoration-color: #008080; font-weight: bold\">0.5626558065414429</span>\n",
       "</pre>\n"
      ],
      "text/plain": [
       " acc: \u001b[1;36m0.5626558065414429\u001b[0m\n"
      ]
     },
     "metadata": {},
     "output_type": "display_data"
    },
    {
     "data": {
      "application/vnd.jupyter.widget-view+json": {
       "model_id": "ef6d5e22a4794b3982e627a29a4e01db",
       "version_major": 2,
       "version_minor": 0
      },
      "text/plain": [
       "Training:   0%|          | 0/351 [00:00<?, ?it/s]"
      ]
     },
     "metadata": {},
     "output_type": "display_data"
    },
    {
     "data": {
      "text/html": [
       "<pre style=\"white-space:pre;overflow-x:auto;line-height:normal;font-family:Menlo,'DejaVu Sans Mono',consolas,'Courier New',monospace\"> loss: <span style=\"color: #008080; text-decoration-color: #008080; font-weight: bold\">1.169034719467163</span>\n",
       "</pre>\n"
      ],
      "text/plain": [
       " loss: \u001b[1;36m1.169034719467163\u001b[0m\n"
      ]
     },
     "metadata": {},
     "output_type": "display_data"
    },
    {
     "data": {
      "text/html": [
       "<pre style=\"white-space:pre;overflow-x:auto;line-height:normal;font-family:Menlo,'DejaVu Sans Mono',consolas,'Courier New',monospace\"> acc: <span style=\"color: #008080; text-decoration-color: #008080; font-weight: bold\">0.5769230723381042</span>\n",
       "</pre>\n"
      ],
      "text/plain": [
       " acc: \u001b[1;36m0.5769230723381042\u001b[0m\n"
      ]
     },
     "metadata": {},
     "output_type": "display_data"
    },
    {
     "data": {
      "application/vnd.jupyter.widget-view+json": {
       "model_id": "8c62835d7c704cd5af7b20d8fe3c0c70",
       "version_major": 2,
       "version_minor": 0
      },
      "text/plain": [
       "Training:   0%|          | 0/351 [00:00<?, ?it/s]"
      ]
     },
     "metadata": {},
     "output_type": "display_data"
    },
    {
     "data": {
      "text/html": [
       "<pre style=\"white-space:pre;overflow-x:auto;line-height:normal;font-family:Menlo,'DejaVu Sans Mono',consolas,'Courier New',monospace\"> loss: <span style=\"color: #008080; text-decoration-color: #008080; font-weight: bold\">1.1179755926132202</span>\n",
       "</pre>\n"
      ],
      "text/plain": [
       " loss: \u001b[1;36m1.1179755926132202\u001b[0m\n"
      ]
     },
     "metadata": {},
     "output_type": "display_data"
    },
    {
     "data": {
      "text/html": [
       "<pre style=\"white-space:pre;overflow-x:auto;line-height:normal;font-family:Menlo,'DejaVu Sans Mono',consolas,'Courier New',monospace\"> acc: <span style=\"color: #008080; text-decoration-color: #008080; font-weight: bold\">0.5989360809326172</span>\n",
       "</pre>\n"
      ],
      "text/plain": [
       " acc: \u001b[1;36m0.5989360809326172\u001b[0m\n"
      ]
     },
     "metadata": {},
     "output_type": "display_data"
    },
    {
     "data": {
      "application/vnd.jupyter.widget-view+json": {
       "model_id": "b1f5823ba0fb4dd4a2634b7e294775b2",
       "version_major": 2,
       "version_minor": 0
      },
      "text/plain": [
       "Training:   0%|          | 0/351 [00:00<?, ?it/s]"
      ]
     },
     "metadata": {},
     "output_type": "display_data"
    },
    {
     "data": {
      "text/html": [
       "<pre style=\"white-space:pre;overflow-x:auto;line-height:normal;font-family:Menlo,'DejaVu Sans Mono',consolas,'Courier New',monospace\"> loss: <span style=\"color: #008080; text-decoration-color: #008080; font-weight: bold\">1.06916344165802</span>\n",
       "</pre>\n"
      ],
      "text/plain": [
       " loss: \u001b[1;36m1.06916344165802\u001b[0m\n"
      ]
     },
     "metadata": {},
     "output_type": "display_data"
    },
    {
     "data": {
      "text/html": [
       "<pre style=\"white-space:pre;overflow-x:auto;line-height:normal;font-family:Menlo,'DejaVu Sans Mono',consolas,'Courier New',monospace\"> acc: <span style=\"color: #008080; text-decoration-color: #008080; font-weight: bold\">0.6181890964508057</span>\n",
       "</pre>\n"
      ],
      "text/plain": [
       " acc: \u001b[1;36m0.6181890964508057\u001b[0m\n"
      ]
     },
     "metadata": {},
     "output_type": "display_data"
    },
    {
     "data": {
      "application/vnd.jupyter.widget-view+json": {
       "model_id": "6b51a3f45a5746e8ac6146321ed4156f",
       "version_major": 2,
       "version_minor": 0
      },
      "text/plain": [
       "Training:   0%|          | 0/351 [00:00<?, ?it/s]"
      ]
     },
     "metadata": {},
     "output_type": "display_data"
    },
    {
     "data": {
      "text/html": [
       "<pre style=\"white-space:pre;overflow-x:auto;line-height:normal;font-family:Menlo,'DejaVu Sans Mono',consolas,'Courier New',monospace\"> loss: <span style=\"color: #008080; text-decoration-color: #008080; font-weight: bold\">1.0425459146499634</span>\n",
       "</pre>\n"
      ],
      "text/plain": [
       " loss: \u001b[1;36m1.0425459146499634\u001b[0m\n"
      ]
     },
     "metadata": {},
     "output_type": "display_data"
    },
    {
     "data": {
      "text/html": [
       "<pre style=\"white-space:pre;overflow-x:auto;line-height:normal;font-family:Menlo,'DejaVu Sans Mono',consolas,'Courier New',monospace\"> acc: <span style=\"color: #008080; text-decoration-color: #008080; font-weight: bold\">0.6272035241127014</span>\n",
       "</pre>\n"
      ],
      "text/plain": [
       " acc: \u001b[1;36m0.6272035241127014\u001b[0m\n"
      ]
     },
     "metadata": {},
     "output_type": "display_data"
    },
    {
     "data": {
      "application/vnd.jupyter.widget-view+json": {
       "model_id": "0f8ba01b154f47d3b3b7a8a23c9e5a9d",
       "version_major": 2,
       "version_minor": 0
      },
      "text/plain": [
       "Training:   0%|          | 0/351 [00:00<?, ?it/s]"
      ]
     },
     "metadata": {},
     "output_type": "display_data"
    },
    {
     "data": {
      "text/html": [
       "<pre style=\"white-space:pre;overflow-x:auto;line-height:normal;font-family:Menlo,'DejaVu Sans Mono',consolas,'Courier New',monospace\"> loss: <span style=\"color: #008080; text-decoration-color: #008080; font-weight: bold\">1.0012234449386597</span>\n",
       "</pre>\n"
      ],
      "text/plain": [
       " loss: \u001b[1;36m1.0012234449386597\u001b[0m\n"
      ]
     },
     "metadata": {},
     "output_type": "display_data"
    },
    {
     "data": {
      "text/html": [
       "<pre style=\"white-space:pre;overflow-x:auto;line-height:normal;font-family:Menlo,'DejaVu Sans Mono',consolas,'Courier New',monospace\"> acc: <span style=\"color: #008080; text-decoration-color: #008080; font-weight: bold\">0.6396234035491943</span>\n",
       "</pre>\n"
      ],
      "text/plain": [
       " acc: \u001b[1;36m0.6396234035491943\u001b[0m\n"
      ]
     },
     "metadata": {},
     "output_type": "display_data"
    },
    {
     "data": {
      "application/vnd.jupyter.widget-view+json": {
       "model_id": "128fb52c7568492abb99e9ed18a4c9d8",
       "version_major": 2,
       "version_minor": 0
      },
      "text/plain": [
       "Training:   0%|          | 0/351 [00:00<?, ?it/s]"
      ]
     },
     "metadata": {},
     "output_type": "display_data"
    },
    {
     "data": {
      "text/html": [
       "<pre style=\"white-space:pre;overflow-x:auto;line-height:normal;font-family:Menlo,'DejaVu Sans Mono',consolas,'Courier New',monospace\"> loss: <span style=\"color: #008080; text-decoration-color: #008080; font-weight: bold\">0.9687538146972656</span>\n",
       "</pre>\n"
      ],
      "text/plain": [
       " loss: \u001b[1;36m0.9687538146972656\u001b[0m\n"
      ]
     },
     "metadata": {},
     "output_type": "display_data"
    },
    {
     "data": {
      "text/html": [
       "<pre style=\"white-space:pre;overflow-x:auto;line-height:normal;font-family:Menlo,'DejaVu Sans Mono',consolas,'Courier New',monospace\"> acc: <span style=\"color: #008080; text-decoration-color: #008080; font-weight: bold\">0.6524661779403687</span>\n",
       "</pre>\n"
      ],
      "text/plain": [
       " acc: \u001b[1;36m0.6524661779403687\u001b[0m\n"
      ]
     },
     "metadata": {},
     "output_type": "display_data"
    },
    {
     "data": {
      "application/vnd.jupyter.widget-view+json": {
       "model_id": "dd1ea3623b5a4392a232cff3fd39deb0",
       "version_major": 2,
       "version_minor": 0
      },
      "text/plain": [
       "Training:   0%|          | 0/351 [00:00<?, ?it/s]"
      ]
     },
     "metadata": {},
     "output_type": "display_data"
    },
    {
     "data": {
      "text/html": [
       "<pre style=\"white-space:pre;overflow-x:auto;line-height:normal;font-family:Menlo,'DejaVu Sans Mono',consolas,'Courier New',monospace\"> loss: <span style=\"color: #008080; text-decoration-color: #008080; font-weight: bold\">0.9474165439605713</span>\n",
       "</pre>\n"
      ],
      "text/plain": [
       " loss: \u001b[1;36m0.9474165439605713\u001b[0m\n"
      ]
     },
     "metadata": {},
     "output_type": "display_data"
    },
    {
     "data": {
      "text/html": [
       "<pre style=\"white-space:pre;overflow-x:auto;line-height:normal;font-family:Menlo,'DejaVu Sans Mono',consolas,'Courier New',monospace\"> acc: <span style=\"color: #008080; text-decoration-color: #008080; font-weight: bold\">0.6617031693458557</span>\n",
       "</pre>\n"
      ],
      "text/plain": [
       " acc: \u001b[1;36m0.6617031693458557\u001b[0m\n"
      ]
     },
     "metadata": {},
     "output_type": "display_data"
    },
    {
     "data": {
      "application/vnd.jupyter.widget-view+json": {
       "model_id": "510328dcc36c499ca7ff10e774348297",
       "version_major": 2,
       "version_minor": 0
      },
      "text/plain": [
       "Training:   0%|          | 0/351 [00:00<?, ?it/s]"
      ]
     },
     "metadata": {},
     "output_type": "display_data"
    },
    {
     "data": {
      "text/html": [
       "<pre style=\"white-space:pre;overflow-x:auto;line-height:normal;font-family:Menlo,'DejaVu Sans Mono',consolas,'Courier New',monospace\"> loss: <span style=\"color: #008080; text-decoration-color: #008080; font-weight: bold\">0.9081081748008728</span>\n",
       "</pre>\n"
      ],
      "text/plain": [
       " loss: \u001b[1;36m0.9081081748008728\u001b[0m\n"
      ]
     },
     "metadata": {},
     "output_type": "display_data"
    },
    {
     "data": {
      "text/html": [
       "<pre style=\"white-space:pre;overflow-x:auto;line-height:normal;font-family:Menlo,'DejaVu Sans Mono',consolas,'Courier New',monospace\"> acc: <span style=\"color: #008080; text-decoration-color: #008080; font-weight: bold\">0.6773949265480042</span>\n",
       "</pre>\n"
      ],
      "text/plain": [
       " acc: \u001b[1;36m0.6773949265480042\u001b[0m\n"
      ]
     },
     "metadata": {},
     "output_type": "display_data"
    },
    {
     "data": {
      "application/vnd.jupyter.widget-view+json": {
       "model_id": "3eaf5ea9a824460ea409c5c7c84039f4",
       "version_major": 2,
       "version_minor": 0
      },
      "text/plain": [
       "Training:   0%|          | 0/351 [00:00<?, ?it/s]"
      ]
     },
     "metadata": {},
     "output_type": "display_data"
    },
    {
     "name": "stderr",
     "output_type": "stream",
     "text": [
      "2024-04-15 13:34:32.071264: W external/xla/xla/service/gpu/runtime/support.cc:58] Intercepted XLA runtime error:\n",
      "INTERNAL: Failed to update gpu graph: Graph update result=kNodeTypeChanged: Failed to update CUDA graph: CUDA_ERROR_GRAPH_EXEC_UPDATE_FAILURE: the graph update was not performed because it included changes which violated constraints specific to instantiated graph update\n",
      "2024-04-15 13:34:32.071508: E external/xla/xla/pjrt/pjrt_stream_executor_client.cc:2711] Execution of replica 0 failed: INTERNAL: Failed to execute XLA Runtime executable: run time error: custom call 'xla.gpu.graph.launch' failed: Failed to update gpu graph: Graph update result=kNodeTypeChanged: Failed to update CUDA graph: CUDA_ERROR_GRAPH_EXEC_UPDATE_FAILURE: the graph update was not performed because it included changes which violated constraints specific to instantiated graph update; current profiling annotation: XlaModule:#hlo_module=jit_train_step,program_id=105#.\n"
     ]
    },
    {
     "ename": "ValueError",
     "evalue": "INTERNAL: Failed to execute XLA Runtime executable: run time error: custom call 'xla.gpu.graph.launch' failed: Failed to update gpu graph: Graph update result=kNodeTypeChanged: Failed to update CUDA graph: CUDA_ERROR_GRAPH_EXEC_UPDATE_FAILURE: the graph update was not performed because it included changes which violated constraints specific to instantiated graph update; current profiling annotation: XlaModule:#hlo_module=jit_train_step,program_id=105#.",
     "output_type": "error",
     "traceback": [
      "\u001b[0;31m---------------------------------------------------------------------------\u001b[0m",
      "\u001b[0;31mValueError\u001b[0m                                Traceback (most recent call last)",
      "Cell \u001b[0;32mIn[30], line 1\u001b[0m\n\u001b[0;32m----> 1\u001b[0m \u001b[43mtrain_model\u001b[49m\u001b[43m(\u001b[49m\u001b[43mtrain_loader\u001b[49m\u001b[43m,\u001b[49m\u001b[43m \u001b[49m\u001b[43mval_loader\u001b[49m\u001b[43m,\u001b[49m\u001b[43m \u001b[49m\u001b[43mstate\u001b[49m\u001b[43m,\u001b[49m\u001b[43m \u001b[49m\u001b[43mvit_rng\u001b[49m\u001b[43m,\u001b[49m\u001b[43m \u001b[49m\u001b[43mnum_epochs\u001b[49m\u001b[38;5;241;43m=\u001b[39;49m\u001b[38;5;241;43m100\u001b[39;49m\u001b[43m)\u001b[49m\n",
      "Cell \u001b[0;32mIn[26], line 4\u001b[0m, in \u001b[0;36mtrain_model\u001b[0;34m(train_loader, val_loader, state, rng, num_epochs)\u001b[0m\n\u001b[1;32m      2\u001b[0m best_eval \u001b[38;5;241m=\u001b[39m \u001b[38;5;241m0.0\u001b[39m\n\u001b[1;32m      3\u001b[0m \u001b[38;5;28;01mfor\u001b[39;00m epoch_idx \u001b[38;5;129;01min\u001b[39;00m tqdm(\u001b[38;5;28mrange\u001b[39m(\u001b[38;5;241m1\u001b[39m, num_epochs \u001b[38;5;241m+\u001b[39m \u001b[38;5;241m1\u001b[39m)):\n\u001b[0;32m----> 4\u001b[0m   state, rng \u001b[38;5;241m=\u001b[39m \u001b[43mtrain_epoch\u001b[49m\u001b[43m(\u001b[49m\u001b[43mtrain_loader\u001b[49m\u001b[43m,\u001b[49m\u001b[43m \u001b[49m\u001b[43mepoch_idx\u001b[49m\u001b[43m,\u001b[49m\u001b[43m \u001b[49m\u001b[43mstate\u001b[49m\u001b[43m,\u001b[49m\u001b[43m \u001b[49m\u001b[43mrng\u001b[49m\u001b[43m)\u001b[49m\n\u001b[1;32m      5\u001b[0m   \u001b[38;5;28;01mif\u001b[39;00m epoch_idx \u001b[38;5;241m%\u001b[39m \u001b[38;5;241m1\u001b[39m \u001b[38;5;241m==\u001b[39m \u001b[38;5;241m0\u001b[39m:\n\u001b[1;32m      6\u001b[0m     eval_acc \u001b[38;5;241m=\u001b[39m eval_model(val_loader, state, rng)\n",
      "Cell \u001b[0;32mIn[24], line 4\u001b[0m, in \u001b[0;36mtrain_epoch\u001b[0;34m(train_loader, epoch_idx, state, rng)\u001b[0m\n\u001b[1;32m      2\u001b[0m metrics \u001b[38;5;241m=\u001b[39m defaultdict(\u001b[38;5;28mlist\u001b[39m)\n\u001b[1;32m      3\u001b[0m \u001b[38;5;28;01mfor\u001b[39;00m batch \u001b[38;5;129;01min\u001b[39;00m tqdm(train_loader, desc\u001b[38;5;241m=\u001b[39m\u001b[38;5;124m'\u001b[39m\u001b[38;5;124mTraining\u001b[39m\u001b[38;5;124m'\u001b[39m, leave\u001b[38;5;241m=\u001b[39m\u001b[38;5;28;01mFalse\u001b[39;00m):\n\u001b[0;32m----> 4\u001b[0m   state, rng, loss, acc \u001b[38;5;241m=\u001b[39m \u001b[43mtrain_step\u001b[49m\u001b[43m(\u001b[49m\u001b[43mstate\u001b[49m\u001b[43m,\u001b[49m\u001b[43m \u001b[49m\u001b[43mrng\u001b[49m\u001b[43m,\u001b[49m\u001b[43m \u001b[49m\u001b[43mbatch\u001b[49m\u001b[43m)\u001b[49m\n\u001b[1;32m      5\u001b[0m   metrics[\u001b[38;5;124m'\u001b[39m\u001b[38;5;124mloss\u001b[39m\u001b[38;5;124m'\u001b[39m]\u001b[38;5;241m.\u001b[39mappend(loss)\n\u001b[1;32m      6\u001b[0m   metrics[\u001b[38;5;124m'\u001b[39m\u001b[38;5;124macc\u001b[39m\u001b[38;5;124m'\u001b[39m]\u001b[38;5;241m.\u001b[39mappend(acc)\n",
      "\u001b[0;31mValueError\u001b[0m: INTERNAL: Failed to execute XLA Runtime executable: run time error: custom call 'xla.gpu.graph.launch' failed: Failed to update gpu graph: Graph update result=kNodeTypeChanged: Failed to update CUDA graph: CUDA_ERROR_GRAPH_EXEC_UPDATE_FAILURE: the graph update was not performed because it included changes which violated constraints specific to instantiated graph update; current profiling annotation: XlaModule:#hlo_module=jit_train_step,program_id=105#."
     ]
    }
   ],
   "source": [
    "train_model(train_loader, val_loader, state, vit_rng, num_epochs=100)"
   ]
  },
  {
   "cell_type": "code",
   "execution_count": null,
   "id": "dcd7c170",
   "metadata": {},
   "outputs": [],
   "source": []
  }
 ],
 "metadata": {
  "accelerator": "GPU",
  "colab": {
   "private_outputs": true,
   "provenance": []
  },
  "gpuClass": "standard",
  "kernelspec": {
   "display_name": "Python 3 (ipykernel)",
   "language": "python",
   "name": "python3"
  },
  "language_info": {
   "codemirror_mode": {
    "name": "ipython",
    "version": 3
   },
   "file_extension": ".py",
   "mimetype": "text/x-python",
   "name": "python",
   "nbconvert_exporter": "python",
   "pygments_lexer": "ipython3",
   "version": "3.10.12"
  },
  "widgets": {
   "application/vnd.jupyter.widget-state+json": {
    "state": {
     "042d10d0e3f4493391882fc14062a805": {
      "model_module": "@jupyter-widgets/controls",
      "model_module_version": "2.0.0",
      "model_name": "ProgressStyleModel",
      "state": {
       "_model_module": "@jupyter-widgets/controls",
       "_model_module_version": "2.0.0",
       "_model_name": "ProgressStyleModel",
       "_view_count": null,
       "_view_module": "@jupyter-widgets/base",
       "_view_module_version": "2.0.0",
       "_view_name": "StyleView",
       "bar_color": null,
       "buffers": [],
       "description_width": ""
      }
     },
     "063530fbef124f508ac2a2c09970b260": {
      "model_module": "@jupyter-widgets/controls",
      "model_module_version": "2.0.0",
      "model_name": "ProgressStyleModel",
      "state": {
       "_model_module": "@jupyter-widgets/controls",
       "_model_module_version": "2.0.0",
       "_model_name": "ProgressStyleModel",
       "_view_count": null,
       "_view_module": "@jupyter-widgets/base",
       "_view_module_version": "2.0.0",
       "_view_name": "StyleView",
       "bar_color": null,
       "buffers": [],
       "description_width": ""
      }
     },
     "0b3ca915310b45e1a00faacfc4684184": {
      "model_module": "@jupyter-widgets/controls",
      "model_module_version": "2.0.0",
      "model_name": "ProgressStyleModel",
      "state": {
       "_model_module": "@jupyter-widgets/controls",
       "_model_module_version": "2.0.0",
       "_model_name": "ProgressStyleModel",
       "_view_count": null,
       "_view_module": "@jupyter-widgets/base",
       "_view_module_version": "2.0.0",
       "_view_name": "StyleView",
       "bar_color": null,
       "buffers": [],
       "description_width": ""
      }
     },
     "0c0bf7f0973045329b1a0f85a6d02d68": {
      "model_module": "@jupyter-widgets/controls",
      "model_module_version": "2.0.0",
      "model_name": "FloatProgressModel",
      "state": {
       "_dom_classes": [],
       "_model_module": "@jupyter-widgets/controls",
       "_model_module_version": "2.0.0",
       "_model_name": "FloatProgressModel",
       "_view_count": null,
       "_view_module": "@jupyter-widgets/controls",
       "_view_module_version": "2.0.0",
       "_view_name": "ProgressView",
       "bar_style": "",
       "buffers": [],
       "description": "",
       "description_allow_html": false,
       "layout": "IPY_MODEL_e38c6ec261f84f18b0cb198d34f855f5",
       "max": 351.0,
       "min": 0.0,
       "orientation": "horizontal",
       "style": "IPY_MODEL_38b0c4b5b49c4834bd29696fba897259",
       "tabbable": null,
       "tooltip": null,
       "value": 351.0
      }
     },
     "0d66be5f5b6c4e849c423679568e06f8": {
      "model_module": "@jupyter-widgets/controls",
      "model_module_version": "2.0.0",
      "model_name": "HTMLStyleModel",
      "state": {
       "_model_module": "@jupyter-widgets/controls",
       "_model_module_version": "2.0.0",
       "_model_name": "HTMLStyleModel",
       "_view_count": null,
       "_view_module": "@jupyter-widgets/base",
       "_view_module_version": "2.0.0",
       "_view_name": "StyleView",
       "background": null,
       "buffers": [],
       "description_width": "",
       "font_size": null,
       "text_color": null
      }
     },
     "0e04d210fe284db6b4cb345dcd0b78de": {
      "model_module": "@jupyter-widgets/controls",
      "model_module_version": "2.0.0",
      "model_name": "ProgressStyleModel",
      "state": {
       "_model_module": "@jupyter-widgets/controls",
       "_model_module_version": "2.0.0",
       "_model_name": "ProgressStyleModel",
       "_view_count": null,
       "_view_module": "@jupyter-widgets/base",
       "_view_module_version": "2.0.0",
       "_view_name": "StyleView",
       "bar_color": null,
       "buffers": [],
       "description_width": ""
      }
     },
     "102908f483de410e98b2409784e9fcd5": {
      "model_module": "@jupyter-widgets/controls",
      "model_module_version": "2.0.0",
      "model_name": "HTMLStyleModel",
      "state": {
       "_model_module": "@jupyter-widgets/controls",
       "_model_module_version": "2.0.0",
       "_model_name": "HTMLStyleModel",
       "_view_count": null,
       "_view_module": "@jupyter-widgets/base",
       "_view_module_version": "2.0.0",
       "_view_name": "StyleView",
       "background": null,
       "buffers": [],
       "description_width": "",
       "font_size": null,
       "text_color": null
      }
     },
     "1030db3ebe7c42d3b80308c0139274e2": {
      "model_module": "@jupyter-widgets/controls",
      "model_module_version": "2.0.0",
      "model_name": "HTMLModel",
      "state": {
       "_dom_classes": [],
       "_model_module": "@jupyter-widgets/controls",
       "_model_module_version": "2.0.0",
       "_model_name": "HTMLModel",
       "_view_count": null,
       "_view_module": "@jupyter-widgets/controls",
       "_view_module_version": "2.0.0",
       "_view_name": "HTMLView",
       "buffers": [],
       "description": "",
       "description_allow_html": false,
       "layout": "IPY_MODEL_7ce7cdfe780f42c391cb927d1140640c",
       "placeholder": "​",
       "style": "IPY_MODEL_d4f5f6d9bd7c4889abfdd15f9b23c9e3",
       "tabbable": null,
       "tooltip": null,
       "value": "Training: 100%"
      }
     },
     "10ae5a402a5f4a1eade809f4f4ecb48e": {
      "model_module": "@jupyter-widgets/base",
      "model_module_version": "2.0.0",
      "model_name": "LayoutModel",
      "state": {
       "_model_module": "@jupyter-widgets/base",
       "_model_module_version": "2.0.0",
       "_model_name": "LayoutModel",
       "_view_count": null,
       "_view_module": "@jupyter-widgets/base",
       "_view_module_version": "2.0.0",
       "_view_name": "LayoutView",
       "align_content": null,
       "align_items": null,
       "align_self": null,
       "border_bottom": null,
       "border_left": null,
       "border_right": null,
       "border_top": null,
       "bottom": null,
       "buffers": [],
       "display": null,
       "flex": null,
       "flex_flow": null,
       "grid_area": null,
       "grid_auto_columns": null,
       "grid_auto_flow": null,
       "grid_auto_rows": null,
       "grid_column": null,
       "grid_gap": null,
       "grid_row": null,
       "grid_template_areas": null,
       "grid_template_columns": null,
       "grid_template_rows": null,
       "height": null,
       "justify_content": null,
       "justify_items": null,
       "left": null,
       "margin": null,
       "max_height": null,
       "max_width": null,
       "min_height": null,
       "min_width": null,
       "object_fit": null,
       "object_position": null,
       "order": null,
       "overflow": null,
       "padding": null,
       "right": null,
       "top": null,
       "visibility": null,
       "width": null
      }
     },
     "11f04dc408544730beeb750884288d83": {
      "model_module": "@jupyter-widgets/base",
      "model_module_version": "2.0.0",
      "model_name": "LayoutModel",
      "state": {
       "_model_module": "@jupyter-widgets/base",
       "_model_module_version": "2.0.0",
       "_model_name": "LayoutModel",
       "_view_count": null,
       "_view_module": "@jupyter-widgets/base",
       "_view_module_version": "2.0.0",
       "_view_name": "LayoutView",
       "align_content": null,
       "align_items": null,
       "align_self": null,
       "border_bottom": null,
       "border_left": null,
       "border_right": null,
       "border_top": null,
       "bottom": null,
       "buffers": [],
       "display": null,
       "flex": null,
       "flex_flow": null,
       "grid_area": null,
       "grid_auto_columns": null,
       "grid_auto_flow": null,
       "grid_auto_rows": null,
       "grid_column": null,
       "grid_gap": null,
       "grid_row": null,
       "grid_template_areas": null,
       "grid_template_columns": null,
       "grid_template_rows": null,
       "height": null,
       "justify_content": null,
       "justify_items": null,
       "left": null,
       "margin": null,
       "max_height": null,
       "max_width": null,
       "min_height": null,
       "min_width": null,
       "object_fit": null,
       "object_position": null,
       "order": null,
       "overflow": null,
       "padding": null,
       "right": null,
       "top": null,
       "visibility": null,
       "width": null
      }
     },
     "14a4f4e2d3e04a84b5fc1feaa75dfc4d": {
      "model_module": "@jupyter-widgets/controls",
      "model_module_version": "2.0.0",
      "model_name": "HTMLModel",
      "state": {
       "_dom_classes": [],
       "_model_module": "@jupyter-widgets/controls",
       "_model_module_version": "2.0.0",
       "_model_name": "HTMLModel",
       "_view_count": null,
       "_view_module": "@jupyter-widgets/controls",
       "_view_module_version": "2.0.0",
       "_view_name": "HTMLView",
       "buffers": [],
       "description": "",
       "description_allow_html": false,
       "layout": "IPY_MODEL_5a8a9926a15749a199757fc2b01acc9c",
       "placeholder": "​",
       "style": "IPY_MODEL_3163b7a45f97442cad800e0d6a81fc4d",
       "tabbable": null,
       "tooltip": null,
       "value": "Training: 100%"
      }
     },
     "1859c2bc1cda49b980c44e98177caad2": {
      "model_module": "@jupyter-widgets/base",
      "model_module_version": "2.0.0",
      "model_name": "LayoutModel",
      "state": {
       "_model_module": "@jupyter-widgets/base",
       "_model_module_version": "2.0.0",
       "_model_name": "LayoutModel",
       "_view_count": null,
       "_view_module": "@jupyter-widgets/base",
       "_view_module_version": "2.0.0",
       "_view_name": "LayoutView",
       "align_content": null,
       "align_items": null,
       "align_self": null,
       "border_bottom": null,
       "border_left": null,
       "border_right": null,
       "border_top": null,
       "bottom": null,
       "buffers": [],
       "display": null,
       "flex": null,
       "flex_flow": null,
       "grid_area": null,
       "grid_auto_columns": null,
       "grid_auto_flow": null,
       "grid_auto_rows": null,
       "grid_column": null,
       "grid_gap": null,
       "grid_row": null,
       "grid_template_areas": null,
       "grid_template_columns": null,
       "grid_template_rows": null,
       "height": null,
       "justify_content": null,
       "justify_items": null,
       "left": null,
       "margin": null,
       "max_height": null,
       "max_width": null,
       "min_height": null,
       "min_width": null,
       "object_fit": null,
       "object_position": null,
       "order": null,
       "overflow": null,
       "padding": null,
       "right": null,
       "top": null,
       "visibility": "hidden",
       "width": null
      }
     },
     "192369d9035f4c06a3177b2146622fad": {
      "model_module": "@jupyter-widgets/base",
      "model_module_version": "2.0.0",
      "model_name": "LayoutModel",
      "state": {
       "_model_module": "@jupyter-widgets/base",
       "_model_module_version": "2.0.0",
       "_model_name": "LayoutModel",
       "_view_count": null,
       "_view_module": "@jupyter-widgets/base",
       "_view_module_version": "2.0.0",
       "_view_name": "LayoutView",
       "align_content": null,
       "align_items": null,
       "align_self": null,
       "border_bottom": null,
       "border_left": null,
       "border_right": null,
       "border_top": null,
       "bottom": null,
       "buffers": [],
       "display": null,
       "flex": null,
       "flex_flow": null,
       "grid_area": null,
       "grid_auto_columns": null,
       "grid_auto_flow": null,
       "grid_auto_rows": null,
       "grid_column": null,
       "grid_gap": null,
       "grid_row": null,
       "grid_template_areas": null,
       "grid_template_columns": null,
       "grid_template_rows": null,
       "height": null,
       "justify_content": null,
       "justify_items": null,
       "left": null,
       "margin": null,
       "max_height": null,
       "max_width": null,
       "min_height": null,
       "min_width": null,
       "object_fit": null,
       "object_position": null,
       "order": null,
       "overflow": null,
       "padding": null,
       "right": null,
       "top": null,
       "visibility": null,
       "width": null
      }
     },
     "19dfd6cb26d44935b78a243b3060212a": {
      "model_module": "@jupyter-widgets/controls",
      "model_module_version": "2.0.0",
      "model_name": "HTMLModel",
      "state": {
       "_dom_classes": [],
       "_model_module": "@jupyter-widgets/controls",
       "_model_module_version": "2.0.0",
       "_model_name": "HTMLModel",
       "_view_count": null,
       "_view_module": "@jupyter-widgets/controls",
       "_view_module_version": "2.0.0",
       "_view_name": "HTMLView",
       "buffers": [],
       "description": "",
       "description_allow_html": false,
       "layout": "IPY_MODEL_45716ec092654e7eb3e577e8e8c8831d",
       "placeholder": "​",
       "style": "IPY_MODEL_f8fbbeb9c91147f2854a3e7dfd3f27ec",
       "tabbable": null,
       "tooltip": null,
       "value": "Training: 100%"
      }
     },
     "1af660e7f7a14aa3a1a787a6b1fe17b3": {
      "model_module": "@jupyter-widgets/base",
      "model_module_version": "2.0.0",
      "model_name": "LayoutModel",
      "state": {
       "_model_module": "@jupyter-widgets/base",
       "_model_module_version": "2.0.0",
       "_model_name": "LayoutModel",
       "_view_count": null,
       "_view_module": "@jupyter-widgets/base",
       "_view_module_version": "2.0.0",
       "_view_name": "LayoutView",
       "align_content": null,
       "align_items": null,
       "align_self": null,
       "border_bottom": null,
       "border_left": null,
       "border_right": null,
       "border_top": null,
       "bottom": null,
       "buffers": [],
       "display": null,
       "flex": null,
       "flex_flow": null,
       "grid_area": null,
       "grid_auto_columns": null,
       "grid_auto_flow": null,
       "grid_auto_rows": null,
       "grid_column": null,
       "grid_gap": null,
       "grid_row": null,
       "grid_template_areas": null,
       "grid_template_columns": null,
       "grid_template_rows": null,
       "height": null,
       "justify_content": null,
       "justify_items": null,
       "left": null,
       "margin": null,
       "max_height": null,
       "max_width": null,
       "min_height": null,
       "min_width": null,
       "object_fit": null,
       "object_position": null,
       "order": null,
       "overflow": null,
       "padding": null,
       "right": null,
       "top": null,
       "visibility": null,
       "width": null
      }
     },
     "1bc18e0b6f824489b34158d67e28bb39": {
      "model_module": "@jupyter-widgets/controls",
      "model_module_version": "2.0.0",
      "model_name": "HTMLStyleModel",
      "state": {
       "_model_module": "@jupyter-widgets/controls",
       "_model_module_version": "2.0.0",
       "_model_name": "HTMLStyleModel",
       "_view_count": null,
       "_view_module": "@jupyter-widgets/base",
       "_view_module_version": "2.0.0",
       "_view_name": "StyleView",
       "background": null,
       "buffers": [],
       "description_width": "",
       "font_size": null,
       "text_color": null
      }
     },
     "1bff8595b7514bf9bfb97c02167fe8a9": {
      "model_module": "@jupyter-widgets/controls",
      "model_module_version": "2.0.0",
      "model_name": "HTMLStyleModel",
      "state": {
       "_model_module": "@jupyter-widgets/controls",
       "_model_module_version": "2.0.0",
       "_model_name": "HTMLStyleModel",
       "_view_count": null,
       "_view_module": "@jupyter-widgets/base",
       "_view_module_version": "2.0.0",
       "_view_name": "StyleView",
       "background": null,
       "buffers": [],
       "description_width": "",
       "font_size": null,
       "text_color": null
      }
     },
     "1ef26f55e1f344478c65b3cb94ef10fc": {
      "model_module": "@jupyter-widgets/controls",
      "model_module_version": "2.0.0",
      "model_name": "HTMLStyleModel",
      "state": {
       "_model_module": "@jupyter-widgets/controls",
       "_model_module_version": "2.0.0",
       "_model_name": "HTMLStyleModel",
       "_view_count": null,
       "_view_module": "@jupyter-widgets/base",
       "_view_module_version": "2.0.0",
       "_view_name": "StyleView",
       "background": null,
       "buffers": [],
       "description_width": "",
       "font_size": null,
       "text_color": null
      }
     },
     "1f769f2c8085464483075f10747559c7": {
      "model_module": "@jupyter-widgets/base",
      "model_module_version": "2.0.0",
      "model_name": "LayoutModel",
      "state": {
       "_model_module": "@jupyter-widgets/base",
       "_model_module_version": "2.0.0",
       "_model_name": "LayoutModel",
       "_view_count": null,
       "_view_module": "@jupyter-widgets/base",
       "_view_module_version": "2.0.0",
       "_view_name": "LayoutView",
       "align_content": null,
       "align_items": null,
       "align_self": null,
       "border_bottom": null,
       "border_left": null,
       "border_right": null,
       "border_top": null,
       "bottom": null,
       "buffers": [],
       "display": null,
       "flex": null,
       "flex_flow": null,
       "grid_area": null,
       "grid_auto_columns": null,
       "grid_auto_flow": null,
       "grid_auto_rows": null,
       "grid_column": null,
       "grid_gap": null,
       "grid_row": null,
       "grid_template_areas": null,
       "grid_template_columns": null,
       "grid_template_rows": null,
       "height": null,
       "justify_content": null,
       "justify_items": null,
       "left": null,
       "margin": null,
       "max_height": null,
       "max_width": null,
       "min_height": null,
       "min_width": null,
       "object_fit": null,
       "object_position": null,
       "order": null,
       "overflow": null,
       "padding": null,
       "right": null,
       "top": null,
       "visibility": null,
       "width": null
      }
     },
     "20456c11365c475b98589870177a45cd": {
      "model_module": "@jupyter-widgets/base",
      "model_module_version": "2.0.0",
      "model_name": "LayoutModel",
      "state": {
       "_model_module": "@jupyter-widgets/base",
       "_model_module_version": "2.0.0",
       "_model_name": "LayoutModel",
       "_view_count": null,
       "_view_module": "@jupyter-widgets/base",
       "_view_module_version": "2.0.0",
       "_view_name": "LayoutView",
       "align_content": null,
       "align_items": null,
       "align_self": null,
       "border_bottom": null,
       "border_left": null,
       "border_right": null,
       "border_top": null,
       "bottom": null,
       "buffers": [],
       "display": null,
       "flex": null,
       "flex_flow": null,
       "grid_area": null,
       "grid_auto_columns": null,
       "grid_auto_flow": null,
       "grid_auto_rows": null,
       "grid_column": null,
       "grid_gap": null,
       "grid_row": null,
       "grid_template_areas": null,
       "grid_template_columns": null,
       "grid_template_rows": null,
       "height": null,
       "justify_content": null,
       "justify_items": null,
       "left": null,
       "margin": null,
       "max_height": null,
       "max_width": null,
       "min_height": null,
       "min_width": null,
       "object_fit": null,
       "object_position": null,
       "order": null,
       "overflow": null,
       "padding": null,
       "right": null,
       "top": null,
       "visibility": null,
       "width": null
      }
     },
     "2122accddd5f4763887cbaf38fbc2136": {
      "model_module": "@jupyter-widgets/base",
      "model_module_version": "2.0.0",
      "model_name": "LayoutModel",
      "state": {
       "_model_module": "@jupyter-widgets/base",
       "_model_module_version": "2.0.0",
       "_model_name": "LayoutModel",
       "_view_count": null,
       "_view_module": "@jupyter-widgets/base",
       "_view_module_version": "2.0.0",
       "_view_name": "LayoutView",
       "align_content": null,
       "align_items": null,
       "align_self": null,
       "border_bottom": null,
       "border_left": null,
       "border_right": null,
       "border_top": null,
       "bottom": null,
       "buffers": [],
       "display": null,
       "flex": null,
       "flex_flow": null,
       "grid_area": null,
       "grid_auto_columns": null,
       "grid_auto_flow": null,
       "grid_auto_rows": null,
       "grid_column": null,
       "grid_gap": null,
       "grid_row": null,
       "grid_template_areas": null,
       "grid_template_columns": null,
       "grid_template_rows": null,
       "height": null,
       "justify_content": null,
       "justify_items": null,
       "left": null,
       "margin": null,
       "max_height": null,
       "max_width": null,
       "min_height": null,
       "min_width": null,
       "object_fit": null,
       "object_position": null,
       "order": null,
       "overflow": null,
       "padding": null,
       "right": null,
       "top": null,
       "visibility": null,
       "width": null
      }
     },
     "2269a274c16b4e3182d19ca93d8b9309": {
      "model_module": "@jupyter-widgets/base",
      "model_module_version": "2.0.0",
      "model_name": "LayoutModel",
      "state": {
       "_model_module": "@jupyter-widgets/base",
       "_model_module_version": "2.0.0",
       "_model_name": "LayoutModel",
       "_view_count": null,
       "_view_module": "@jupyter-widgets/base",
       "_view_module_version": "2.0.0",
       "_view_name": "LayoutView",
       "align_content": null,
       "align_items": null,
       "align_self": null,
       "border_bottom": null,
       "border_left": null,
       "border_right": null,
       "border_top": null,
       "bottom": null,
       "buffers": [],
       "display": null,
       "flex": null,
       "flex_flow": null,
       "grid_area": null,
       "grid_auto_columns": null,
       "grid_auto_flow": null,
       "grid_auto_rows": null,
       "grid_column": null,
       "grid_gap": null,
       "grid_row": null,
       "grid_template_areas": null,
       "grid_template_columns": null,
       "grid_template_rows": null,
       "height": null,
       "justify_content": null,
       "justify_items": null,
       "left": null,
       "margin": null,
       "max_height": null,
       "max_width": null,
       "min_height": null,
       "min_width": null,
       "object_fit": null,
       "object_position": null,
       "order": null,
       "overflow": null,
       "padding": null,
       "right": null,
       "top": null,
       "visibility": null,
       "width": null
      }
     },
     "2386ebbde55d40b0ac0f79b5e96b1dce": {
      "model_module": "@jupyter-widgets/base",
      "model_module_version": "2.0.0",
      "model_name": "LayoutModel",
      "state": {
       "_model_module": "@jupyter-widgets/base",
       "_model_module_version": "2.0.0",
       "_model_name": "LayoutModel",
       "_view_count": null,
       "_view_module": "@jupyter-widgets/base",
       "_view_module_version": "2.0.0",
       "_view_name": "LayoutView",
       "align_content": null,
       "align_items": null,
       "align_self": null,
       "border_bottom": null,
       "border_left": null,
       "border_right": null,
       "border_top": null,
       "bottom": null,
       "buffers": [],
       "display": null,
       "flex": null,
       "flex_flow": null,
       "grid_area": null,
       "grid_auto_columns": null,
       "grid_auto_flow": null,
       "grid_auto_rows": null,
       "grid_column": null,
       "grid_gap": null,
       "grid_row": null,
       "grid_template_areas": null,
       "grid_template_columns": null,
       "grid_template_rows": null,
       "height": null,
       "justify_content": null,
       "justify_items": null,
       "left": null,
       "margin": null,
       "max_height": null,
       "max_width": null,
       "min_height": null,
       "min_width": null,
       "object_fit": null,
       "object_position": null,
       "order": null,
       "overflow": null,
       "padding": null,
       "right": null,
       "top": null,
       "visibility": null,
       "width": null
      }
     },
     "24b13a4190c54f33a521734a99385f5c": {
      "model_module": "@jupyter-widgets/controls",
      "model_module_version": "2.0.0",
      "model_name": "HTMLStyleModel",
      "state": {
       "_model_module": "@jupyter-widgets/controls",
       "_model_module_version": "2.0.0",
       "_model_name": "HTMLStyleModel",
       "_view_count": null,
       "_view_module": "@jupyter-widgets/base",
       "_view_module_version": "2.0.0",
       "_view_name": "StyleView",
       "background": null,
       "buffers": [],
       "description_width": "",
       "font_size": null,
       "text_color": null
      }
     },
     "2829c3732048463ebca3d4044c97ad26": {
      "model_module": "@jupyter-widgets/base",
      "model_module_version": "2.0.0",
      "model_name": "LayoutModel",
      "state": {
       "_model_module": "@jupyter-widgets/base",
       "_model_module_version": "2.0.0",
       "_model_name": "LayoutModel",
       "_view_count": null,
       "_view_module": "@jupyter-widgets/base",
       "_view_module_version": "2.0.0",
       "_view_name": "LayoutView",
       "align_content": null,
       "align_items": null,
       "align_self": null,
       "border_bottom": null,
       "border_left": null,
       "border_right": null,
       "border_top": null,
       "bottom": null,
       "buffers": [],
       "display": null,
       "flex": null,
       "flex_flow": null,
       "grid_area": null,
       "grid_auto_columns": null,
       "grid_auto_flow": null,
       "grid_auto_rows": null,
       "grid_column": null,
       "grid_gap": null,
       "grid_row": null,
       "grid_template_areas": null,
       "grid_template_columns": null,
       "grid_template_rows": null,
       "height": null,
       "justify_content": null,
       "justify_items": null,
       "left": null,
       "margin": null,
       "max_height": null,
       "max_width": null,
       "min_height": null,
       "min_width": null,
       "object_fit": null,
       "object_position": null,
       "order": null,
       "overflow": null,
       "padding": null,
       "right": null,
       "top": null,
       "visibility": null,
       "width": null
      }
     },
     "29154aee869e4c6f9258173f3870b083": {
      "model_module": "@jupyter-widgets/base",
      "model_module_version": "2.0.0",
      "model_name": "LayoutModel",
      "state": {
       "_model_module": "@jupyter-widgets/base",
       "_model_module_version": "2.0.0",
       "_model_name": "LayoutModel",
       "_view_count": null,
       "_view_module": "@jupyter-widgets/base",
       "_view_module_version": "2.0.0",
       "_view_name": "LayoutView",
       "align_content": null,
       "align_items": null,
       "align_self": null,
       "border_bottom": null,
       "border_left": null,
       "border_right": null,
       "border_top": null,
       "bottom": null,
       "buffers": [],
       "display": null,
       "flex": null,
       "flex_flow": null,
       "grid_area": null,
       "grid_auto_columns": null,
       "grid_auto_flow": null,
       "grid_auto_rows": null,
       "grid_column": null,
       "grid_gap": null,
       "grid_row": null,
       "grid_template_areas": null,
       "grid_template_columns": null,
       "grid_template_rows": null,
       "height": null,
       "justify_content": null,
       "justify_items": null,
       "left": null,
       "margin": null,
       "max_height": null,
       "max_width": null,
       "min_height": null,
       "min_width": null,
       "object_fit": null,
       "object_position": null,
       "order": null,
       "overflow": null,
       "padding": null,
       "right": null,
       "top": null,
       "visibility": null,
       "width": null
      }
     },
     "29ca292511d141ebb780afb6ea71be3f": {
      "model_module": "@jupyter-widgets/controls",
      "model_module_version": "2.0.0",
      "model_name": "HTMLStyleModel",
      "state": {
       "_model_module": "@jupyter-widgets/controls",
       "_model_module_version": "2.0.0",
       "_model_name": "HTMLStyleModel",
       "_view_count": null,
       "_view_module": "@jupyter-widgets/base",
       "_view_module_version": "2.0.0",
       "_view_name": "StyleView",
       "background": null,
       "buffers": [],
       "description_width": "",
       "font_size": null,
       "text_color": null
      }
     },
     "2b330342d13a424e8bd4b6954d645e7a": {
      "model_module": "@jupyter-widgets/controls",
      "model_module_version": "2.0.0",
      "model_name": "HTMLStyleModel",
      "state": {
       "_model_module": "@jupyter-widgets/controls",
       "_model_module_version": "2.0.0",
       "_model_name": "HTMLStyleModel",
       "_view_count": null,
       "_view_module": "@jupyter-widgets/base",
       "_view_module_version": "2.0.0",
       "_view_name": "StyleView",
       "background": null,
       "buffers": [],
       "description_width": "",
       "font_size": null,
       "text_color": null
      }
     },
     "2c25758d33a24551afc81aabe8a8f9d9": {
      "model_module": "@jupyter-widgets/controls",
      "model_module_version": "2.0.0",
      "model_name": "HTMLModel",
      "state": {
       "_dom_classes": [],
       "_model_module": "@jupyter-widgets/controls",
       "_model_module_version": "2.0.0",
       "_model_name": "HTMLModel",
       "_view_count": null,
       "_view_module": "@jupyter-widgets/controls",
       "_view_module_version": "2.0.0",
       "_view_name": "HTMLView",
       "buffers": [],
       "description": "",
       "description_allow_html": false,
       "layout": "IPY_MODEL_5c9a96752a7042c28025c9df94b4f46b",
       "placeholder": "​",
       "style": "IPY_MODEL_0d66be5f5b6c4e849c423679568e06f8",
       "tabbable": null,
       "tooltip": null,
       "value": " 351/351 [00:07&lt;00:00, 48.11it/s]"
      }
     },
     "2d9baacdbe5a458487a1ba57e8b3b11f": {
      "model_module": "@jupyter-widgets/base",
      "model_module_version": "2.0.0",
      "model_name": "LayoutModel",
      "state": {
       "_model_module": "@jupyter-widgets/base",
       "_model_module_version": "2.0.0",
       "_model_name": "LayoutModel",
       "_view_count": null,
       "_view_module": "@jupyter-widgets/base",
       "_view_module_version": "2.0.0",
       "_view_name": "LayoutView",
       "align_content": null,
       "align_items": null,
       "align_self": null,
       "border_bottom": null,
       "border_left": null,
       "border_right": null,
       "border_top": null,
       "bottom": null,
       "buffers": [],
       "display": null,
       "flex": null,
       "flex_flow": null,
       "grid_area": null,
       "grid_auto_columns": null,
       "grid_auto_flow": null,
       "grid_auto_rows": null,
       "grid_column": null,
       "grid_gap": null,
       "grid_row": null,
       "grid_template_areas": null,
       "grid_template_columns": null,
       "grid_template_rows": null,
       "height": null,
       "justify_content": null,
       "justify_items": null,
       "left": null,
       "margin": null,
       "max_height": null,
       "max_width": null,
       "min_height": null,
       "min_width": null,
       "object_fit": null,
       "object_position": null,
       "order": null,
       "overflow": null,
       "padding": null,
       "right": null,
       "top": null,
       "visibility": "hidden",
       "width": null
      }
     },
     "2e383b1013724de8bea19c24c3258275": {
      "model_module": "@jupyter-widgets/base",
      "model_module_version": "2.0.0",
      "model_name": "LayoutModel",
      "state": {
       "_model_module": "@jupyter-widgets/base",
       "_model_module_version": "2.0.0",
       "_model_name": "LayoutModel",
       "_view_count": null,
       "_view_module": "@jupyter-widgets/base",
       "_view_module_version": "2.0.0",
       "_view_name": "LayoutView",
       "align_content": null,
       "align_items": null,
       "align_self": null,
       "border_bottom": null,
       "border_left": null,
       "border_right": null,
       "border_top": null,
       "bottom": null,
       "buffers": [],
       "display": null,
       "flex": null,
       "flex_flow": null,
       "grid_area": null,
       "grid_auto_columns": null,
       "grid_auto_flow": null,
       "grid_auto_rows": null,
       "grid_column": null,
       "grid_gap": null,
       "grid_row": null,
       "grid_template_areas": null,
       "grid_template_columns": null,
       "grid_template_rows": null,
       "height": null,
       "justify_content": null,
       "justify_items": null,
       "left": null,
       "margin": null,
       "max_height": null,
       "max_width": null,
       "min_height": null,
       "min_width": null,
       "object_fit": null,
       "object_position": null,
       "order": null,
       "overflow": null,
       "padding": null,
       "right": null,
       "top": null,
       "visibility": null,
       "width": null
      }
     },
     "3163b7a45f97442cad800e0d6a81fc4d": {
      "model_module": "@jupyter-widgets/controls",
      "model_module_version": "2.0.0",
      "model_name": "HTMLStyleModel",
      "state": {
       "_model_module": "@jupyter-widgets/controls",
       "_model_module_version": "2.0.0",
       "_model_name": "HTMLStyleModel",
       "_view_count": null,
       "_view_module": "@jupyter-widgets/base",
       "_view_module_version": "2.0.0",
       "_view_name": "StyleView",
       "background": null,
       "buffers": [],
       "description_width": "",
       "font_size": null,
       "text_color": null
      }
     },
     "33b922fa920f4bcd87e304b835b8fe58": {
      "model_module": "@jupyter-widgets/controls",
      "model_module_version": "2.0.0",
      "model_name": "HTMLModel",
      "state": {
       "_dom_classes": [],
       "_model_module": "@jupyter-widgets/controls",
       "_model_module_version": "2.0.0",
       "_model_name": "HTMLModel",
       "_view_count": null,
       "_view_module": "@jupyter-widgets/controls",
       "_view_module_version": "2.0.0",
       "_view_name": "HTMLView",
       "buffers": [],
       "description": "",
       "description_allow_html": false,
       "layout": "IPY_MODEL_e11d3c9f56454b5895c78a0a6f591055",
       "placeholder": "​",
       "style": "IPY_MODEL_4d273be853bb44e7b3569bda7556487e",
       "tabbable": null,
       "tooltip": null,
       "value": "Training: 100%"
      }
     },
     "38b0c4b5b49c4834bd29696fba897259": {
      "model_module": "@jupyter-widgets/controls",
      "model_module_version": "2.0.0",
      "model_name": "ProgressStyleModel",
      "state": {
       "_model_module": "@jupyter-widgets/controls",
       "_model_module_version": "2.0.0",
       "_model_name": "ProgressStyleModel",
       "_view_count": null,
       "_view_module": "@jupyter-widgets/base",
       "_view_module_version": "2.0.0",
       "_view_name": "StyleView",
       "bar_color": null,
       "buffers": [],
       "description_width": ""
      }
     },
     "38d023b6471349b191a464676bc52f5b": {
      "model_module": "@jupyter-widgets/controls",
      "model_module_version": "2.0.0",
      "model_name": "HTMLModel",
      "state": {
       "_dom_classes": [],
       "_model_module": "@jupyter-widgets/controls",
       "_model_module_version": "2.0.0",
       "_model_name": "HTMLModel",
       "_view_count": null,
       "_view_module": "@jupyter-widgets/controls",
       "_view_module_version": "2.0.0",
       "_view_name": "HTMLView",
       "buffers": [],
       "description": "",
       "description_allow_html": false,
       "layout": "IPY_MODEL_11f04dc408544730beeb750884288d83",
       "placeholder": "​",
       "style": "IPY_MODEL_29ca292511d141ebb780afb6ea71be3f",
       "tabbable": null,
       "tooltip": null,
       "value": "Training: 100%"
      }
     },
     "3cbca3e7da6b472793947d21bcd48c6c": {
      "model_module": "@jupyter-widgets/controls",
      "model_module_version": "2.0.0",
      "model_name": "FloatProgressModel",
      "state": {
       "_dom_classes": [],
       "_model_module": "@jupyter-widgets/controls",
       "_model_module_version": "2.0.0",
       "_model_name": "FloatProgressModel",
       "_view_count": null,
       "_view_module": "@jupyter-widgets/controls",
       "_view_module_version": "2.0.0",
       "_view_name": "ProgressView",
       "bar_style": "",
       "buffers": [],
       "description": "",
       "description_allow_html": false,
       "layout": "IPY_MODEL_10ae5a402a5f4a1eade809f4f4ecb48e",
       "max": 351.0,
       "min": 0.0,
       "orientation": "horizontal",
       "style": "IPY_MODEL_ff2d97108efd4f22876d3a0129b8ed8b",
       "tabbable": null,
       "tooltip": null,
       "value": 351.0
      }
     },
     "3e9cd42c0a83418fa6dc0c338c2cc033": {
      "model_module": "@jupyter-widgets/controls",
      "model_module_version": "2.0.0",
      "model_name": "HTMLStyleModel",
      "state": {
       "_model_module": "@jupyter-widgets/controls",
       "_model_module_version": "2.0.0",
       "_model_name": "HTMLStyleModel",
       "_view_count": null,
       "_view_module": "@jupyter-widgets/base",
       "_view_module_version": "2.0.0",
       "_view_name": "StyleView",
       "background": null,
       "buffers": [],
       "description_width": "",
       "font_size": null,
       "text_color": null
      }
     },
     "3eaf5ea9a824460ea409c5c7c84039f4": {
      "model_module": "@jupyter-widgets/controls",
      "model_module_version": "2.0.0",
      "model_name": "HBoxModel",
      "state": {
       "_dom_classes": [],
       "_model_module": "@jupyter-widgets/controls",
       "_model_module_version": "2.0.0",
       "_model_name": "HBoxModel",
       "_view_count": null,
       "_view_module": "@jupyter-widgets/controls",
       "_view_module_version": "2.0.0",
       "_view_name": "HBoxView",
       "box_style": "",
       "buffers": [],
       "children": [
        "IPY_MODEL_6e733c168a0b498bbc5c44e2c006131c",
        "IPY_MODEL_916aea477b4e4213906cf5b09c2b78c4",
        "IPY_MODEL_c617da8898074cec872488387e140102"
       ],
       "layout": "IPY_MODEL_8f9c01185e3a4db597fbbe4030dcb6e4",
       "tabbable": null,
       "tooltip": null
      }
     },
     "3ebe4cb9adc94e4bad93a9439611f7a1": {
      "model_module": "@jupyter-widgets/base",
      "model_module_version": "2.0.0",
      "model_name": "LayoutModel",
      "state": {
       "_model_module": "@jupyter-widgets/base",
       "_model_module_version": "2.0.0",
       "_model_name": "LayoutModel",
       "_view_count": null,
       "_view_module": "@jupyter-widgets/base",
       "_view_module_version": "2.0.0",
       "_view_name": "LayoutView",
       "align_content": null,
       "align_items": null,
       "align_self": null,
       "border_bottom": null,
       "border_left": null,
       "border_right": null,
       "border_top": null,
       "bottom": null,
       "buffers": [],
       "display": null,
       "flex": null,
       "flex_flow": null,
       "grid_area": null,
       "grid_auto_columns": null,
       "grid_auto_flow": null,
       "grid_auto_rows": null,
       "grid_column": null,
       "grid_gap": null,
       "grid_row": null,
       "grid_template_areas": null,
       "grid_template_columns": null,
       "grid_template_rows": null,
       "height": null,
       "justify_content": null,
       "justify_items": null,
       "left": null,
       "margin": null,
       "max_height": null,
       "max_width": null,
       "min_height": null,
       "min_width": null,
       "object_fit": null,
       "object_position": null,
       "order": null,
       "overflow": null,
       "padding": null,
       "right": null,
       "top": null,
       "visibility": "hidden",
       "width": null
      }
     },
     "3ec0ce16cebd4b9a88069091aceffd12": {
      "model_module": "@jupyter-widgets/base",
      "model_module_version": "2.0.0",
      "model_name": "LayoutModel",
      "state": {
       "_model_module": "@jupyter-widgets/base",
       "_model_module_version": "2.0.0",
       "_model_name": "LayoutModel",
       "_view_count": null,
       "_view_module": "@jupyter-widgets/base",
       "_view_module_version": "2.0.0",
       "_view_name": "LayoutView",
       "align_content": null,
       "align_items": null,
       "align_self": null,
       "border_bottom": null,
       "border_left": null,
       "border_right": null,
       "border_top": null,
       "bottom": null,
       "buffers": [],
       "display": null,
       "flex": null,
       "flex_flow": null,
       "grid_area": null,
       "grid_auto_columns": null,
       "grid_auto_flow": null,
       "grid_auto_rows": null,
       "grid_column": null,
       "grid_gap": null,
       "grid_row": null,
       "grid_template_areas": null,
       "grid_template_columns": null,
       "grid_template_rows": null,
       "height": null,
       "justify_content": null,
       "justify_items": null,
       "left": null,
       "margin": null,
       "max_height": null,
       "max_width": null,
       "min_height": null,
       "min_width": null,
       "object_fit": null,
       "object_position": null,
       "order": null,
       "overflow": null,
       "padding": null,
       "right": null,
       "top": null,
       "visibility": null,
       "width": null
      }
     },
     "3f20d81a2127487f84eecbf3df9ee3f5": {
      "model_module": "@jupyter-widgets/controls",
      "model_module_version": "2.0.0",
      "model_name": "HTMLModel",
      "state": {
       "_dom_classes": [],
       "_model_module": "@jupyter-widgets/controls",
       "_model_module_version": "2.0.0",
       "_model_name": "HTMLModel",
       "_view_count": null,
       "_view_module": "@jupyter-widgets/controls",
       "_view_module_version": "2.0.0",
       "_view_name": "HTMLView",
       "buffers": [],
       "description": "",
       "description_allow_html": false,
       "layout": "IPY_MODEL_80ac82c7a4094d4e94ef36d2ae476ac8",
       "placeholder": "​",
       "style": "IPY_MODEL_db1ba48313dc418ea7c67ded8ca9a203",
       "tabbable": null,
       "tooltip": null,
       "value": "Training:  99%"
      }
     },
     "3f2e9593ebe44f0ba772953fe5ac80fa": {
      "model_module": "@jupyter-widgets/base",
      "model_module_version": "2.0.0",
      "model_name": "LayoutModel",
      "state": {
       "_model_module": "@jupyter-widgets/base",
       "_model_module_version": "2.0.0",
       "_model_name": "LayoutModel",
       "_view_count": null,
       "_view_module": "@jupyter-widgets/base",
       "_view_module_version": "2.0.0",
       "_view_name": "LayoutView",
       "align_content": null,
       "align_items": null,
       "align_self": null,
       "border_bottom": null,
       "border_left": null,
       "border_right": null,
       "border_top": null,
       "bottom": null,
       "buffers": [],
       "display": null,
       "flex": null,
       "flex_flow": null,
       "grid_area": null,
       "grid_auto_columns": null,
       "grid_auto_flow": null,
       "grid_auto_rows": null,
       "grid_column": null,
       "grid_gap": null,
       "grid_row": null,
       "grid_template_areas": null,
       "grid_template_columns": null,
       "grid_template_rows": null,
       "height": null,
       "justify_content": null,
       "justify_items": null,
       "left": null,
       "margin": null,
       "max_height": null,
       "max_width": null,
       "min_height": null,
       "min_width": null,
       "object_fit": null,
       "object_position": null,
       "order": null,
       "overflow": null,
       "padding": null,
       "right": null,
       "top": null,
       "visibility": null,
       "width": null
      }
     },
     "442a2e03afd842cd8b7a7a594c4bb450": {
      "model_module": "@jupyter-widgets/controls",
      "model_module_version": "2.0.0",
      "model_name": "HTMLStyleModel",
      "state": {
       "_model_module": "@jupyter-widgets/controls",
       "_model_module_version": "2.0.0",
       "_model_name": "HTMLStyleModel",
       "_view_count": null,
       "_view_module": "@jupyter-widgets/base",
       "_view_module_version": "2.0.0",
       "_view_name": "StyleView",
       "background": null,
       "buffers": [],
       "description_width": "",
       "font_size": null,
       "text_color": null
      }
     },
     "449a0e47c54441cea201fefd9f9ba500": {
      "model_module": "@jupyter-widgets/controls",
      "model_module_version": "2.0.0",
      "model_name": "FloatProgressModel",
      "state": {
       "_dom_classes": [],
       "_model_module": "@jupyter-widgets/controls",
       "_model_module_version": "2.0.0",
       "_model_name": "FloatProgressModel",
       "_view_count": null,
       "_view_module": "@jupyter-widgets/controls",
       "_view_module_version": "2.0.0",
       "_view_name": "ProgressView",
       "bar_style": "",
       "buffers": [],
       "description": "",
       "description_allow_html": false,
       "layout": "IPY_MODEL_cc52127b65fd4aa1bb40629ed75b8256",
       "max": 351.0,
       "min": 0.0,
       "orientation": "horizontal",
       "style": "IPY_MODEL_063530fbef124f508ac2a2c09970b260",
       "tabbable": null,
       "tooltip": null,
       "value": 351.0
      }
     },
     "45716ec092654e7eb3e577e8e8c8831d": {
      "model_module": "@jupyter-widgets/base",
      "model_module_version": "2.0.0",
      "model_name": "LayoutModel",
      "state": {
       "_model_module": "@jupyter-widgets/base",
       "_model_module_version": "2.0.0",
       "_model_name": "LayoutModel",
       "_view_count": null,
       "_view_module": "@jupyter-widgets/base",
       "_view_module_version": "2.0.0",
       "_view_name": "LayoutView",
       "align_content": null,
       "align_items": null,
       "align_self": null,
       "border_bottom": null,
       "border_left": null,
       "border_right": null,
       "border_top": null,
       "bottom": null,
       "buffers": [],
       "display": null,
       "flex": null,
       "flex_flow": null,
       "grid_area": null,
       "grid_auto_columns": null,
       "grid_auto_flow": null,
       "grid_auto_rows": null,
       "grid_column": null,
       "grid_gap": null,
       "grid_row": null,
       "grid_template_areas": null,
       "grid_template_columns": null,
       "grid_template_rows": null,
       "height": null,
       "justify_content": null,
       "justify_items": null,
       "left": null,
       "margin": null,
       "max_height": null,
       "max_width": null,
       "min_height": null,
       "min_width": null,
       "object_fit": null,
       "object_position": null,
       "order": null,
       "overflow": null,
       "padding": null,
       "right": null,
       "top": null,
       "visibility": null,
       "width": null
      }
     },
     "4678520e78564f44937bc78d20d10f2a": {
      "model_module": "@jupyter-widgets/controls",
      "model_module_version": "2.0.0",
      "model_name": "FloatProgressModel",
      "state": {
       "_dom_classes": [],
       "_model_module": "@jupyter-widgets/controls",
       "_model_module_version": "2.0.0",
       "_model_name": "FloatProgressModel",
       "_view_count": null,
       "_view_module": "@jupyter-widgets/controls",
       "_view_module_version": "2.0.0",
       "_view_name": "ProgressView",
       "bar_style": "",
       "buffers": [],
       "description": "",
       "description_allow_html": false,
       "layout": "IPY_MODEL_2e383b1013724de8bea19c24c3258275",
       "max": 351.0,
       "min": 0.0,
       "orientation": "horizontal",
       "style": "IPY_MODEL_b912302b7f874eb78bd08f33014de7cc",
       "tabbable": null,
       "tooltip": null,
       "value": 351.0
      }
     },
     "46d393c8f30347149f211b3aef7d521a": {
      "model_module": "@jupyter-widgets/controls",
      "model_module_version": "2.0.0",
      "model_name": "HTMLModel",
      "state": {
       "_dom_classes": [],
       "_model_module": "@jupyter-widgets/controls",
       "_model_module_version": "2.0.0",
       "_model_name": "HTMLModel",
       "_view_count": null,
       "_view_module": "@jupyter-widgets/controls",
       "_view_module_version": "2.0.0",
       "_view_name": "HTMLView",
       "buffers": [],
       "description": "",
       "description_allow_html": false,
       "layout": "IPY_MODEL_5625e3a4980848f9a3a5ab44d4de07c1",
       "placeholder": "​",
       "style": "IPY_MODEL_1bc18e0b6f824489b34158d67e28bb39",
       "tabbable": null,
       "tooltip": null,
       "value": "Training: 100%"
      }
     },
     "4b152a7ec98d4b908eac155825a1ef2f": {
      "model_module": "@jupyter-widgets/controls",
      "model_module_version": "2.0.0",
      "model_name": "HTMLModel",
      "state": {
       "_dom_classes": [],
       "_model_module": "@jupyter-widgets/controls",
       "_model_module_version": "2.0.0",
       "_model_name": "HTMLModel",
       "_view_count": null,
       "_view_module": "@jupyter-widgets/controls",
       "_view_module_version": "2.0.0",
       "_view_name": "HTMLView",
       "buffers": [],
       "description": "",
       "description_allow_html": false,
       "layout": "IPY_MODEL_3f2e9593ebe44f0ba772953fe5ac80fa",
       "placeholder": "​",
       "style": "IPY_MODEL_e755c443e29249dda14939b3679f8e45",
       "tabbable": null,
       "tooltip": null,
       "value": " 351/351 [00:07&lt;00:00, 48.11it/s]"
      }
     },
     "4ba7a13a7c1244289caba061e8c6ba3d": {
      "model_module": "@jupyter-widgets/controls",
      "model_module_version": "2.0.0",
      "model_name": "HTMLModel",
      "state": {
       "_dom_classes": [],
       "_model_module": "@jupyter-widgets/controls",
       "_model_module_version": "2.0.0",
       "_model_name": "HTMLModel",
       "_view_count": null,
       "_view_module": "@jupyter-widgets/controls",
       "_view_module_version": "2.0.0",
       "_view_name": "HTMLView",
       "buffers": [],
       "description": "",
       "description_allow_html": false,
       "layout": "IPY_MODEL_29154aee869e4c6f9258173f3870b083",
       "placeholder": "​",
       "style": "IPY_MODEL_978225f19cb648b1836806d8440cee83",
       "tabbable": null,
       "tooltip": null,
       "value": " 348/351 [00:07&lt;00:00, 45.12it/s]"
      }
     },
     "4c4012c5de2d48afa5b6ab3e4f58633d": {
      "model_module": "@jupyter-widgets/controls",
      "model_module_version": "2.0.0",
      "model_name": "FloatProgressModel",
      "state": {
       "_dom_classes": [],
       "_model_module": "@jupyter-widgets/controls",
       "_model_module_version": "2.0.0",
       "_model_name": "FloatProgressModel",
       "_view_count": null,
       "_view_module": "@jupyter-widgets/controls",
       "_view_module_version": "2.0.0",
       "_view_name": "ProgressView",
       "bar_style": "",
       "buffers": [],
       "description": "",
       "description_allow_html": false,
       "layout": "IPY_MODEL_df548d6bff5b4cf9acfe1167832c6e54",
       "max": 351.0,
       "min": 0.0,
       "orientation": "horizontal",
       "style": "IPY_MODEL_a5bd95f3b3f8460b9a70df5b6d52beea",
       "tabbable": null,
       "tooltip": null,
       "value": 351.0
      }
     },
     "4d273be853bb44e7b3569bda7556487e": {
      "model_module": "@jupyter-widgets/controls",
      "model_module_version": "2.0.0",
      "model_name": "HTMLStyleModel",
      "state": {
       "_model_module": "@jupyter-widgets/controls",
       "_model_module_version": "2.0.0",
       "_model_name": "HTMLStyleModel",
       "_view_count": null,
       "_view_module": "@jupyter-widgets/base",
       "_view_module_version": "2.0.0",
       "_view_name": "StyleView",
       "background": null,
       "buffers": [],
       "description_width": "",
       "font_size": null,
       "text_color": null
      }
     },
     "4dc014f815454b0da4348dd073c7ee32": {
      "model_module": "@jupyter-widgets/base",
      "model_module_version": "2.0.0",
      "model_name": "LayoutModel",
      "state": {
       "_model_module": "@jupyter-widgets/base",
       "_model_module_version": "2.0.0",
       "_model_name": "LayoutModel",
       "_view_count": null,
       "_view_module": "@jupyter-widgets/base",
       "_view_module_version": "2.0.0",
       "_view_name": "LayoutView",
       "align_content": null,
       "align_items": null,
       "align_self": null,
       "border_bottom": null,
       "border_left": null,
       "border_right": null,
       "border_top": null,
       "bottom": null,
       "buffers": [],
       "display": null,
       "flex": null,
       "flex_flow": null,
       "grid_area": null,
       "grid_auto_columns": null,
       "grid_auto_flow": null,
       "grid_auto_rows": null,
       "grid_column": null,
       "grid_gap": null,
       "grid_row": null,
       "grid_template_areas": null,
       "grid_template_columns": null,
       "grid_template_rows": null,
       "height": null,
       "justify_content": null,
       "justify_items": null,
       "left": null,
       "margin": null,
       "max_height": null,
       "max_width": null,
       "min_height": null,
       "min_width": null,
       "object_fit": null,
       "object_position": null,
       "order": null,
       "overflow": null,
       "padding": null,
       "right": null,
       "top": null,
       "visibility": "hidden",
       "width": null
      }
     },
     "4f45f45657d1439b9408b744b7c75992": {
      "model_module": "@jupyter-widgets/controls",
      "model_module_version": "2.0.0",
      "model_name": "HTMLStyleModel",
      "state": {
       "_model_module": "@jupyter-widgets/controls",
       "_model_module_version": "2.0.0",
       "_model_name": "HTMLStyleModel",
       "_view_count": null,
       "_view_module": "@jupyter-widgets/base",
       "_view_module_version": "2.0.0",
       "_view_name": "StyleView",
       "background": null,
       "buffers": [],
       "description_width": "",
       "font_size": null,
       "text_color": null
      }
     },
     "50b27bd3374844ffb5c53e8654fb0909": {
      "model_module": "@jupyter-widgets/controls",
      "model_module_version": "2.0.0",
      "model_name": "HTMLModel",
      "state": {
       "_dom_classes": [],
       "_model_module": "@jupyter-widgets/controls",
       "_model_module_version": "2.0.0",
       "_model_name": "HTMLModel",
       "_view_count": null,
       "_view_module": "@jupyter-widgets/controls",
       "_view_module_version": "2.0.0",
       "_view_name": "HTMLView",
       "buffers": [],
       "description": "",
       "description_allow_html": false,
       "layout": "IPY_MODEL_ba53bdeaa0214b6baa3a1a5e2de25659",
       "placeholder": "​",
       "style": "IPY_MODEL_75186b9b69e24d7caa7ab279d1e3a1da",
       "tabbable": null,
       "tooltip": null,
       "value": " 15%"
      }
     },
     "517eeca83f7449a1a8a77240dd033e64": {
      "model_module": "@jupyter-widgets/controls",
      "model_module_version": "2.0.0",
      "model_name": "ProgressStyleModel",
      "state": {
       "_model_module": "@jupyter-widgets/controls",
       "_model_module_version": "2.0.0",
       "_model_name": "ProgressStyleModel",
       "_view_count": null,
       "_view_module": "@jupyter-widgets/base",
       "_view_module_version": "2.0.0",
       "_view_name": "StyleView",
       "bar_color": null,
       "buffers": [],
       "description_width": ""
      }
     },
     "5625e3a4980848f9a3a5ab44d4de07c1": {
      "model_module": "@jupyter-widgets/base",
      "model_module_version": "2.0.0",
      "model_name": "LayoutModel",
      "state": {
       "_model_module": "@jupyter-widgets/base",
       "_model_module_version": "2.0.0",
       "_model_name": "LayoutModel",
       "_view_count": null,
       "_view_module": "@jupyter-widgets/base",
       "_view_module_version": "2.0.0",
       "_view_name": "LayoutView",
       "align_content": null,
       "align_items": null,
       "align_self": null,
       "border_bottom": null,
       "border_left": null,
       "border_right": null,
       "border_top": null,
       "bottom": null,
       "buffers": [],
       "display": null,
       "flex": null,
       "flex_flow": null,
       "grid_area": null,
       "grid_auto_columns": null,
       "grid_auto_flow": null,
       "grid_auto_rows": null,
       "grid_column": null,
       "grid_gap": null,
       "grid_row": null,
       "grid_template_areas": null,
       "grid_template_columns": null,
       "grid_template_rows": null,
       "height": null,
       "justify_content": null,
       "justify_items": null,
       "left": null,
       "margin": null,
       "max_height": null,
       "max_width": null,
       "min_height": null,
       "min_width": null,
       "object_fit": null,
       "object_position": null,
       "order": null,
       "overflow": null,
       "padding": null,
       "right": null,
       "top": null,
       "visibility": null,
       "width": null
      }
     },
     "5811612c409747fcb61f91b9fd54fc00": {
      "model_module": "@jupyter-widgets/controls",
      "model_module_version": "2.0.0",
      "model_name": "ProgressStyleModel",
      "state": {
       "_model_module": "@jupyter-widgets/controls",
       "_model_module_version": "2.0.0",
       "_model_name": "ProgressStyleModel",
       "_view_count": null,
       "_view_module": "@jupyter-widgets/base",
       "_view_module_version": "2.0.0",
       "_view_name": "StyleView",
       "bar_color": null,
       "buffers": [],
       "description_width": ""
      }
     },
     "59296eaae1804d10bbc9c905808e1ef2": {
      "model_module": "@jupyter-widgets/controls",
      "model_module_version": "2.0.0",
      "model_name": "HTMLModel",
      "state": {
       "_dom_classes": [],
       "_model_module": "@jupyter-widgets/controls",
       "_model_module_version": "2.0.0",
       "_model_name": "HTMLModel",
       "_view_count": null,
       "_view_module": "@jupyter-widgets/controls",
       "_view_module_version": "2.0.0",
       "_view_name": "HTMLView",
       "buffers": [],
       "description": "",
       "description_allow_html": false,
       "layout": "IPY_MODEL_d77d275fefb940d981d5d5f42298a049",
       "placeholder": "​",
       "style": "IPY_MODEL_f9c424e2a78a4b3e9a4736b70418f6e0",
       "tabbable": null,
       "tooltip": null,
       "value": " 351/351 [00:07&lt;00:00, 48.11it/s]"
      }
     },
     "59448de2191a4e75975d5595621750b5": {
      "model_module": "@jupyter-widgets/controls",
      "model_module_version": "2.0.0",
      "model_name": "FloatProgressModel",
      "state": {
       "_dom_classes": [],
       "_model_module": "@jupyter-widgets/controls",
       "_model_module_version": "2.0.0",
       "_model_name": "FloatProgressModel",
       "_view_count": null,
       "_view_module": "@jupyter-widgets/controls",
       "_view_module_version": "2.0.0",
       "_view_name": "ProgressView",
       "bar_style": "",
       "buffers": [],
       "description": "",
       "description_allow_html": false,
       "layout": "IPY_MODEL_e260468a54c449d38d04746b96892554",
       "max": 351.0,
       "min": 0.0,
       "orientation": "horizontal",
       "style": "IPY_MODEL_042d10d0e3f4493391882fc14062a805",
       "tabbable": null,
       "tooltip": null,
       "value": 351.0
      }
     },
     "59884f6ee29143b58b959d01d3b43f2e": {
      "model_module": "@jupyter-widgets/base",
      "model_module_version": "2.0.0",
      "model_name": "LayoutModel",
      "state": {
       "_model_module": "@jupyter-widgets/base",
       "_model_module_version": "2.0.0",
       "_model_name": "LayoutModel",
       "_view_count": null,
       "_view_module": "@jupyter-widgets/base",
       "_view_module_version": "2.0.0",
       "_view_name": "LayoutView",
       "align_content": null,
       "align_items": null,
       "align_self": null,
       "border_bottom": null,
       "border_left": null,
       "border_right": null,
       "border_top": null,
       "bottom": null,
       "buffers": [],
       "display": null,
       "flex": null,
       "flex_flow": null,
       "grid_area": null,
       "grid_auto_columns": null,
       "grid_auto_flow": null,
       "grid_auto_rows": null,
       "grid_column": null,
       "grid_gap": null,
       "grid_row": null,
       "grid_template_areas": null,
       "grid_template_columns": null,
       "grid_template_rows": null,
       "height": null,
       "justify_content": null,
       "justify_items": null,
       "left": null,
       "margin": null,
       "max_height": null,
       "max_width": null,
       "min_height": null,
       "min_width": null,
       "object_fit": null,
       "object_position": null,
       "order": null,
       "overflow": null,
       "padding": null,
       "right": null,
       "top": null,
       "visibility": null,
       "width": null
      }
     },
     "5a638823281a4a459788ac7c75d4fdac": {
      "model_module": "@jupyter-widgets/controls",
      "model_module_version": "2.0.0",
      "model_name": "FloatProgressModel",
      "state": {
       "_dom_classes": [],
       "_model_module": "@jupyter-widgets/controls",
       "_model_module_version": "2.0.0",
       "_model_name": "FloatProgressModel",
       "_view_count": null,
       "_view_module": "@jupyter-widgets/controls",
       "_view_module_version": "2.0.0",
       "_view_name": "ProgressView",
       "bar_style": "",
       "buffers": [],
       "description": "",
       "description_allow_html": false,
       "layout": "IPY_MODEL_81da1e21b2f247fcacd83ecf1d4e84e7",
       "max": 351.0,
       "min": 0.0,
       "orientation": "horizontal",
       "style": "IPY_MODEL_e47460cb83cf44dfaf39a70135f20a69",
       "tabbable": null,
       "tooltip": null,
       "value": 351.0
      }
     },
     "5a8a9926a15749a199757fc2b01acc9c": {
      "model_module": "@jupyter-widgets/base",
      "model_module_version": "2.0.0",
      "model_name": "LayoutModel",
      "state": {
       "_model_module": "@jupyter-widgets/base",
       "_model_module_version": "2.0.0",
       "_model_name": "LayoutModel",
       "_view_count": null,
       "_view_module": "@jupyter-widgets/base",
       "_view_module_version": "2.0.0",
       "_view_name": "LayoutView",
       "align_content": null,
       "align_items": null,
       "align_self": null,
       "border_bottom": null,
       "border_left": null,
       "border_right": null,
       "border_top": null,
       "bottom": null,
       "buffers": [],
       "display": null,
       "flex": null,
       "flex_flow": null,
       "grid_area": null,
       "grid_auto_columns": null,
       "grid_auto_flow": null,
       "grid_auto_rows": null,
       "grid_column": null,
       "grid_gap": null,
       "grid_row": null,
       "grid_template_areas": null,
       "grid_template_columns": null,
       "grid_template_rows": null,
       "height": null,
       "justify_content": null,
       "justify_items": null,
       "left": null,
       "margin": null,
       "max_height": null,
       "max_width": null,
       "min_height": null,
       "min_width": null,
       "object_fit": null,
       "object_position": null,
       "order": null,
       "overflow": null,
       "padding": null,
       "right": null,
       "top": null,
       "visibility": null,
       "width": null
      }
     },
     "5b2e099bd6834f34b9689c0cec8c538c": {
      "model_module": "@jupyter-widgets/controls",
      "model_module_version": "2.0.0",
      "model_name": "ProgressStyleModel",
      "state": {
       "_model_module": "@jupyter-widgets/controls",
       "_model_module_version": "2.0.0",
       "_model_name": "ProgressStyleModel",
       "_view_count": null,
       "_view_module": "@jupyter-widgets/base",
       "_view_module_version": "2.0.0",
       "_view_name": "StyleView",
       "bar_color": null,
       "buffers": [],
       "description_width": ""
      }
     },
     "5c9a96752a7042c28025c9df94b4f46b": {
      "model_module": "@jupyter-widgets/base",
      "model_module_version": "2.0.0",
      "model_name": "LayoutModel",
      "state": {
       "_model_module": "@jupyter-widgets/base",
       "_model_module_version": "2.0.0",
       "_model_name": "LayoutModel",
       "_view_count": null,
       "_view_module": "@jupyter-widgets/base",
       "_view_module_version": "2.0.0",
       "_view_name": "LayoutView",
       "align_content": null,
       "align_items": null,
       "align_self": null,
       "border_bottom": null,
       "border_left": null,
       "border_right": null,
       "border_top": null,
       "bottom": null,
       "buffers": [],
       "display": null,
       "flex": null,
       "flex_flow": null,
       "grid_area": null,
       "grid_auto_columns": null,
       "grid_auto_flow": null,
       "grid_auto_rows": null,
       "grid_column": null,
       "grid_gap": null,
       "grid_row": null,
       "grid_template_areas": null,
       "grid_template_columns": null,
       "grid_template_rows": null,
       "height": null,
       "justify_content": null,
       "justify_items": null,
       "left": null,
       "margin": null,
       "max_height": null,
       "max_width": null,
       "min_height": null,
       "min_width": null,
       "object_fit": null,
       "object_position": null,
       "order": null,
       "overflow": null,
       "padding": null,
       "right": null,
       "top": null,
       "visibility": null,
       "width": null
      }
     },
     "5d0208655ff54d6f8d39a4ffdef8d9f0": {
      "model_module": "@jupyter-widgets/controls",
      "model_module_version": "2.0.0",
      "model_name": "ProgressStyleModel",
      "state": {
       "_model_module": "@jupyter-widgets/controls",
       "_model_module_version": "2.0.0",
       "_model_name": "ProgressStyleModel",
       "_view_count": null,
       "_view_module": "@jupyter-widgets/base",
       "_view_module_version": "2.0.0",
       "_view_name": "StyleView",
       "bar_color": null,
       "buffers": [],
       "description_width": ""
      }
     },
     "5d4c2bea6ce74138afb490fee029a97d": {
      "model_module": "@jupyter-widgets/controls",
      "model_module_version": "2.0.0",
      "model_name": "HTMLModel",
      "state": {
       "_dom_classes": [],
       "_model_module": "@jupyter-widgets/controls",
       "_model_module_version": "2.0.0",
       "_model_name": "HTMLModel",
       "_view_count": null,
       "_view_module": "@jupyter-widgets/controls",
       "_view_module_version": "2.0.0",
       "_view_name": "HTMLView",
       "buffers": [],
       "description": "",
       "description_allow_html": false,
       "layout": "IPY_MODEL_20456c11365c475b98589870177a45cd",
       "placeholder": "​",
       "style": "IPY_MODEL_9a93164e971641ae918f4bde26cc66cf",
       "tabbable": null,
       "tooltip": null,
       "value": " 351/351 [00:07&lt;00:00, 48.10it/s]"
      }
     },
     "61e9ff43ba9d458a90b5534caf8b7729": {
      "model_module": "@jupyter-widgets/controls",
      "model_module_version": "2.0.0",
      "model_name": "HTMLStyleModel",
      "state": {
       "_model_module": "@jupyter-widgets/controls",
       "_model_module_version": "2.0.0",
       "_model_name": "HTMLStyleModel",
       "_view_count": null,
       "_view_module": "@jupyter-widgets/base",
       "_view_module_version": "2.0.0",
       "_view_name": "StyleView",
       "background": null,
       "buffers": [],
       "description_width": "",
       "font_size": null,
       "text_color": null
      }
     },
     "63c8b1dc4428436ea4c0294b23167a50": {
      "model_module": "@jupyter-widgets/base",
      "model_module_version": "2.0.0",
      "model_name": "LayoutModel",
      "state": {
       "_model_module": "@jupyter-widgets/base",
       "_model_module_version": "2.0.0",
       "_model_name": "LayoutModel",
       "_view_count": null,
       "_view_module": "@jupyter-widgets/base",
       "_view_module_version": "2.0.0",
       "_view_name": "LayoutView",
       "align_content": null,
       "align_items": null,
       "align_self": null,
       "border_bottom": null,
       "border_left": null,
       "border_right": null,
       "border_top": null,
       "bottom": null,
       "buffers": [],
       "display": null,
       "flex": null,
       "flex_flow": null,
       "grid_area": null,
       "grid_auto_columns": null,
       "grid_auto_flow": null,
       "grid_auto_rows": null,
       "grid_column": null,
       "grid_gap": null,
       "grid_row": null,
       "grid_template_areas": null,
       "grid_template_columns": null,
       "grid_template_rows": null,
       "height": null,
       "justify_content": null,
       "justify_items": null,
       "left": null,
       "margin": null,
       "max_height": null,
       "max_width": null,
       "min_height": null,
       "min_width": null,
       "object_fit": null,
       "object_position": null,
       "order": null,
       "overflow": null,
       "padding": null,
       "right": null,
       "top": null,
       "visibility": null,
       "width": null
      }
     },
     "6530b31357484c2486bf7c91bae093c5": {
      "model_module": "@jupyter-widgets/controls",
      "model_module_version": "2.0.0",
      "model_name": "HTMLModel",
      "state": {
       "_dom_classes": [],
       "_model_module": "@jupyter-widgets/controls",
       "_model_module_version": "2.0.0",
       "_model_name": "HTMLModel",
       "_view_count": null,
       "_view_module": "@jupyter-widgets/controls",
       "_view_module_version": "2.0.0",
       "_view_name": "HTMLView",
       "buffers": [],
       "description": "",
       "description_allow_html": false,
       "layout": "IPY_MODEL_978ad8b98f554177bd38b836fab702c4",
       "placeholder": "​",
       "style": "IPY_MODEL_e0e1b355bd99411dac332e9be3cbb93b",
       "tabbable": null,
       "tooltip": null,
       "value": "Training:  99%"
      }
     },
     "67fb80655d764b618cc18466ee3de606": {
      "model_module": "@jupyter-widgets/base",
      "model_module_version": "2.0.0",
      "model_name": "LayoutModel",
      "state": {
       "_model_module": "@jupyter-widgets/base",
       "_model_module_version": "2.0.0",
       "_model_name": "LayoutModel",
       "_view_count": null,
       "_view_module": "@jupyter-widgets/base",
       "_view_module_version": "2.0.0",
       "_view_name": "LayoutView",
       "align_content": null,
       "align_items": null,
       "align_self": null,
       "border_bottom": null,
       "border_left": null,
       "border_right": null,
       "border_top": null,
       "bottom": null,
       "buffers": [],
       "display": null,
       "flex": null,
       "flex_flow": null,
       "grid_area": null,
       "grid_auto_columns": null,
       "grid_auto_flow": null,
       "grid_auto_rows": null,
       "grid_column": null,
       "grid_gap": null,
       "grid_row": null,
       "grid_template_areas": null,
       "grid_template_columns": null,
       "grid_template_rows": null,
       "height": null,
       "justify_content": null,
       "justify_items": null,
       "left": null,
       "margin": null,
       "max_height": null,
       "max_width": null,
       "min_height": null,
       "min_width": null,
       "object_fit": null,
       "object_position": null,
       "order": null,
       "overflow": null,
       "padding": null,
       "right": null,
       "top": null,
       "visibility": null,
       "width": null
      }
     },
     "6917553c470d4b7a9713925d6cf34f34": {
      "model_module": "@jupyter-widgets/controls",
      "model_module_version": "2.0.0",
      "model_name": "HTMLModel",
      "state": {
       "_dom_classes": [],
       "_model_module": "@jupyter-widgets/controls",
       "_model_module_version": "2.0.0",
       "_model_name": "HTMLModel",
       "_view_count": null,
       "_view_module": "@jupyter-widgets/controls",
       "_view_module_version": "2.0.0",
       "_view_name": "HTMLView",
       "buffers": [],
       "description": "",
       "description_allow_html": false,
       "layout": "IPY_MODEL_2386ebbde55d40b0ac0f79b5e96b1dce",
       "placeholder": "​",
       "style": "IPY_MODEL_bbe7e988c7e54435806302e42dca882a",
       "tabbable": null,
       "tooltip": null,
       "value": " 351/351 [00:07&lt;00:00, 48.11it/s]"
      }
     },
     "69f054f340604121a8a19c133bff5a32": {
      "model_module": "@jupyter-widgets/controls",
      "model_module_version": "2.0.0",
      "model_name": "HTMLModel",
      "state": {
       "_dom_classes": [],
       "_model_module": "@jupyter-widgets/controls",
       "_model_module_version": "2.0.0",
       "_model_name": "HTMLModel",
       "_view_count": null,
       "_view_module": "@jupyter-widgets/controls",
       "_view_module_version": "2.0.0",
       "_view_name": "HTMLView",
       "buffers": [],
       "description": "",
       "description_allow_html": false,
       "layout": "IPY_MODEL_e8a574afd0044065b1b7df1266698a69",
       "placeholder": "​",
       "style": "IPY_MODEL_ca72a87929d94edfa1cc24ad170bdc6c",
       "tabbable": null,
       "tooltip": null,
       "value": "Training:  99%"
      }
     },
     "6be39363cc744801833244a6af5a0047": {
      "model_module": "@jupyter-widgets/controls",
      "model_module_version": "2.0.0",
      "model_name": "HTMLStyleModel",
      "state": {
       "_model_module": "@jupyter-widgets/controls",
       "_model_module_version": "2.0.0",
       "_model_name": "HTMLStyleModel",
       "_view_count": null,
       "_view_module": "@jupyter-widgets/base",
       "_view_module_version": "2.0.0",
       "_view_name": "StyleView",
       "background": null,
       "buffers": [],
       "description_width": "",
       "font_size": null,
       "text_color": null
      }
     },
     "6d3d18f580494d3e849ff4923e3a2546": {
      "model_module": "@jupyter-widgets/controls",
      "model_module_version": "2.0.0",
      "model_name": "HTMLModel",
      "state": {
       "_dom_classes": [],
       "_model_module": "@jupyter-widgets/controls",
       "_model_module_version": "2.0.0",
       "_model_name": "HTMLModel",
       "_view_count": null,
       "_view_module": "@jupyter-widgets/controls",
       "_view_module_version": "2.0.0",
       "_view_name": "HTMLView",
       "buffers": [],
       "description": "",
       "description_allow_html": false,
       "layout": "IPY_MODEL_83e5c7d57e954aaa9e76a243343c1e0f",
       "placeholder": "​",
       "style": "IPY_MODEL_3e9cd42c0a83418fa6dc0c338c2cc033",
       "tabbable": null,
       "tooltip": null,
       "value": "Training:  99%"
      }
     },
     "6dc9f269f10346aab733fedaa892f80e": {
      "model_module": "@jupyter-widgets/base",
      "model_module_version": "2.0.0",
      "model_name": "LayoutModel",
      "state": {
       "_model_module": "@jupyter-widgets/base",
       "_model_module_version": "2.0.0",
       "_model_name": "LayoutModel",
       "_view_count": null,
       "_view_module": "@jupyter-widgets/base",
       "_view_module_version": "2.0.0",
       "_view_name": "LayoutView",
       "align_content": null,
       "align_items": null,
       "align_self": null,
       "border_bottom": null,
       "border_left": null,
       "border_right": null,
       "border_top": null,
       "bottom": null,
       "buffers": [],
       "display": null,
       "flex": null,
       "flex_flow": null,
       "grid_area": null,
       "grid_auto_columns": null,
       "grid_auto_flow": null,
       "grid_auto_rows": null,
       "grid_column": null,
       "grid_gap": null,
       "grid_row": null,
       "grid_template_areas": null,
       "grid_template_columns": null,
       "grid_template_rows": null,
       "height": null,
       "justify_content": null,
       "justify_items": null,
       "left": null,
       "margin": null,
       "max_height": null,
       "max_width": null,
       "min_height": null,
       "min_width": null,
       "object_fit": null,
       "object_position": null,
       "order": null,
       "overflow": null,
       "padding": null,
       "right": null,
       "top": null,
       "visibility": "hidden",
       "width": null
      }
     },
     "6e733c168a0b498bbc5c44e2c006131c": {
      "model_module": "@jupyter-widgets/controls",
      "model_module_version": "2.0.0",
      "model_name": "HTMLModel",
      "state": {
       "_dom_classes": [],
       "_model_module": "@jupyter-widgets/controls",
       "_model_module_version": "2.0.0",
       "_model_name": "HTMLModel",
       "_view_count": null,
       "_view_module": "@jupyter-widgets/controls",
       "_view_module_version": "2.0.0",
       "_view_name": "HTMLView",
       "buffers": [],
       "description": "",
       "description_allow_html": false,
       "layout": "IPY_MODEL_c4df650b27334e848081fd0fa471ce6e",
       "placeholder": "​",
       "style": "IPY_MODEL_bbd92cbc73a84a179ab0a844b96d94d2",
       "tabbable": null,
       "tooltip": null,
       "value": "Training:  53%"
      }
     },
     "75186b9b69e24d7caa7ab279d1e3a1da": {
      "model_module": "@jupyter-widgets/controls",
      "model_module_version": "2.0.0",
      "model_name": "HTMLStyleModel",
      "state": {
       "_model_module": "@jupyter-widgets/controls",
       "_model_module_version": "2.0.0",
       "_model_name": "HTMLStyleModel",
       "_view_count": null,
       "_view_module": "@jupyter-widgets/base",
       "_view_module_version": "2.0.0",
       "_view_name": "StyleView",
       "background": null,
       "buffers": [],
       "description_width": "",
       "font_size": null,
       "text_color": null
      }
     },
     "7641c2686fd34eb89aa3914e36511707": {
      "model_module": "@jupyter-widgets/controls",
      "model_module_version": "2.0.0",
      "model_name": "HTMLModel",
      "state": {
       "_dom_classes": [],
       "_model_module": "@jupyter-widgets/controls",
       "_model_module_version": "2.0.0",
       "_model_name": "HTMLModel",
       "_view_count": null,
       "_view_module": "@jupyter-widgets/controls",
       "_view_module_version": "2.0.0",
       "_view_name": "HTMLView",
       "buffers": [],
       "description": "",
       "description_allow_html": false,
       "layout": "IPY_MODEL_1af660e7f7a14aa3a1a787a6b1fe17b3",
       "placeholder": "​",
       "style": "IPY_MODEL_a7911abbe7e4420c926c221ef7f9c715",
       "tabbable": null,
       "tooltip": null,
       "value": "Training: 100%"
      }
     },
     "77bba6d8c7534192b12bea98d2261cb1": {
      "model_module": "@jupyter-widgets/controls",
      "model_module_version": "2.0.0",
      "model_name": "ProgressStyleModel",
      "state": {
       "_model_module": "@jupyter-widgets/controls",
       "_model_module_version": "2.0.0",
       "_model_name": "ProgressStyleModel",
       "_view_count": null,
       "_view_module": "@jupyter-widgets/base",
       "_view_module_version": "2.0.0",
       "_view_name": "StyleView",
       "bar_color": null,
       "buffers": [],
       "description_width": ""
      }
     },
     "7ace96a0a5b743e291821abe7e99dc4a": {
      "model_module": "@jupyter-widgets/base",
      "model_module_version": "2.0.0",
      "model_name": "LayoutModel",
      "state": {
       "_model_module": "@jupyter-widgets/base",
       "_model_module_version": "2.0.0",
       "_model_name": "LayoutModel",
       "_view_count": null,
       "_view_module": "@jupyter-widgets/base",
       "_view_module_version": "2.0.0",
       "_view_name": "LayoutView",
       "align_content": null,
       "align_items": null,
       "align_self": null,
       "border_bottom": null,
       "border_left": null,
       "border_right": null,
       "border_top": null,
       "bottom": null,
       "buffers": [],
       "display": null,
       "flex": null,
       "flex_flow": null,
       "grid_area": null,
       "grid_auto_columns": null,
       "grid_auto_flow": null,
       "grid_auto_rows": null,
       "grid_column": null,
       "grid_gap": null,
       "grid_row": null,
       "grid_template_areas": null,
       "grid_template_columns": null,
       "grid_template_rows": null,
       "height": null,
       "justify_content": null,
       "justify_items": null,
       "left": null,
       "margin": null,
       "max_height": null,
       "max_width": null,
       "min_height": null,
       "min_width": null,
       "object_fit": null,
       "object_position": null,
       "order": null,
       "overflow": null,
       "padding": null,
       "right": null,
       "top": null,
       "visibility": "hidden",
       "width": null
      }
     },
     "7bb75d8fc132405095d63495e9917b1a": {
      "model_module": "@jupyter-widgets/controls",
      "model_module_version": "2.0.0",
      "model_name": "HTMLModel",
      "state": {
       "_dom_classes": [],
       "_model_module": "@jupyter-widgets/controls",
       "_model_module_version": "2.0.0",
       "_model_name": "HTMLModel",
       "_view_count": null,
       "_view_module": "@jupyter-widgets/controls",
       "_view_module_version": "2.0.0",
       "_view_name": "HTMLView",
       "buffers": [],
       "description": "",
       "description_allow_html": false,
       "layout": "IPY_MODEL_3ec0ce16cebd4b9a88069091aceffd12",
       "placeholder": "​",
       "style": "IPY_MODEL_102908f483de410e98b2409784e9fcd5",
       "tabbable": null,
       "tooltip": null,
       "value": " 351/351 [00:07&lt;00:00, 48.10it/s]"
      }
     },
     "7ce7cdfe780f42c391cb927d1140640c": {
      "model_module": "@jupyter-widgets/base",
      "model_module_version": "2.0.0",
      "model_name": "LayoutModel",
      "state": {
       "_model_module": "@jupyter-widgets/base",
       "_model_module_version": "2.0.0",
       "_model_name": "LayoutModel",
       "_view_count": null,
       "_view_module": "@jupyter-widgets/base",
       "_view_module_version": "2.0.0",
       "_view_name": "LayoutView",
       "align_content": null,
       "align_items": null,
       "align_self": null,
       "border_bottom": null,
       "border_left": null,
       "border_right": null,
       "border_top": null,
       "bottom": null,
       "buffers": [],
       "display": null,
       "flex": null,
       "flex_flow": null,
       "grid_area": null,
       "grid_auto_columns": null,
       "grid_auto_flow": null,
       "grid_auto_rows": null,
       "grid_column": null,
       "grid_gap": null,
       "grid_row": null,
       "grid_template_areas": null,
       "grid_template_columns": null,
       "grid_template_rows": null,
       "height": null,
       "justify_content": null,
       "justify_items": null,
       "left": null,
       "margin": null,
       "max_height": null,
       "max_width": null,
       "min_height": null,
       "min_width": null,
       "object_fit": null,
       "object_position": null,
       "order": null,
       "overflow": null,
       "padding": null,
       "right": null,
       "top": null,
       "visibility": null,
       "width": null
      }
     },
     "80ac82c7a4094d4e94ef36d2ae476ac8": {
      "model_module": "@jupyter-widgets/base",
      "model_module_version": "2.0.0",
      "model_name": "LayoutModel",
      "state": {
       "_model_module": "@jupyter-widgets/base",
       "_model_module_version": "2.0.0",
       "_model_name": "LayoutModel",
       "_view_count": null,
       "_view_module": "@jupyter-widgets/base",
       "_view_module_version": "2.0.0",
       "_view_name": "LayoutView",
       "align_content": null,
       "align_items": null,
       "align_self": null,
       "border_bottom": null,
       "border_left": null,
       "border_right": null,
       "border_top": null,
       "bottom": null,
       "buffers": [],
       "display": null,
       "flex": null,
       "flex_flow": null,
       "grid_area": null,
       "grid_auto_columns": null,
       "grid_auto_flow": null,
       "grid_auto_rows": null,
       "grid_column": null,
       "grid_gap": null,
       "grid_row": null,
       "grid_template_areas": null,
       "grid_template_columns": null,
       "grid_template_rows": null,
       "height": null,
       "justify_content": null,
       "justify_items": null,
       "left": null,
       "margin": null,
       "max_height": null,
       "max_width": null,
       "min_height": null,
       "min_width": null,
       "object_fit": null,
       "object_position": null,
       "order": null,
       "overflow": null,
       "padding": null,
       "right": null,
       "top": null,
       "visibility": null,
       "width": null
      }
     },
     "81da1e21b2f247fcacd83ecf1d4e84e7": {
      "model_module": "@jupyter-widgets/base",
      "model_module_version": "2.0.0",
      "model_name": "LayoutModel",
      "state": {
       "_model_module": "@jupyter-widgets/base",
       "_model_module_version": "2.0.0",
       "_model_name": "LayoutModel",
       "_view_count": null,
       "_view_module": "@jupyter-widgets/base",
       "_view_module_version": "2.0.0",
       "_view_name": "LayoutView",
       "align_content": null,
       "align_items": null,
       "align_self": null,
       "border_bottom": null,
       "border_left": null,
       "border_right": null,
       "border_top": null,
       "bottom": null,
       "buffers": [],
       "display": null,
       "flex": null,
       "flex_flow": null,
       "grid_area": null,
       "grid_auto_columns": null,
       "grid_auto_flow": null,
       "grid_auto_rows": null,
       "grid_column": null,
       "grid_gap": null,
       "grid_row": null,
       "grid_template_areas": null,
       "grid_template_columns": null,
       "grid_template_rows": null,
       "height": null,
       "justify_content": null,
       "justify_items": null,
       "left": null,
       "margin": null,
       "max_height": null,
       "max_width": null,
       "min_height": null,
       "min_width": null,
       "object_fit": null,
       "object_position": null,
       "order": null,
       "overflow": null,
       "padding": null,
       "right": null,
       "top": null,
       "visibility": null,
       "width": null
      }
     },
     "83e5c7d57e954aaa9e76a243343c1e0f": {
      "model_module": "@jupyter-widgets/base",
      "model_module_version": "2.0.0",
      "model_name": "LayoutModel",
      "state": {
       "_model_module": "@jupyter-widgets/base",
       "_model_module_version": "2.0.0",
       "_model_name": "LayoutModel",
       "_view_count": null,
       "_view_module": "@jupyter-widgets/base",
       "_view_module_version": "2.0.0",
       "_view_name": "LayoutView",
       "align_content": null,
       "align_items": null,
       "align_self": null,
       "border_bottom": null,
       "border_left": null,
       "border_right": null,
       "border_top": null,
       "bottom": null,
       "buffers": [],
       "display": null,
       "flex": null,
       "flex_flow": null,
       "grid_area": null,
       "grid_auto_columns": null,
       "grid_auto_flow": null,
       "grid_auto_rows": null,
       "grid_column": null,
       "grid_gap": null,
       "grid_row": null,
       "grid_template_areas": null,
       "grid_template_columns": null,
       "grid_template_rows": null,
       "height": null,
       "justify_content": null,
       "justify_items": null,
       "left": null,
       "margin": null,
       "max_height": null,
       "max_width": null,
       "min_height": null,
       "min_width": null,
       "object_fit": null,
       "object_position": null,
       "order": null,
       "overflow": null,
       "padding": null,
       "right": null,
       "top": null,
       "visibility": null,
       "width": null
      }
     },
     "8da5eec6bcf549efbc8ca9a7c70b8f00": {
      "model_module": "@jupyter-widgets/controls",
      "model_module_version": "2.0.0",
      "model_name": "HTMLModel",
      "state": {
       "_dom_classes": [],
       "_model_module": "@jupyter-widgets/controls",
       "_model_module_version": "2.0.0",
       "_model_name": "HTMLModel",
       "_view_count": null,
       "_view_module": "@jupyter-widgets/controls",
       "_view_module_version": "2.0.0",
       "_view_name": "HTMLView",
       "buffers": [],
       "description": "",
       "description_allow_html": false,
       "layout": "IPY_MODEL_fe3977d7d55e4d268342bac7d0c44b58",
       "placeholder": "​",
       "style": "IPY_MODEL_946c9d1e8b5547fc8a39ba5b71642a5b",
       "tabbable": null,
       "tooltip": null,
       "value": " 351/351 [00:07&lt;00:00, 48.11it/s]"
      }
     },
     "8f9c01185e3a4db597fbbe4030dcb6e4": {
      "model_module": "@jupyter-widgets/base",
      "model_module_version": "2.0.0",
      "model_name": "LayoutModel",
      "state": {
       "_model_module": "@jupyter-widgets/base",
       "_model_module_version": "2.0.0",
       "_model_name": "LayoutModel",
       "_view_count": null,
       "_view_module": "@jupyter-widgets/base",
       "_view_module_version": "2.0.0",
       "_view_name": "LayoutView",
       "align_content": null,
       "align_items": null,
       "align_self": null,
       "border_bottom": null,
       "border_left": null,
       "border_right": null,
       "border_top": null,
       "bottom": null,
       "buffers": [],
       "display": null,
       "flex": null,
       "flex_flow": null,
       "grid_area": null,
       "grid_auto_columns": null,
       "grid_auto_flow": null,
       "grid_auto_rows": null,
       "grid_column": null,
       "grid_gap": null,
       "grid_row": null,
       "grid_template_areas": null,
       "grid_template_columns": null,
       "grid_template_rows": null,
       "height": null,
       "justify_content": null,
       "justify_items": null,
       "left": null,
       "margin": null,
       "max_height": null,
       "max_width": null,
       "min_height": null,
       "min_width": null,
       "object_fit": null,
       "object_position": null,
       "order": null,
       "overflow": null,
       "padding": null,
       "right": null,
       "top": null,
       "visibility": null,
       "width": null
      }
     },
     "9091ded148ba4ee3a9c7e706aa9aa8da": {
      "model_module": "@jupyter-widgets/base",
      "model_module_version": "2.0.0",
      "model_name": "LayoutModel",
      "state": {
       "_model_module": "@jupyter-widgets/base",
       "_model_module_version": "2.0.0",
       "_model_name": "LayoutModel",
       "_view_count": null,
       "_view_module": "@jupyter-widgets/base",
       "_view_module_version": "2.0.0",
       "_view_name": "LayoutView",
       "align_content": null,
       "align_items": null,
       "align_self": null,
       "border_bottom": null,
       "border_left": null,
       "border_right": null,
       "border_top": null,
       "bottom": null,
       "buffers": [],
       "display": null,
       "flex": null,
       "flex_flow": null,
       "grid_area": null,
       "grid_auto_columns": null,
       "grid_auto_flow": null,
       "grid_auto_rows": null,
       "grid_column": null,
       "grid_gap": null,
       "grid_row": null,
       "grid_template_areas": null,
       "grid_template_columns": null,
       "grid_template_rows": null,
       "height": null,
       "justify_content": null,
       "justify_items": null,
       "left": null,
       "margin": null,
       "max_height": null,
       "max_width": null,
       "min_height": null,
       "min_width": null,
       "object_fit": null,
       "object_position": null,
       "order": null,
       "overflow": null,
       "padding": null,
       "right": null,
       "top": null,
       "visibility": null,
       "width": null
      }
     },
     "90b4df5f0b424e34b5be14bc6ee79e3b": {
      "model_module": "@jupyter-widgets/controls",
      "model_module_version": "2.0.0",
      "model_name": "HTMLModel",
      "state": {
       "_dom_classes": [],
       "_model_module": "@jupyter-widgets/controls",
       "_model_module_version": "2.0.0",
       "_model_name": "HTMLModel",
       "_view_count": null,
       "_view_module": "@jupyter-widgets/controls",
       "_view_module_version": "2.0.0",
       "_view_name": "HTMLView",
       "buffers": [],
       "description": "",
       "description_allow_html": false,
       "layout": "IPY_MODEL_59884f6ee29143b58b959d01d3b43f2e",
       "placeholder": "​",
       "style": "IPY_MODEL_bbbfeae547cc40309f7aa28c895e8843",
       "tabbable": null,
       "tooltip": null,
       "value": " 351/351 [00:07&lt;00:00, 48.12it/s]"
      }
     },
     "916aea477b4e4213906cf5b09c2b78c4": {
      "model_module": "@jupyter-widgets/controls",
      "model_module_version": "2.0.0",
      "model_name": "FloatProgressModel",
      "state": {
       "_dom_classes": [],
       "_model_module": "@jupyter-widgets/controls",
       "_model_module_version": "2.0.0",
       "_model_name": "FloatProgressModel",
       "_view_count": null,
       "_view_module": "@jupyter-widgets/controls",
       "_view_module_version": "2.0.0",
       "_view_name": "ProgressView",
       "bar_style": "danger",
       "buffers": [],
       "description": "",
       "description_allow_html": false,
       "layout": "IPY_MODEL_f17615de071a4a9192c53a956769798b",
       "max": 351.0,
       "min": 0.0,
       "orientation": "horizontal",
       "style": "IPY_MODEL_972e1f4a99644e6e93ac75b1902fb4de",
       "tabbable": null,
       "tooltip": null,
       "value": 187.0
      }
     },
     "91c3b3e1358349ba9c5eefbeba036a64": {
      "model_module": "@jupyter-widgets/controls",
      "model_module_version": "2.0.0",
      "model_name": "HBoxModel",
      "state": {
       "_dom_classes": [],
       "_model_module": "@jupyter-widgets/controls",
       "_model_module_version": "2.0.0",
       "_model_name": "HBoxModel",
       "_view_count": null,
       "_view_module": "@jupyter-widgets/controls",
       "_view_module_version": "2.0.0",
       "_view_name": "HBoxView",
       "box_style": "",
       "buffers": [],
       "children": [
        "IPY_MODEL_50b27bd3374844ffb5c53e8654fb0909",
        "IPY_MODEL_affe3d8d49e240ebb30fae8d7ad7d3d0",
        "IPY_MODEL_9afaf32c00d34c31a4e3f269a47d04c3"
       ],
       "layout": "IPY_MODEL_b253a81bfc034fb2a27bf3b68bd3adc3",
       "tabbable": null,
       "tooltip": null
      }
     },
     "93c3136aa4384aa1bcf1517008c3edbe": {
      "model_module": "@jupyter-widgets/controls",
      "model_module_version": "2.0.0",
      "model_name": "HTMLModel",
      "state": {
       "_dom_classes": [],
       "_model_module": "@jupyter-widgets/controls",
       "_model_module_version": "2.0.0",
       "_model_name": "HTMLModel",
       "_view_count": null,
       "_view_module": "@jupyter-widgets/controls",
       "_view_module_version": "2.0.0",
       "_view_name": "HTMLView",
       "buffers": [],
       "description": "",
       "description_allow_html": false,
       "layout": "IPY_MODEL_1f769f2c8085464483075f10747559c7",
       "placeholder": "​",
       "style": "IPY_MODEL_24b13a4190c54f33a521734a99385f5c",
       "tabbable": null,
       "tooltip": null,
       "value": " 348/351 [00:07&lt;00:00, 48.10it/s]"
      }
     },
     "946438787e014eada605a0013d24b4db": {
      "model_module": "@jupyter-widgets/base",
      "model_module_version": "2.0.0",
      "model_name": "LayoutModel",
      "state": {
       "_model_module": "@jupyter-widgets/base",
       "_model_module_version": "2.0.0",
       "_model_name": "LayoutModel",
       "_view_count": null,
       "_view_module": "@jupyter-widgets/base",
       "_view_module_version": "2.0.0",
       "_view_name": "LayoutView",
       "align_content": null,
       "align_items": null,
       "align_self": null,
       "border_bottom": null,
       "border_left": null,
       "border_right": null,
       "border_top": null,
       "bottom": null,
       "buffers": [],
       "display": null,
       "flex": null,
       "flex_flow": null,
       "grid_area": null,
       "grid_auto_columns": null,
       "grid_auto_flow": null,
       "grid_auto_rows": null,
       "grid_column": null,
       "grid_gap": null,
       "grid_row": null,
       "grid_template_areas": null,
       "grid_template_columns": null,
       "grid_template_rows": null,
       "height": null,
       "justify_content": null,
       "justify_items": null,
       "left": null,
       "margin": null,
       "max_height": null,
       "max_width": null,
       "min_height": null,
       "min_width": null,
       "object_fit": null,
       "object_position": null,
       "order": null,
       "overflow": null,
       "padding": null,
       "right": null,
       "top": null,
       "visibility": "hidden",
       "width": null
      }
     },
     "946c9d1e8b5547fc8a39ba5b71642a5b": {
      "model_module": "@jupyter-widgets/controls",
      "model_module_version": "2.0.0",
      "model_name": "HTMLStyleModel",
      "state": {
       "_model_module": "@jupyter-widgets/controls",
       "_model_module_version": "2.0.0",
       "_model_name": "HTMLStyleModel",
       "_view_count": null,
       "_view_module": "@jupyter-widgets/base",
       "_view_module_version": "2.0.0",
       "_view_name": "StyleView",
       "background": null,
       "buffers": [],
       "description_width": "",
       "font_size": null,
       "text_color": null
      }
     },
     "96304ca2b87141ca86008a26a006e091": {
      "model_module": "@jupyter-widgets/base",
      "model_module_version": "2.0.0",
      "model_name": "LayoutModel",
      "state": {
       "_model_module": "@jupyter-widgets/base",
       "_model_module_version": "2.0.0",
       "_model_name": "LayoutModel",
       "_view_count": null,
       "_view_module": "@jupyter-widgets/base",
       "_view_module_version": "2.0.0",
       "_view_name": "LayoutView",
       "align_content": null,
       "align_items": null,
       "align_self": null,
       "border_bottom": null,
       "border_left": null,
       "border_right": null,
       "border_top": null,
       "bottom": null,
       "buffers": [],
       "display": null,
       "flex": null,
       "flex_flow": null,
       "grid_area": null,
       "grid_auto_columns": null,
       "grid_auto_flow": null,
       "grid_auto_rows": null,
       "grid_column": null,
       "grid_gap": null,
       "grid_row": null,
       "grid_template_areas": null,
       "grid_template_columns": null,
       "grid_template_rows": null,
       "height": null,
       "justify_content": null,
       "justify_items": null,
       "left": null,
       "margin": null,
       "max_height": null,
       "max_width": null,
       "min_height": null,
       "min_width": null,
       "object_fit": null,
       "object_position": null,
       "order": null,
       "overflow": null,
       "padding": null,
       "right": null,
       "top": null,
       "visibility": "hidden",
       "width": null
      }
     },
     "96bc9832a8ef44b7a76c1ddf17ff9db1": {
      "model_module": "@jupyter-widgets/controls",
      "model_module_version": "2.0.0",
      "model_name": "HTMLModel",
      "state": {
       "_dom_classes": [],
       "_model_module": "@jupyter-widgets/controls",
       "_model_module_version": "2.0.0",
       "_model_name": "HTMLModel",
       "_view_count": null,
       "_view_module": "@jupyter-widgets/controls",
       "_view_module_version": "2.0.0",
       "_view_name": "HTMLView",
       "buffers": [],
       "description": "",
       "description_allow_html": false,
       "layout": "IPY_MODEL_63c8b1dc4428436ea4c0294b23167a50",
       "placeholder": "​",
       "style": "IPY_MODEL_1bff8595b7514bf9bfb97c02167fe8a9",
       "tabbable": null,
       "tooltip": null,
       "value": " 351/351 [00:07&lt;00:00, 48.12it/s]"
      }
     },
     "972e1f4a99644e6e93ac75b1902fb4de": {
      "model_module": "@jupyter-widgets/controls",
      "model_module_version": "2.0.0",
      "model_name": "ProgressStyleModel",
      "state": {
       "_model_module": "@jupyter-widgets/controls",
       "_model_module_version": "2.0.0",
       "_model_name": "ProgressStyleModel",
       "_view_count": null,
       "_view_module": "@jupyter-widgets/base",
       "_view_module_version": "2.0.0",
       "_view_name": "StyleView",
       "bar_color": null,
       "buffers": [],
       "description_width": ""
      }
     },
     "975745d19d1243aba949a6903f055696": {
      "model_module": "@jupyter-widgets/controls",
      "model_module_version": "2.0.0",
      "model_name": "HTMLModel",
      "state": {
       "_dom_classes": [],
       "_model_module": "@jupyter-widgets/controls",
       "_model_module_version": "2.0.0",
       "_model_name": "HTMLModel",
       "_view_count": null,
       "_view_module": "@jupyter-widgets/controls",
       "_view_module_version": "2.0.0",
       "_view_name": "HTMLView",
       "buffers": [],
       "description": "",
       "description_allow_html": false,
       "layout": "IPY_MODEL_a2508b5c5e74438899bba410c9606e6b",
       "placeholder": "​",
       "style": "IPY_MODEL_1ef26f55e1f344478c65b3cb94ef10fc",
       "tabbable": null,
       "tooltip": null,
       "value": "Training:  99%"
      }
     },
     "978225f19cb648b1836806d8440cee83": {
      "model_module": "@jupyter-widgets/controls",
      "model_module_version": "2.0.0",
      "model_name": "HTMLStyleModel",
      "state": {
       "_model_module": "@jupyter-widgets/controls",
       "_model_module_version": "2.0.0",
       "_model_name": "HTMLStyleModel",
       "_view_count": null,
       "_view_module": "@jupyter-widgets/base",
       "_view_module_version": "2.0.0",
       "_view_name": "StyleView",
       "background": null,
       "buffers": [],
       "description_width": "",
       "font_size": null,
       "text_color": null
      }
     },
     "978ad8b98f554177bd38b836fab702c4": {
      "model_module": "@jupyter-widgets/base",
      "model_module_version": "2.0.0",
      "model_name": "LayoutModel",
      "state": {
       "_model_module": "@jupyter-widgets/base",
       "_model_module_version": "2.0.0",
       "_model_name": "LayoutModel",
       "_view_count": null,
       "_view_module": "@jupyter-widgets/base",
       "_view_module_version": "2.0.0",
       "_view_name": "LayoutView",
       "align_content": null,
       "align_items": null,
       "align_self": null,
       "border_bottom": null,
       "border_left": null,
       "border_right": null,
       "border_top": null,
       "bottom": null,
       "buffers": [],
       "display": null,
       "flex": null,
       "flex_flow": null,
       "grid_area": null,
       "grid_auto_columns": null,
       "grid_auto_flow": null,
       "grid_auto_rows": null,
       "grid_column": null,
       "grid_gap": null,
       "grid_row": null,
       "grid_template_areas": null,
       "grid_template_columns": null,
       "grid_template_rows": null,
       "height": null,
       "justify_content": null,
       "justify_items": null,
       "left": null,
       "margin": null,
       "max_height": null,
       "max_width": null,
       "min_height": null,
       "min_width": null,
       "object_fit": null,
       "object_position": null,
       "order": null,
       "overflow": null,
       "padding": null,
       "right": null,
       "top": null,
       "visibility": null,
       "width": null
      }
     },
     "9a93164e971641ae918f4bde26cc66cf": {
      "model_module": "@jupyter-widgets/controls",
      "model_module_version": "2.0.0",
      "model_name": "HTMLStyleModel",
      "state": {
       "_model_module": "@jupyter-widgets/controls",
       "_model_module_version": "2.0.0",
       "_model_name": "HTMLStyleModel",
       "_view_count": null,
       "_view_module": "@jupyter-widgets/base",
       "_view_module_version": "2.0.0",
       "_view_name": "StyleView",
       "background": null,
       "buffers": [],
       "description_width": "",
       "font_size": null,
       "text_color": null
      }
     },
     "9aec817b04214458aec31dbac876b9dd": {
      "model_module": "@jupyter-widgets/controls",
      "model_module_version": "2.0.0",
      "model_name": "FloatProgressModel",
      "state": {
       "_dom_classes": [],
       "_model_module": "@jupyter-widgets/controls",
       "_model_module_version": "2.0.0",
       "_model_name": "FloatProgressModel",
       "_view_count": null,
       "_view_module": "@jupyter-widgets/controls",
       "_view_module_version": "2.0.0",
       "_view_name": "ProgressView",
       "bar_style": "",
       "buffers": [],
       "description": "",
       "description_allow_html": false,
       "layout": "IPY_MODEL_2269a274c16b4e3182d19ca93d8b9309",
       "max": 351.0,
       "min": 0.0,
       "orientation": "horizontal",
       "style": "IPY_MODEL_ae1814e2386542feaf75fd178c5180a4",
       "tabbable": null,
       "tooltip": null,
       "value": 351.0
      }
     },
     "9afaf32c00d34c31a4e3f269a47d04c3": {
      "model_module": "@jupyter-widgets/controls",
      "model_module_version": "2.0.0",
      "model_name": "HTMLModel",
      "state": {
       "_dom_classes": [],
       "_model_module": "@jupyter-widgets/controls",
       "_model_module_version": "2.0.0",
       "_model_name": "HTMLModel",
       "_view_count": null,
       "_view_module": "@jupyter-widgets/controls",
       "_view_module_version": "2.0.0",
       "_view_name": "HTMLView",
       "buffers": [],
       "description": "",
       "description_allow_html": false,
       "layout": "IPY_MODEL_f917275a3f0a43718f861b6df174bdb8",
       "placeholder": "​",
       "style": "IPY_MODEL_4f45f45657d1439b9408b744b7c75992",
       "tabbable": null,
       "tooltip": null,
       "value": " 15/100 [02:18&lt;11:01,  7.78s/it]"
      }
     },
     "9b8bbdd7df3f46dd8c399705b012027e": {
      "model_module": "@jupyter-widgets/controls",
      "model_module_version": "2.0.0",
      "model_name": "FloatProgressModel",
      "state": {
       "_dom_classes": [],
       "_model_module": "@jupyter-widgets/controls",
       "_model_module_version": "2.0.0",
       "_model_name": "FloatProgressModel",
       "_view_count": null,
       "_view_module": "@jupyter-widgets/controls",
       "_view_module_version": "2.0.0",
       "_view_name": "ProgressView",
       "bar_style": "",
       "buffers": [],
       "description": "",
       "description_allow_html": false,
       "layout": "IPY_MODEL_de1d375958704ef8b82a328eabebc16f",
       "max": 351.0,
       "min": 0.0,
       "orientation": "horizontal",
       "style": "IPY_MODEL_0b3ca915310b45e1a00faacfc4684184",
       "tabbable": null,
       "tooltip": null,
       "value": 351.0
      }
     },
     "9c0f895b8d3f4751bf8bc757b311dfd0": {
      "model_module": "@jupyter-widgets/base",
      "model_module_version": "2.0.0",
      "model_name": "LayoutModel",
      "state": {
       "_model_module": "@jupyter-widgets/base",
       "_model_module_version": "2.0.0",
       "_model_name": "LayoutModel",
       "_view_count": null,
       "_view_module": "@jupyter-widgets/base",
       "_view_module_version": "2.0.0",
       "_view_name": "LayoutView",
       "align_content": null,
       "align_items": null,
       "align_self": null,
       "border_bottom": null,
       "border_left": null,
       "border_right": null,
       "border_top": null,
       "bottom": null,
       "buffers": [],
       "display": null,
       "flex": null,
       "flex_flow": null,
       "grid_area": null,
       "grid_auto_columns": null,
       "grid_auto_flow": null,
       "grid_auto_rows": null,
       "grid_column": null,
       "grid_gap": null,
       "grid_row": null,
       "grid_template_areas": null,
       "grid_template_columns": null,
       "grid_template_rows": null,
       "height": null,
       "justify_content": null,
       "justify_items": null,
       "left": null,
       "margin": null,
       "max_height": null,
       "max_width": null,
       "min_height": null,
       "min_width": null,
       "object_fit": null,
       "object_position": null,
       "order": null,
       "overflow": null,
       "padding": null,
       "right": null,
       "top": null,
       "visibility": null,
       "width": null
      }
     },
     "9e1b12e70b16441cb6b1596b5871db7b": {
      "model_module": "@jupyter-widgets/controls",
      "model_module_version": "2.0.0",
      "model_name": "ProgressStyleModel",
      "state": {
       "_model_module": "@jupyter-widgets/controls",
       "_model_module_version": "2.0.0",
       "_model_name": "ProgressStyleModel",
       "_view_count": null,
       "_view_module": "@jupyter-widgets/base",
       "_view_module_version": "2.0.0",
       "_view_name": "StyleView",
       "bar_color": null,
       "buffers": [],
       "description_width": ""
      }
     },
     "a2508b5c5e74438899bba410c9606e6b": {
      "model_module": "@jupyter-widgets/base",
      "model_module_version": "2.0.0",
      "model_name": "LayoutModel",
      "state": {
       "_model_module": "@jupyter-widgets/base",
       "_model_module_version": "2.0.0",
       "_model_name": "LayoutModel",
       "_view_count": null,
       "_view_module": "@jupyter-widgets/base",
       "_view_module_version": "2.0.0",
       "_view_name": "LayoutView",
       "align_content": null,
       "align_items": null,
       "align_self": null,
       "border_bottom": null,
       "border_left": null,
       "border_right": null,
       "border_top": null,
       "bottom": null,
       "buffers": [],
       "display": null,
       "flex": null,
       "flex_flow": null,
       "grid_area": null,
       "grid_auto_columns": null,
       "grid_auto_flow": null,
       "grid_auto_rows": null,
       "grid_column": null,
       "grid_gap": null,
       "grid_row": null,
       "grid_template_areas": null,
       "grid_template_columns": null,
       "grid_template_rows": null,
       "height": null,
       "justify_content": null,
       "justify_items": null,
       "left": null,
       "margin": null,
       "max_height": null,
       "max_width": null,
       "min_height": null,
       "min_width": null,
       "object_fit": null,
       "object_position": null,
       "order": null,
       "overflow": null,
       "padding": null,
       "right": null,
       "top": null,
       "visibility": null,
       "width": null
      }
     },
     "a25b9f87d23a49f1bd4a4e22fed2aeb0": {
      "model_module": "@jupyter-widgets/base",
      "model_module_version": "2.0.0",
      "model_name": "LayoutModel",
      "state": {
       "_model_module": "@jupyter-widgets/base",
       "_model_module_version": "2.0.0",
       "_model_name": "LayoutModel",
       "_view_count": null,
       "_view_module": "@jupyter-widgets/base",
       "_view_module_version": "2.0.0",
       "_view_name": "LayoutView",
       "align_content": null,
       "align_items": null,
       "align_self": null,
       "border_bottom": null,
       "border_left": null,
       "border_right": null,
       "border_top": null,
       "bottom": null,
       "buffers": [],
       "display": null,
       "flex": null,
       "flex_flow": null,
       "grid_area": null,
       "grid_auto_columns": null,
       "grid_auto_flow": null,
       "grid_auto_rows": null,
       "grid_column": null,
       "grid_gap": null,
       "grid_row": null,
       "grid_template_areas": null,
       "grid_template_columns": null,
       "grid_template_rows": null,
       "height": null,
       "justify_content": null,
       "justify_items": null,
       "left": null,
       "margin": null,
       "max_height": null,
       "max_width": null,
       "min_height": null,
       "min_width": null,
       "object_fit": null,
       "object_position": null,
       "order": null,
       "overflow": null,
       "padding": null,
       "right": null,
       "top": null,
       "visibility": null,
       "width": null
      }
     },
     "a5bd95f3b3f8460b9a70df5b6d52beea": {
      "model_module": "@jupyter-widgets/controls",
      "model_module_version": "2.0.0",
      "model_name": "ProgressStyleModel",
      "state": {
       "_model_module": "@jupyter-widgets/controls",
       "_model_module_version": "2.0.0",
       "_model_name": "ProgressStyleModel",
       "_view_count": null,
       "_view_module": "@jupyter-widgets/base",
       "_view_module_version": "2.0.0",
       "_view_name": "StyleView",
       "bar_color": null,
       "buffers": [],
       "description_width": ""
      }
     },
     "a7911abbe7e4420c926c221ef7f9c715": {
      "model_module": "@jupyter-widgets/controls",
      "model_module_version": "2.0.0",
      "model_name": "HTMLStyleModel",
      "state": {
       "_model_module": "@jupyter-widgets/controls",
       "_model_module_version": "2.0.0",
       "_model_name": "HTMLStyleModel",
       "_view_count": null,
       "_view_module": "@jupyter-widgets/base",
       "_view_module_version": "2.0.0",
       "_view_name": "StyleView",
       "background": null,
       "buffers": [],
       "description_width": "",
       "font_size": null,
       "text_color": null
      }
     },
     "a894a4557dc247d6825db2741683582d": {
      "model_module": "@jupyter-widgets/controls",
      "model_module_version": "2.0.0",
      "model_name": "HTMLStyleModel",
      "state": {
       "_model_module": "@jupyter-widgets/controls",
       "_model_module_version": "2.0.0",
       "_model_name": "HTMLStyleModel",
       "_view_count": null,
       "_view_module": "@jupyter-widgets/base",
       "_view_module_version": "2.0.0",
       "_view_name": "StyleView",
       "background": null,
       "buffers": [],
       "description_width": "",
       "font_size": null,
       "text_color": null
      }
     },
     "a8b851c23cfa4c9398d0277a3a076888": {
      "model_module": "@jupyter-widgets/controls",
      "model_module_version": "2.0.0",
      "model_name": "HTMLStyleModel",
      "state": {
       "_model_module": "@jupyter-widgets/controls",
       "_model_module_version": "2.0.0",
       "_model_name": "HTMLStyleModel",
       "_view_count": null,
       "_view_module": "@jupyter-widgets/base",
       "_view_module_version": "2.0.0",
       "_view_name": "StyleView",
       "background": null,
       "buffers": [],
       "description_width": "",
       "font_size": null,
       "text_color": null
      }
     },
     "ae1814e2386542feaf75fd178c5180a4": {
      "model_module": "@jupyter-widgets/controls",
      "model_module_version": "2.0.0",
      "model_name": "ProgressStyleModel",
      "state": {
       "_model_module": "@jupyter-widgets/controls",
       "_model_module_version": "2.0.0",
       "_model_name": "ProgressStyleModel",
       "_view_count": null,
       "_view_module": "@jupyter-widgets/base",
       "_view_module_version": "2.0.0",
       "_view_name": "StyleView",
       "bar_color": null,
       "buffers": [],
       "description_width": ""
      }
     },
     "aebe44d5a92845acba731672a695de08": {
      "model_module": "@jupyter-widgets/base",
      "model_module_version": "2.0.0",
      "model_name": "LayoutModel",
      "state": {
       "_model_module": "@jupyter-widgets/base",
       "_model_module_version": "2.0.0",
       "_model_name": "LayoutModel",
       "_view_count": null,
       "_view_module": "@jupyter-widgets/base",
       "_view_module_version": "2.0.0",
       "_view_name": "LayoutView",
       "align_content": null,
       "align_items": null,
       "align_self": null,
       "border_bottom": null,
       "border_left": null,
       "border_right": null,
       "border_top": null,
       "bottom": null,
       "buffers": [],
       "display": null,
       "flex": null,
       "flex_flow": null,
       "grid_area": null,
       "grid_auto_columns": null,
       "grid_auto_flow": null,
       "grid_auto_rows": null,
       "grid_column": null,
       "grid_gap": null,
       "grid_row": null,
       "grid_template_areas": null,
       "grid_template_columns": null,
       "grid_template_rows": null,
       "height": null,
       "justify_content": null,
       "justify_items": null,
       "left": null,
       "margin": null,
       "max_height": null,
       "max_width": null,
       "min_height": null,
       "min_width": null,
       "object_fit": null,
       "object_position": null,
       "order": null,
       "overflow": null,
       "padding": null,
       "right": null,
       "top": null,
       "visibility": null,
       "width": null
      }
     },
     "afd0bfa5be76400db7bf1b02fa614214": {
      "model_module": "@jupyter-widgets/controls",
      "model_module_version": "2.0.0",
      "model_name": "HTMLModel",
      "state": {
       "_dom_classes": [],
       "_model_module": "@jupyter-widgets/controls",
       "_model_module_version": "2.0.0",
       "_model_name": "HTMLModel",
       "_view_count": null,
       "_view_module": "@jupyter-widgets/controls",
       "_view_module_version": "2.0.0",
       "_view_name": "HTMLView",
       "buffers": [],
       "description": "",
       "description_allow_html": false,
       "layout": "IPY_MODEL_e1803cfac1f64c6fbd0ec5ea7473fc3e",
       "placeholder": "​",
       "style": "IPY_MODEL_442a2e03afd842cd8b7a7a594c4bb450",
       "tabbable": null,
       "tooltip": null,
       "value": "Training: 100%"
      }
     },
     "affe3d8d49e240ebb30fae8d7ad7d3d0": {
      "model_module": "@jupyter-widgets/controls",
      "model_module_version": "2.0.0",
      "model_name": "FloatProgressModel",
      "state": {
       "_dom_classes": [],
       "_model_module": "@jupyter-widgets/controls",
       "_model_module_version": "2.0.0",
       "_model_name": "FloatProgressModel",
       "_view_count": null,
       "_view_module": "@jupyter-widgets/controls",
       "_view_module_version": "2.0.0",
       "_view_name": "ProgressView",
       "bar_style": "danger",
       "buffers": [],
       "description": "",
       "description_allow_html": false,
       "layout": "IPY_MODEL_b70158dc33314d20aa431429d16e90d7",
       "max": 100.0,
       "min": 0.0,
       "orientation": "horizontal",
       "style": "IPY_MODEL_77bba6d8c7534192b12bea98d2261cb1",
       "tabbable": null,
       "tooltip": null,
       "value": 15.0
      }
     },
     "b253a81bfc034fb2a27bf3b68bd3adc3": {
      "model_module": "@jupyter-widgets/base",
      "model_module_version": "2.0.0",
      "model_name": "LayoutModel",
      "state": {
       "_model_module": "@jupyter-widgets/base",
       "_model_module_version": "2.0.0",
       "_model_name": "LayoutModel",
       "_view_count": null,
       "_view_module": "@jupyter-widgets/base",
       "_view_module_version": "2.0.0",
       "_view_name": "LayoutView",
       "align_content": null,
       "align_items": null,
       "align_self": null,
       "border_bottom": null,
       "border_left": null,
       "border_right": null,
       "border_top": null,
       "bottom": null,
       "buffers": [],
       "display": null,
       "flex": null,
       "flex_flow": null,
       "grid_area": null,
       "grid_auto_columns": null,
       "grid_auto_flow": null,
       "grid_auto_rows": null,
       "grid_column": null,
       "grid_gap": null,
       "grid_row": null,
       "grid_template_areas": null,
       "grid_template_columns": null,
       "grid_template_rows": null,
       "height": null,
       "justify_content": null,
       "justify_items": null,
       "left": null,
       "margin": null,
       "max_height": null,
       "max_width": null,
       "min_height": null,
       "min_width": null,
       "object_fit": null,
       "object_position": null,
       "order": null,
       "overflow": null,
       "padding": null,
       "right": null,
       "top": null,
       "visibility": null,
       "width": null
      }
     },
     "b60c61f405d242e983ddc625a389a773": {
      "model_module": "@jupyter-widgets/base",
      "model_module_version": "2.0.0",
      "model_name": "LayoutModel",
      "state": {
       "_model_module": "@jupyter-widgets/base",
       "_model_module_version": "2.0.0",
       "_model_name": "LayoutModel",
       "_view_count": null,
       "_view_module": "@jupyter-widgets/base",
       "_view_module_version": "2.0.0",
       "_view_name": "LayoutView",
       "align_content": null,
       "align_items": null,
       "align_self": null,
       "border_bottom": null,
       "border_left": null,
       "border_right": null,
       "border_top": null,
       "bottom": null,
       "buffers": [],
       "display": null,
       "flex": null,
       "flex_flow": null,
       "grid_area": null,
       "grid_auto_columns": null,
       "grid_auto_flow": null,
       "grid_auto_rows": null,
       "grid_column": null,
       "grid_gap": null,
       "grid_row": null,
       "grid_template_areas": null,
       "grid_template_columns": null,
       "grid_template_rows": null,
       "height": null,
       "justify_content": null,
       "justify_items": null,
       "left": null,
       "margin": null,
       "max_height": null,
       "max_width": null,
       "min_height": null,
       "min_width": null,
       "object_fit": null,
       "object_position": null,
       "order": null,
       "overflow": null,
       "padding": null,
       "right": null,
       "top": null,
       "visibility": null,
       "width": null
      }
     },
     "b70158dc33314d20aa431429d16e90d7": {
      "model_module": "@jupyter-widgets/base",
      "model_module_version": "2.0.0",
      "model_name": "LayoutModel",
      "state": {
       "_model_module": "@jupyter-widgets/base",
       "_model_module_version": "2.0.0",
       "_model_name": "LayoutModel",
       "_view_count": null,
       "_view_module": "@jupyter-widgets/base",
       "_view_module_version": "2.0.0",
       "_view_name": "LayoutView",
       "align_content": null,
       "align_items": null,
       "align_self": null,
       "border_bottom": null,
       "border_left": null,
       "border_right": null,
       "border_top": null,
       "bottom": null,
       "buffers": [],
       "display": null,
       "flex": null,
       "flex_flow": null,
       "grid_area": null,
       "grid_auto_columns": null,
       "grid_auto_flow": null,
       "grid_auto_rows": null,
       "grid_column": null,
       "grid_gap": null,
       "grid_row": null,
       "grid_template_areas": null,
       "grid_template_columns": null,
       "grid_template_rows": null,
       "height": null,
       "justify_content": null,
       "justify_items": null,
       "left": null,
       "margin": null,
       "max_height": null,
       "max_width": null,
       "min_height": null,
       "min_width": null,
       "object_fit": null,
       "object_position": null,
       "order": null,
       "overflow": null,
       "padding": null,
       "right": null,
       "top": null,
       "visibility": null,
       "width": null
      }
     },
     "b912302b7f874eb78bd08f33014de7cc": {
      "model_module": "@jupyter-widgets/controls",
      "model_module_version": "2.0.0",
      "model_name": "ProgressStyleModel",
      "state": {
       "_model_module": "@jupyter-widgets/controls",
       "_model_module_version": "2.0.0",
       "_model_name": "ProgressStyleModel",
       "_view_count": null,
       "_view_module": "@jupyter-widgets/base",
       "_view_module_version": "2.0.0",
       "_view_name": "StyleView",
       "bar_color": null,
       "buffers": [],
       "description_width": ""
      }
     },
     "b94e7ce4739b498d946ad1c2889ea4b3": {
      "model_module": "@jupyter-widgets/controls",
      "model_module_version": "2.0.0",
      "model_name": "HTMLModel",
      "state": {
       "_dom_classes": [],
       "_model_module": "@jupyter-widgets/controls",
       "_model_module_version": "2.0.0",
       "_model_name": "HTMLModel",
       "_view_count": null,
       "_view_module": "@jupyter-widgets/controls",
       "_view_module_version": "2.0.0",
       "_view_name": "HTMLView",
       "buffers": [],
       "description": "",
       "description_allow_html": false,
       "layout": "IPY_MODEL_f76de5c0d6b3492dbfaa7dbcc6c9fea2",
       "placeholder": "​",
       "style": "IPY_MODEL_c16e1c33ad1045bf9a948f3efe492347",
       "tabbable": null,
       "tooltip": null,
       "value": "Training: 100%"
      }
     },
     "b9529fa3519d4b38ad7cefe4395a3e4d": {
      "model_module": "@jupyter-widgets/controls",
      "model_module_version": "2.0.0",
      "model_name": "HTMLModel",
      "state": {
       "_dom_classes": [],
       "_model_module": "@jupyter-widgets/controls",
       "_model_module_version": "2.0.0",
       "_model_name": "HTMLModel",
       "_view_count": null,
       "_view_module": "@jupyter-widgets/controls",
       "_view_module_version": "2.0.0",
       "_view_name": "HTMLView",
       "buffers": [],
       "description": "",
       "description_allow_html": false,
       "layout": "IPY_MODEL_2829c3732048463ebca3d4044c97ad26",
       "placeholder": "​",
       "style": "IPY_MODEL_6be39363cc744801833244a6af5a0047",
       "tabbable": null,
       "tooltip": null,
       "value": " 349/351 [00:19&lt;00:00, 48.10it/s]"
      }
     },
     "ba53bdeaa0214b6baa3a1a5e2de25659": {
      "model_module": "@jupyter-widgets/base",
      "model_module_version": "2.0.0",
      "model_name": "LayoutModel",
      "state": {
       "_model_module": "@jupyter-widgets/base",
       "_model_module_version": "2.0.0",
       "_model_name": "LayoutModel",
       "_view_count": null,
       "_view_module": "@jupyter-widgets/base",
       "_view_module_version": "2.0.0",
       "_view_name": "LayoutView",
       "align_content": null,
       "align_items": null,
       "align_self": null,
       "border_bottom": null,
       "border_left": null,
       "border_right": null,
       "border_top": null,
       "bottom": null,
       "buffers": [],
       "display": null,
       "flex": null,
       "flex_flow": null,
       "grid_area": null,
       "grid_auto_columns": null,
       "grid_auto_flow": null,
       "grid_auto_rows": null,
       "grid_column": null,
       "grid_gap": null,
       "grid_row": null,
       "grid_template_areas": null,
       "grid_template_columns": null,
       "grid_template_rows": null,
       "height": null,
       "justify_content": null,
       "justify_items": null,
       "left": null,
       "margin": null,
       "max_height": null,
       "max_width": null,
       "min_height": null,
       "min_width": null,
       "object_fit": null,
       "object_position": null,
       "order": null,
       "overflow": null,
       "padding": null,
       "right": null,
       "top": null,
       "visibility": null,
       "width": null
      }
     },
     "bbb7bbf74e744f28ba26d9471cc983c3": {
      "model_module": "@jupyter-widgets/controls",
      "model_module_version": "2.0.0",
      "model_name": "FloatProgressModel",
      "state": {
       "_dom_classes": [],
       "_model_module": "@jupyter-widgets/controls",
       "_model_module_version": "2.0.0",
       "_model_name": "FloatProgressModel",
       "_view_count": null,
       "_view_module": "@jupyter-widgets/controls",
       "_view_module_version": "2.0.0",
       "_view_name": "ProgressView",
       "bar_style": "",
       "buffers": [],
       "description": "",
       "description_allow_html": false,
       "layout": "IPY_MODEL_2122accddd5f4763887cbaf38fbc2136",
       "max": 351.0,
       "min": 0.0,
       "orientation": "horizontal",
       "style": "IPY_MODEL_9e1b12e70b16441cb6b1596b5871db7b",
       "tabbable": null,
       "tooltip": null,
       "value": 351.0
      }
     },
     "bbbfeae547cc40309f7aa28c895e8843": {
      "model_module": "@jupyter-widgets/controls",
      "model_module_version": "2.0.0",
      "model_name": "HTMLStyleModel",
      "state": {
       "_model_module": "@jupyter-widgets/controls",
       "_model_module_version": "2.0.0",
       "_model_name": "HTMLStyleModel",
       "_view_count": null,
       "_view_module": "@jupyter-widgets/base",
       "_view_module_version": "2.0.0",
       "_view_name": "StyleView",
       "background": null,
       "buffers": [],
       "description_width": "",
       "font_size": null,
       "text_color": null
      }
     },
     "bbcb03601b204bfc829a886e0486b504": {
      "model_module": "@jupyter-widgets/base",
      "model_module_version": "2.0.0",
      "model_name": "LayoutModel",
      "state": {
       "_model_module": "@jupyter-widgets/base",
       "_model_module_version": "2.0.0",
       "_model_name": "LayoutModel",
       "_view_count": null,
       "_view_module": "@jupyter-widgets/base",
       "_view_module_version": "2.0.0",
       "_view_name": "LayoutView",
       "align_content": null,
       "align_items": null,
       "align_self": null,
       "border_bottom": null,
       "border_left": null,
       "border_right": null,
       "border_top": null,
       "bottom": null,
       "buffers": [],
       "display": null,
       "flex": null,
       "flex_flow": null,
       "grid_area": null,
       "grid_auto_columns": null,
       "grid_auto_flow": null,
       "grid_auto_rows": null,
       "grid_column": null,
       "grid_gap": null,
       "grid_row": null,
       "grid_template_areas": null,
       "grid_template_columns": null,
       "grid_template_rows": null,
       "height": null,
       "justify_content": null,
       "justify_items": null,
       "left": null,
       "margin": null,
       "max_height": null,
       "max_width": null,
       "min_height": null,
       "min_width": null,
       "object_fit": null,
       "object_position": null,
       "order": null,
       "overflow": null,
       "padding": null,
       "right": null,
       "top": null,
       "visibility": "hidden",
       "width": null
      }
     },
     "bbd92cbc73a84a179ab0a844b96d94d2": {
      "model_module": "@jupyter-widgets/controls",
      "model_module_version": "2.0.0",
      "model_name": "HTMLStyleModel",
      "state": {
       "_model_module": "@jupyter-widgets/controls",
       "_model_module_version": "2.0.0",
       "_model_name": "HTMLStyleModel",
       "_view_count": null,
       "_view_module": "@jupyter-widgets/base",
       "_view_module_version": "2.0.0",
       "_view_name": "StyleView",
       "background": null,
       "buffers": [],
       "description_width": "",
       "font_size": null,
       "text_color": null
      }
     },
     "bbe7e988c7e54435806302e42dca882a": {
      "model_module": "@jupyter-widgets/controls",
      "model_module_version": "2.0.0",
      "model_name": "HTMLStyleModel",
      "state": {
       "_model_module": "@jupyter-widgets/controls",
       "_model_module_version": "2.0.0",
       "_model_name": "HTMLStyleModel",
       "_view_count": null,
       "_view_module": "@jupyter-widgets/base",
       "_view_module_version": "2.0.0",
       "_view_name": "StyleView",
       "background": null,
       "buffers": [],
       "description_width": "",
       "font_size": null,
       "text_color": null
      }
     },
     "bf89c836948f4a82bf800fef4a1bef79": {
      "model_module": "@jupyter-widgets/base",
      "model_module_version": "2.0.0",
      "model_name": "LayoutModel",
      "state": {
       "_model_module": "@jupyter-widgets/base",
       "_model_module_version": "2.0.0",
       "_model_name": "LayoutModel",
       "_view_count": null,
       "_view_module": "@jupyter-widgets/base",
       "_view_module_version": "2.0.0",
       "_view_name": "LayoutView",
       "align_content": null,
       "align_items": null,
       "align_self": null,
       "border_bottom": null,
       "border_left": null,
       "border_right": null,
       "border_top": null,
       "bottom": null,
       "buffers": [],
       "display": null,
       "flex": null,
       "flex_flow": null,
       "grid_area": null,
       "grid_auto_columns": null,
       "grid_auto_flow": null,
       "grid_auto_rows": null,
       "grid_column": null,
       "grid_gap": null,
       "grid_row": null,
       "grid_template_areas": null,
       "grid_template_columns": null,
       "grid_template_rows": null,
       "height": null,
       "justify_content": null,
       "justify_items": null,
       "left": null,
       "margin": null,
       "max_height": null,
       "max_width": null,
       "min_height": null,
       "min_width": null,
       "object_fit": null,
       "object_position": null,
       "order": null,
       "overflow": null,
       "padding": null,
       "right": null,
       "top": null,
       "visibility": null,
       "width": null
      }
     },
     "bff9ec069de5429d9cb774f119486e27": {
      "model_module": "@jupyter-widgets/base",
      "model_module_version": "2.0.0",
      "model_name": "LayoutModel",
      "state": {
       "_model_module": "@jupyter-widgets/base",
       "_model_module_version": "2.0.0",
       "_model_name": "LayoutModel",
       "_view_count": null,
       "_view_module": "@jupyter-widgets/base",
       "_view_module_version": "2.0.0",
       "_view_name": "LayoutView",
       "align_content": null,
       "align_items": null,
       "align_self": null,
       "border_bottom": null,
       "border_left": null,
       "border_right": null,
       "border_top": null,
       "bottom": null,
       "buffers": [],
       "display": null,
       "flex": null,
       "flex_flow": null,
       "grid_area": null,
       "grid_auto_columns": null,
       "grid_auto_flow": null,
       "grid_auto_rows": null,
       "grid_column": null,
       "grid_gap": null,
       "grid_row": null,
       "grid_template_areas": null,
       "grid_template_columns": null,
       "grid_template_rows": null,
       "height": null,
       "justify_content": null,
       "justify_items": null,
       "left": null,
       "margin": null,
       "max_height": null,
       "max_width": null,
       "min_height": null,
       "min_width": null,
       "object_fit": null,
       "object_position": null,
       "order": null,
       "overflow": null,
       "padding": null,
       "right": null,
       "top": null,
       "visibility": "hidden",
       "width": null
      }
     },
     "c129a35046e44ef59b37ab02e9dc2977": {
      "model_module": "@jupyter-widgets/base",
      "model_module_version": "2.0.0",
      "model_name": "LayoutModel",
      "state": {
       "_model_module": "@jupyter-widgets/base",
       "_model_module_version": "2.0.0",
       "_model_name": "LayoutModel",
       "_view_count": null,
       "_view_module": "@jupyter-widgets/base",
       "_view_module_version": "2.0.0",
       "_view_name": "LayoutView",
       "align_content": null,
       "align_items": null,
       "align_self": null,
       "border_bottom": null,
       "border_left": null,
       "border_right": null,
       "border_top": null,
       "bottom": null,
       "buffers": [],
       "display": null,
       "flex": null,
       "flex_flow": null,
       "grid_area": null,
       "grid_auto_columns": null,
       "grid_auto_flow": null,
       "grid_auto_rows": null,
       "grid_column": null,
       "grid_gap": null,
       "grid_row": null,
       "grid_template_areas": null,
       "grid_template_columns": null,
       "grid_template_rows": null,
       "height": null,
       "justify_content": null,
       "justify_items": null,
       "left": null,
       "margin": null,
       "max_height": null,
       "max_width": null,
       "min_height": null,
       "min_width": null,
       "object_fit": null,
       "object_position": null,
       "order": null,
       "overflow": null,
       "padding": null,
       "right": null,
       "top": null,
       "visibility": "hidden",
       "width": null
      }
     },
     "c1526fa4c3a1448d9f87c9510a0066a8": {
      "model_module": "@jupyter-widgets/controls",
      "model_module_version": "2.0.0",
      "model_name": "HTMLModel",
      "state": {
       "_dom_classes": [],
       "_model_module": "@jupyter-widgets/controls",
       "_model_module_version": "2.0.0",
       "_model_name": "HTMLModel",
       "_view_count": null,
       "_view_module": "@jupyter-widgets/controls",
       "_view_module_version": "2.0.0",
       "_view_name": "HTMLView",
       "buffers": [],
       "description": "",
       "description_allow_html": false,
       "layout": "IPY_MODEL_ddfe77d6e52a4768b5b4fa3118f846b9",
       "placeholder": "​",
       "style": "IPY_MODEL_2b330342d13a424e8bd4b6954d645e7a",
       "tabbable": null,
       "tooltip": null,
       "value": " 349/351 [00:07&lt;00:00, 48.10it/s]"
      }
     },
     "c16e1c33ad1045bf9a948f3efe492347": {
      "model_module": "@jupyter-widgets/controls",
      "model_module_version": "2.0.0",
      "model_name": "HTMLStyleModel",
      "state": {
       "_model_module": "@jupyter-widgets/controls",
       "_model_module_version": "2.0.0",
       "_model_name": "HTMLStyleModel",
       "_view_count": null,
       "_view_module": "@jupyter-widgets/base",
       "_view_module_version": "2.0.0",
       "_view_name": "StyleView",
       "background": null,
       "buffers": [],
       "description_width": "",
       "font_size": null,
       "text_color": null
      }
     },
     "c4df650b27334e848081fd0fa471ce6e": {
      "model_module": "@jupyter-widgets/base",
      "model_module_version": "2.0.0",
      "model_name": "LayoutModel",
      "state": {
       "_model_module": "@jupyter-widgets/base",
       "_model_module_version": "2.0.0",
       "_model_name": "LayoutModel",
       "_view_count": null,
       "_view_module": "@jupyter-widgets/base",
       "_view_module_version": "2.0.0",
       "_view_name": "LayoutView",
       "align_content": null,
       "align_items": null,
       "align_self": null,
       "border_bottom": null,
       "border_left": null,
       "border_right": null,
       "border_top": null,
       "bottom": null,
       "buffers": [],
       "display": null,
       "flex": null,
       "flex_flow": null,
       "grid_area": null,
       "grid_auto_columns": null,
       "grid_auto_flow": null,
       "grid_auto_rows": null,
       "grid_column": null,
       "grid_gap": null,
       "grid_row": null,
       "grid_template_areas": null,
       "grid_template_columns": null,
       "grid_template_rows": null,
       "height": null,
       "justify_content": null,
       "justify_items": null,
       "left": null,
       "margin": null,
       "max_height": null,
       "max_width": null,
       "min_height": null,
       "min_width": null,
       "object_fit": null,
       "object_position": null,
       "order": null,
       "overflow": null,
       "padding": null,
       "right": null,
       "top": null,
       "visibility": null,
       "width": null
      }
     },
     "c617da8898074cec872488387e140102": {
      "model_module": "@jupyter-widgets/controls",
      "model_module_version": "2.0.0",
      "model_name": "HTMLModel",
      "state": {
       "_dom_classes": [],
       "_model_module": "@jupyter-widgets/controls",
       "_model_module_version": "2.0.0",
       "_model_name": "HTMLModel",
       "_view_count": null,
       "_view_module": "@jupyter-widgets/controls",
       "_view_module_version": "2.0.0",
       "_view_name": "HTMLView",
       "buffers": [],
       "description": "",
       "description_allow_html": false,
       "layout": "IPY_MODEL_192369d9035f4c06a3177b2146622fad",
       "placeholder": "​",
       "style": "IPY_MODEL_a894a4557dc247d6825db2741683582d",
       "tabbable": null,
       "tooltip": null,
       "value": " 187/351 [00:03&lt;00:03, 48.13it/s]"
      }
     },
     "ca72a87929d94edfa1cc24ad170bdc6c": {
      "model_module": "@jupyter-widgets/controls",
      "model_module_version": "2.0.0",
      "model_name": "HTMLStyleModel",
      "state": {
       "_model_module": "@jupyter-widgets/controls",
       "_model_module_version": "2.0.0",
       "_model_name": "HTMLStyleModel",
       "_view_count": null,
       "_view_module": "@jupyter-widgets/base",
       "_view_module_version": "2.0.0",
       "_view_name": "StyleView",
       "background": null,
       "buffers": [],
       "description_width": "",
       "font_size": null,
       "text_color": null
      }
     },
     "cc52127b65fd4aa1bb40629ed75b8256": {
      "model_module": "@jupyter-widgets/base",
      "model_module_version": "2.0.0",
      "model_name": "LayoutModel",
      "state": {
       "_model_module": "@jupyter-widgets/base",
       "_model_module_version": "2.0.0",
       "_model_name": "LayoutModel",
       "_view_count": null,
       "_view_module": "@jupyter-widgets/base",
       "_view_module_version": "2.0.0",
       "_view_name": "LayoutView",
       "align_content": null,
       "align_items": null,
       "align_self": null,
       "border_bottom": null,
       "border_left": null,
       "border_right": null,
       "border_top": null,
       "bottom": null,
       "buffers": [],
       "display": null,
       "flex": null,
       "flex_flow": null,
       "grid_area": null,
       "grid_auto_columns": null,
       "grid_auto_flow": null,
       "grid_auto_rows": null,
       "grid_column": null,
       "grid_gap": null,
       "grid_row": null,
       "grid_template_areas": null,
       "grid_template_columns": null,
       "grid_template_rows": null,
       "height": null,
       "justify_content": null,
       "justify_items": null,
       "left": null,
       "margin": null,
       "max_height": null,
       "max_width": null,
       "min_height": null,
       "min_width": null,
       "object_fit": null,
       "object_position": null,
       "order": null,
       "overflow": null,
       "padding": null,
       "right": null,
       "top": null,
       "visibility": null,
       "width": null
      }
     },
     "cfa09d9bf3b1488c87611fc6cad46717": {
      "model_module": "@jupyter-widgets/controls",
      "model_module_version": "2.0.0",
      "model_name": "HTMLModel",
      "state": {
       "_dom_classes": [],
       "_model_module": "@jupyter-widgets/controls",
       "_model_module_version": "2.0.0",
       "_model_name": "HTMLModel",
       "_view_count": null,
       "_view_module": "@jupyter-widgets/controls",
       "_view_module_version": "2.0.0",
       "_view_name": "HTMLView",
       "buffers": [],
       "description": "",
       "description_allow_html": false,
       "layout": "IPY_MODEL_bf89c836948f4a82bf800fef4a1bef79",
       "placeholder": "​",
       "style": "IPY_MODEL_a8b851c23cfa4c9398d0277a3a076888",
       "tabbable": null,
       "tooltip": null,
       "value": "Training: 100%"
      }
     },
     "d138301b9b794986a1df0f6dfe3c6f13": {
      "model_module": "@jupyter-widgets/base",
      "model_module_version": "2.0.0",
      "model_name": "LayoutModel",
      "state": {
       "_model_module": "@jupyter-widgets/base",
       "_model_module_version": "2.0.0",
       "_model_name": "LayoutModel",
       "_view_count": null,
       "_view_module": "@jupyter-widgets/base",
       "_view_module_version": "2.0.0",
       "_view_name": "LayoutView",
       "align_content": null,
       "align_items": null,
       "align_self": null,
       "border_bottom": null,
       "border_left": null,
       "border_right": null,
       "border_top": null,
       "bottom": null,
       "buffers": [],
       "display": null,
       "flex": null,
       "flex_flow": null,
       "grid_area": null,
       "grid_auto_columns": null,
       "grid_auto_flow": null,
       "grid_auto_rows": null,
       "grid_column": null,
       "grid_gap": null,
       "grid_row": null,
       "grid_template_areas": null,
       "grid_template_columns": null,
       "grid_template_rows": null,
       "height": null,
       "justify_content": null,
       "justify_items": null,
       "left": null,
       "margin": null,
       "max_height": null,
       "max_width": null,
       "min_height": null,
       "min_width": null,
       "object_fit": null,
       "object_position": null,
       "order": null,
       "overflow": null,
       "padding": null,
       "right": null,
       "top": null,
       "visibility": "hidden",
       "width": null
      }
     },
     "d2f7c7e99cf5471fa23bb304068e8c24": {
      "model_module": "@jupyter-widgets/base",
      "model_module_version": "2.0.0",
      "model_name": "LayoutModel",
      "state": {
       "_model_module": "@jupyter-widgets/base",
       "_model_module_version": "2.0.0",
       "_model_name": "LayoutModel",
       "_view_count": null,
       "_view_module": "@jupyter-widgets/base",
       "_view_module_version": "2.0.0",
       "_view_name": "LayoutView",
       "align_content": null,
       "align_items": null,
       "align_self": null,
       "border_bottom": null,
       "border_left": null,
       "border_right": null,
       "border_top": null,
       "bottom": null,
       "buffers": [],
       "display": null,
       "flex": null,
       "flex_flow": null,
       "grid_area": null,
       "grid_auto_columns": null,
       "grid_auto_flow": null,
       "grid_auto_rows": null,
       "grid_column": null,
       "grid_gap": null,
       "grid_row": null,
       "grid_template_areas": null,
       "grid_template_columns": null,
       "grid_template_rows": null,
       "height": null,
       "justify_content": null,
       "justify_items": null,
       "left": null,
       "margin": null,
       "max_height": null,
       "max_width": null,
       "min_height": null,
       "min_width": null,
       "object_fit": null,
       "object_position": null,
       "order": null,
       "overflow": null,
       "padding": null,
       "right": null,
       "top": null,
       "visibility": "hidden",
       "width": null
      }
     },
     "d3d1369e5457470081ebedf2c3bd3afa": {
      "model_module": "@jupyter-widgets/controls",
      "model_module_version": "2.0.0",
      "model_name": "HTMLModel",
      "state": {
       "_dom_classes": [],
       "_model_module": "@jupyter-widgets/controls",
       "_model_module_version": "2.0.0",
       "_model_name": "HTMLModel",
       "_view_count": null,
       "_view_module": "@jupyter-widgets/controls",
       "_view_module_version": "2.0.0",
       "_view_name": "HTMLView",
       "buffers": [],
       "description": "",
       "description_allow_html": false,
       "layout": "IPY_MODEL_b60c61f405d242e983ddc625a389a773",
       "placeholder": "​",
       "style": "IPY_MODEL_61e9ff43ba9d458a90b5534caf8b7729",
       "tabbable": null,
       "tooltip": null,
       "value": " 351/351 [00:07&lt;00:00, 48.13it/s]"
      }
     },
     "d4f5f6d9bd7c4889abfdd15f9b23c9e3": {
      "model_module": "@jupyter-widgets/controls",
      "model_module_version": "2.0.0",
      "model_name": "HTMLStyleModel",
      "state": {
       "_model_module": "@jupyter-widgets/controls",
       "_model_module_version": "2.0.0",
       "_model_name": "HTMLStyleModel",
       "_view_count": null,
       "_view_module": "@jupyter-widgets/base",
       "_view_module_version": "2.0.0",
       "_view_name": "StyleView",
       "background": null,
       "buffers": [],
       "description_width": "",
       "font_size": null,
       "text_color": null
      }
     },
     "d77d275fefb940d981d5d5f42298a049": {
      "model_module": "@jupyter-widgets/base",
      "model_module_version": "2.0.0",
      "model_name": "LayoutModel",
      "state": {
       "_model_module": "@jupyter-widgets/base",
       "_model_module_version": "2.0.0",
       "_model_name": "LayoutModel",
       "_view_count": null,
       "_view_module": "@jupyter-widgets/base",
       "_view_module_version": "2.0.0",
       "_view_name": "LayoutView",
       "align_content": null,
       "align_items": null,
       "align_self": null,
       "border_bottom": null,
       "border_left": null,
       "border_right": null,
       "border_top": null,
       "bottom": null,
       "buffers": [],
       "display": null,
       "flex": null,
       "flex_flow": null,
       "grid_area": null,
       "grid_auto_columns": null,
       "grid_auto_flow": null,
       "grid_auto_rows": null,
       "grid_column": null,
       "grid_gap": null,
       "grid_row": null,
       "grid_template_areas": null,
       "grid_template_columns": null,
       "grid_template_rows": null,
       "height": null,
       "justify_content": null,
       "justify_items": null,
       "left": null,
       "margin": null,
       "max_height": null,
       "max_width": null,
       "min_height": null,
       "min_width": null,
       "object_fit": null,
       "object_position": null,
       "order": null,
       "overflow": null,
       "padding": null,
       "right": null,
       "top": null,
       "visibility": null,
       "width": null
      }
     },
     "d7e9428577f0455fae5b99eb63e0b2e2": {
      "model_module": "@jupyter-widgets/controls",
      "model_module_version": "2.0.0",
      "model_name": "FloatProgressModel",
      "state": {
       "_dom_classes": [],
       "_model_module": "@jupyter-widgets/controls",
       "_model_module_version": "2.0.0",
       "_model_name": "FloatProgressModel",
       "_view_count": null,
       "_view_module": "@jupyter-widgets/controls",
       "_view_module_version": "2.0.0",
       "_view_name": "ProgressView",
       "bar_style": "",
       "buffers": [],
       "description": "",
       "description_allow_html": false,
       "layout": "IPY_MODEL_a25b9f87d23a49f1bd4a4e22fed2aeb0",
       "max": 351.0,
       "min": 0.0,
       "orientation": "horizontal",
       "style": "IPY_MODEL_5d0208655ff54d6f8d39a4ffdef8d9f0",
       "tabbable": null,
       "tooltip": null,
       "value": 351.0
      }
     },
     "d88ddfc8af024f0f839956ab7a5bb32f": {
      "model_module": "@jupyter-widgets/base",
      "model_module_version": "2.0.0",
      "model_name": "LayoutModel",
      "state": {
       "_model_module": "@jupyter-widgets/base",
       "_model_module_version": "2.0.0",
       "_model_name": "LayoutModel",
       "_view_count": null,
       "_view_module": "@jupyter-widgets/base",
       "_view_module_version": "2.0.0",
       "_view_name": "LayoutView",
       "align_content": null,
       "align_items": null,
       "align_self": null,
       "border_bottom": null,
       "border_left": null,
       "border_right": null,
       "border_top": null,
       "bottom": null,
       "buffers": [],
       "display": null,
       "flex": null,
       "flex_flow": null,
       "grid_area": null,
       "grid_auto_columns": null,
       "grid_auto_flow": null,
       "grid_auto_rows": null,
       "grid_column": null,
       "grid_gap": null,
       "grid_row": null,
       "grid_template_areas": null,
       "grid_template_columns": null,
       "grid_template_rows": null,
       "height": null,
       "justify_content": null,
       "justify_items": null,
       "left": null,
       "margin": null,
       "max_height": null,
       "max_width": null,
       "min_height": null,
       "min_width": null,
       "object_fit": null,
       "object_position": null,
       "order": null,
       "overflow": null,
       "padding": null,
       "right": null,
       "top": null,
       "visibility": "hidden",
       "width": null
      }
     },
     "db1ba48313dc418ea7c67ded8ca9a203": {
      "model_module": "@jupyter-widgets/controls",
      "model_module_version": "2.0.0",
      "model_name": "HTMLStyleModel",
      "state": {
       "_model_module": "@jupyter-widgets/controls",
       "_model_module_version": "2.0.0",
       "_model_name": "HTMLStyleModel",
       "_view_count": null,
       "_view_module": "@jupyter-widgets/base",
       "_view_module_version": "2.0.0",
       "_view_name": "StyleView",
       "background": null,
       "buffers": [],
       "description_width": "",
       "font_size": null,
       "text_color": null
      }
     },
     "dc3b7f87838f42e79e61f5fb9d7403a7": {
      "model_module": "@jupyter-widgets/controls",
      "model_module_version": "2.0.0",
      "model_name": "FloatProgressModel",
      "state": {
       "_dom_classes": [],
       "_model_module": "@jupyter-widgets/controls",
       "_model_module_version": "2.0.0",
       "_model_name": "FloatProgressModel",
       "_view_count": null,
       "_view_module": "@jupyter-widgets/controls",
       "_view_module_version": "2.0.0",
       "_view_name": "ProgressView",
       "bar_style": "",
       "buffers": [],
       "description": "",
       "description_allow_html": false,
       "layout": "IPY_MODEL_e6429ed98fb8492b95541837e137977b",
       "max": 351.0,
       "min": 0.0,
       "orientation": "horizontal",
       "style": "IPY_MODEL_5811612c409747fcb61f91b9fd54fc00",
       "tabbable": null,
       "tooltip": null,
       "value": 351.0
      }
     },
     "ddfe77d6e52a4768b5b4fa3118f846b9": {
      "model_module": "@jupyter-widgets/base",
      "model_module_version": "2.0.0",
      "model_name": "LayoutModel",
      "state": {
       "_model_module": "@jupyter-widgets/base",
       "_model_module_version": "2.0.0",
       "_model_name": "LayoutModel",
       "_view_count": null,
       "_view_module": "@jupyter-widgets/base",
       "_view_module_version": "2.0.0",
       "_view_name": "LayoutView",
       "align_content": null,
       "align_items": null,
       "align_self": null,
       "border_bottom": null,
       "border_left": null,
       "border_right": null,
       "border_top": null,
       "bottom": null,
       "buffers": [],
       "display": null,
       "flex": null,
       "flex_flow": null,
       "grid_area": null,
       "grid_auto_columns": null,
       "grid_auto_flow": null,
       "grid_auto_rows": null,
       "grid_column": null,
       "grid_gap": null,
       "grid_row": null,
       "grid_template_areas": null,
       "grid_template_columns": null,
       "grid_template_rows": null,
       "height": null,
       "justify_content": null,
       "justify_items": null,
       "left": null,
       "margin": null,
       "max_height": null,
       "max_width": null,
       "min_height": null,
       "min_width": null,
       "object_fit": null,
       "object_position": null,
       "order": null,
       "overflow": null,
       "padding": null,
       "right": null,
       "top": null,
       "visibility": null,
       "width": null
      }
     },
     "de1d375958704ef8b82a328eabebc16f": {
      "model_module": "@jupyter-widgets/base",
      "model_module_version": "2.0.0",
      "model_name": "LayoutModel",
      "state": {
       "_model_module": "@jupyter-widgets/base",
       "_model_module_version": "2.0.0",
       "_model_name": "LayoutModel",
       "_view_count": null,
       "_view_module": "@jupyter-widgets/base",
       "_view_module_version": "2.0.0",
       "_view_name": "LayoutView",
       "align_content": null,
       "align_items": null,
       "align_self": null,
       "border_bottom": null,
       "border_left": null,
       "border_right": null,
       "border_top": null,
       "bottom": null,
       "buffers": [],
       "display": null,
       "flex": null,
       "flex_flow": null,
       "grid_area": null,
       "grid_auto_columns": null,
       "grid_auto_flow": null,
       "grid_auto_rows": null,
       "grid_column": null,
       "grid_gap": null,
       "grid_row": null,
       "grid_template_areas": null,
       "grid_template_columns": null,
       "grid_template_rows": null,
       "height": null,
       "justify_content": null,
       "justify_items": null,
       "left": null,
       "margin": null,
       "max_height": null,
       "max_width": null,
       "min_height": null,
       "min_width": null,
       "object_fit": null,
       "object_position": null,
       "order": null,
       "overflow": null,
       "padding": null,
       "right": null,
       "top": null,
       "visibility": null,
       "width": null
      }
     },
     "df548d6bff5b4cf9acfe1167832c6e54": {
      "model_module": "@jupyter-widgets/base",
      "model_module_version": "2.0.0",
      "model_name": "LayoutModel",
      "state": {
       "_model_module": "@jupyter-widgets/base",
       "_model_module_version": "2.0.0",
       "_model_name": "LayoutModel",
       "_view_count": null,
       "_view_module": "@jupyter-widgets/base",
       "_view_module_version": "2.0.0",
       "_view_name": "LayoutView",
       "align_content": null,
       "align_items": null,
       "align_self": null,
       "border_bottom": null,
       "border_left": null,
       "border_right": null,
       "border_top": null,
       "bottom": null,
       "buffers": [],
       "display": null,
       "flex": null,
       "flex_flow": null,
       "grid_area": null,
       "grid_auto_columns": null,
       "grid_auto_flow": null,
       "grid_auto_rows": null,
       "grid_column": null,
       "grid_gap": null,
       "grid_row": null,
       "grid_template_areas": null,
       "grid_template_columns": null,
       "grid_template_rows": null,
       "height": null,
       "justify_content": null,
       "justify_items": null,
       "left": null,
       "margin": null,
       "max_height": null,
       "max_width": null,
       "min_height": null,
       "min_width": null,
       "object_fit": null,
       "object_position": null,
       "order": null,
       "overflow": null,
       "padding": null,
       "right": null,
       "top": null,
       "visibility": null,
       "width": null
      }
     },
     "e0e1b355bd99411dac332e9be3cbb93b": {
      "model_module": "@jupyter-widgets/controls",
      "model_module_version": "2.0.0",
      "model_name": "HTMLStyleModel",
      "state": {
       "_model_module": "@jupyter-widgets/controls",
       "_model_module_version": "2.0.0",
       "_model_name": "HTMLStyleModel",
       "_view_count": null,
       "_view_module": "@jupyter-widgets/base",
       "_view_module_version": "2.0.0",
       "_view_name": "StyleView",
       "background": null,
       "buffers": [],
       "description_width": "",
       "font_size": null,
       "text_color": null
      }
     },
     "e11d3c9f56454b5895c78a0a6f591055": {
      "model_module": "@jupyter-widgets/base",
      "model_module_version": "2.0.0",
      "model_name": "LayoutModel",
      "state": {
       "_model_module": "@jupyter-widgets/base",
       "_model_module_version": "2.0.0",
       "_model_name": "LayoutModel",
       "_view_count": null,
       "_view_module": "@jupyter-widgets/base",
       "_view_module_version": "2.0.0",
       "_view_name": "LayoutView",
       "align_content": null,
       "align_items": null,
       "align_self": null,
       "border_bottom": null,
       "border_left": null,
       "border_right": null,
       "border_top": null,
       "bottom": null,
       "buffers": [],
       "display": null,
       "flex": null,
       "flex_flow": null,
       "grid_area": null,
       "grid_auto_columns": null,
       "grid_auto_flow": null,
       "grid_auto_rows": null,
       "grid_column": null,
       "grid_gap": null,
       "grid_row": null,
       "grid_template_areas": null,
       "grid_template_columns": null,
       "grid_template_rows": null,
       "height": null,
       "justify_content": null,
       "justify_items": null,
       "left": null,
       "margin": null,
       "max_height": null,
       "max_width": null,
       "min_height": null,
       "min_width": null,
       "object_fit": null,
       "object_position": null,
       "order": null,
       "overflow": null,
       "padding": null,
       "right": null,
       "top": null,
       "visibility": null,
       "width": null
      }
     },
     "e1803cfac1f64c6fbd0ec5ea7473fc3e": {
      "model_module": "@jupyter-widgets/base",
      "model_module_version": "2.0.0",
      "model_name": "LayoutModel",
      "state": {
       "_model_module": "@jupyter-widgets/base",
       "_model_module_version": "2.0.0",
       "_model_name": "LayoutModel",
       "_view_count": null,
       "_view_module": "@jupyter-widgets/base",
       "_view_module_version": "2.0.0",
       "_view_name": "LayoutView",
       "align_content": null,
       "align_items": null,
       "align_self": null,
       "border_bottom": null,
       "border_left": null,
       "border_right": null,
       "border_top": null,
       "bottom": null,
       "buffers": [],
       "display": null,
       "flex": null,
       "flex_flow": null,
       "grid_area": null,
       "grid_auto_columns": null,
       "grid_auto_flow": null,
       "grid_auto_rows": null,
       "grid_column": null,
       "grid_gap": null,
       "grid_row": null,
       "grid_template_areas": null,
       "grid_template_columns": null,
       "grid_template_rows": null,
       "height": null,
       "justify_content": null,
       "justify_items": null,
       "left": null,
       "margin": null,
       "max_height": null,
       "max_width": null,
       "min_height": null,
       "min_width": null,
       "object_fit": null,
       "object_position": null,
       "order": null,
       "overflow": null,
       "padding": null,
       "right": null,
       "top": null,
       "visibility": null,
       "width": null
      }
     },
     "e260468a54c449d38d04746b96892554": {
      "model_module": "@jupyter-widgets/base",
      "model_module_version": "2.0.0",
      "model_name": "LayoutModel",
      "state": {
       "_model_module": "@jupyter-widgets/base",
       "_model_module_version": "2.0.0",
       "_model_name": "LayoutModel",
       "_view_count": null,
       "_view_module": "@jupyter-widgets/base",
       "_view_module_version": "2.0.0",
       "_view_name": "LayoutView",
       "align_content": null,
       "align_items": null,
       "align_self": null,
       "border_bottom": null,
       "border_left": null,
       "border_right": null,
       "border_top": null,
       "bottom": null,
       "buffers": [],
       "display": null,
       "flex": null,
       "flex_flow": null,
       "grid_area": null,
       "grid_auto_columns": null,
       "grid_auto_flow": null,
       "grid_auto_rows": null,
       "grid_column": null,
       "grid_gap": null,
       "grid_row": null,
       "grid_template_areas": null,
       "grid_template_columns": null,
       "grid_template_rows": null,
       "height": null,
       "justify_content": null,
       "justify_items": null,
       "left": null,
       "margin": null,
       "max_height": null,
       "max_width": null,
       "min_height": null,
       "min_width": null,
       "object_fit": null,
       "object_position": null,
       "order": null,
       "overflow": null,
       "padding": null,
       "right": null,
       "top": null,
       "visibility": null,
       "width": null
      }
     },
     "e38c6ec261f84f18b0cb198d34f855f5": {
      "model_module": "@jupyter-widgets/base",
      "model_module_version": "2.0.0",
      "model_name": "LayoutModel",
      "state": {
       "_model_module": "@jupyter-widgets/base",
       "_model_module_version": "2.0.0",
       "_model_name": "LayoutModel",
       "_view_count": null,
       "_view_module": "@jupyter-widgets/base",
       "_view_module_version": "2.0.0",
       "_view_name": "LayoutView",
       "align_content": null,
       "align_items": null,
       "align_self": null,
       "border_bottom": null,
       "border_left": null,
       "border_right": null,
       "border_top": null,
       "bottom": null,
       "buffers": [],
       "display": null,
       "flex": null,
       "flex_flow": null,
       "grid_area": null,
       "grid_auto_columns": null,
       "grid_auto_flow": null,
       "grid_auto_rows": null,
       "grid_column": null,
       "grid_gap": null,
       "grid_row": null,
       "grid_template_areas": null,
       "grid_template_columns": null,
       "grid_template_rows": null,
       "height": null,
       "justify_content": null,
       "justify_items": null,
       "left": null,
       "margin": null,
       "max_height": null,
       "max_width": null,
       "min_height": null,
       "min_width": null,
       "object_fit": null,
       "object_position": null,
       "order": null,
       "overflow": null,
       "padding": null,
       "right": null,
       "top": null,
       "visibility": null,
       "width": null
      }
     },
     "e47460cb83cf44dfaf39a70135f20a69": {
      "model_module": "@jupyter-widgets/controls",
      "model_module_version": "2.0.0",
      "model_name": "ProgressStyleModel",
      "state": {
       "_model_module": "@jupyter-widgets/controls",
       "_model_module_version": "2.0.0",
       "_model_name": "ProgressStyleModel",
       "_view_count": null,
       "_view_module": "@jupyter-widgets/base",
       "_view_module_version": "2.0.0",
       "_view_name": "StyleView",
       "bar_color": null,
       "buffers": [],
       "description_width": ""
      }
     },
     "e4d36ce9f9914846b40f1bee7d8c4ab9": {
      "model_module": "@jupyter-widgets/controls",
      "model_module_version": "2.0.0",
      "model_name": "FloatProgressModel",
      "state": {
       "_dom_classes": [],
       "_model_module": "@jupyter-widgets/controls",
       "_model_module_version": "2.0.0",
       "_model_name": "FloatProgressModel",
       "_view_count": null,
       "_view_module": "@jupyter-widgets/controls",
       "_view_module_version": "2.0.0",
       "_view_name": "ProgressView",
       "bar_style": "",
       "buffers": [],
       "description": "",
       "description_allow_html": false,
       "layout": "IPY_MODEL_9091ded148ba4ee3a9c7e706aa9aa8da",
       "max": 351.0,
       "min": 0.0,
       "orientation": "horizontal",
       "style": "IPY_MODEL_0e04d210fe284db6b4cb345dcd0b78de",
       "tabbable": null,
       "tooltip": null,
       "value": 351.0
      }
     },
     "e6429ed98fb8492b95541837e137977b": {
      "model_module": "@jupyter-widgets/base",
      "model_module_version": "2.0.0",
      "model_name": "LayoutModel",
      "state": {
       "_model_module": "@jupyter-widgets/base",
       "_model_module_version": "2.0.0",
       "_model_name": "LayoutModel",
       "_view_count": null,
       "_view_module": "@jupyter-widgets/base",
       "_view_module_version": "2.0.0",
       "_view_name": "LayoutView",
       "align_content": null,
       "align_items": null,
       "align_self": null,
       "border_bottom": null,
       "border_left": null,
       "border_right": null,
       "border_top": null,
       "bottom": null,
       "buffers": [],
       "display": null,
       "flex": null,
       "flex_flow": null,
       "grid_area": null,
       "grid_auto_columns": null,
       "grid_auto_flow": null,
       "grid_auto_rows": null,
       "grid_column": null,
       "grid_gap": null,
       "grid_row": null,
       "grid_template_areas": null,
       "grid_template_columns": null,
       "grid_template_rows": null,
       "height": null,
       "justify_content": null,
       "justify_items": null,
       "left": null,
       "margin": null,
       "max_height": null,
       "max_width": null,
       "min_height": null,
       "min_width": null,
       "object_fit": null,
       "object_position": null,
       "order": null,
       "overflow": null,
       "padding": null,
       "right": null,
       "top": null,
       "visibility": null,
       "width": null
      }
     },
     "e6e96a042a2549f68c26cc95417f09de": {
      "model_module": "@jupyter-widgets/controls",
      "model_module_version": "2.0.0",
      "model_name": "FloatProgressModel",
      "state": {
       "_dom_classes": [],
       "_model_module": "@jupyter-widgets/controls",
       "_model_module_version": "2.0.0",
       "_model_name": "FloatProgressModel",
       "_view_count": null,
       "_view_module": "@jupyter-widgets/controls",
       "_view_module_version": "2.0.0",
       "_view_name": "ProgressView",
       "bar_style": "",
       "buffers": [],
       "description": "",
       "description_allow_html": false,
       "layout": "IPY_MODEL_9c0f895b8d3f4751bf8bc757b311dfd0",
       "max": 351.0,
       "min": 0.0,
       "orientation": "horizontal",
       "style": "IPY_MODEL_517eeca83f7449a1a8a77240dd033e64",
       "tabbable": null,
       "tooltip": null,
       "value": 351.0
      }
     },
     "e755c443e29249dda14939b3679f8e45": {
      "model_module": "@jupyter-widgets/controls",
      "model_module_version": "2.0.0",
      "model_name": "HTMLStyleModel",
      "state": {
       "_model_module": "@jupyter-widgets/controls",
       "_model_module_version": "2.0.0",
       "_model_name": "HTMLStyleModel",
       "_view_count": null,
       "_view_module": "@jupyter-widgets/base",
       "_view_module_version": "2.0.0",
       "_view_name": "StyleView",
       "background": null,
       "buffers": [],
       "description_width": "",
       "font_size": null,
       "text_color": null
      }
     },
     "e8a574afd0044065b1b7df1266698a69": {
      "model_module": "@jupyter-widgets/base",
      "model_module_version": "2.0.0",
      "model_name": "LayoutModel",
      "state": {
       "_model_module": "@jupyter-widgets/base",
       "_model_module_version": "2.0.0",
       "_model_name": "LayoutModel",
       "_view_count": null,
       "_view_module": "@jupyter-widgets/base",
       "_view_module_version": "2.0.0",
       "_view_name": "LayoutView",
       "align_content": null,
       "align_items": null,
       "align_self": null,
       "border_bottom": null,
       "border_left": null,
       "border_right": null,
       "border_top": null,
       "bottom": null,
       "buffers": [],
       "display": null,
       "flex": null,
       "flex_flow": null,
       "grid_area": null,
       "grid_auto_columns": null,
       "grid_auto_flow": null,
       "grid_auto_rows": null,
       "grid_column": null,
       "grid_gap": null,
       "grid_row": null,
       "grid_template_areas": null,
       "grid_template_columns": null,
       "grid_template_rows": null,
       "height": null,
       "justify_content": null,
       "justify_items": null,
       "left": null,
       "margin": null,
       "max_height": null,
       "max_width": null,
       "min_height": null,
       "min_width": null,
       "object_fit": null,
       "object_position": null,
       "order": null,
       "overflow": null,
       "padding": null,
       "right": null,
       "top": null,
       "visibility": null,
       "width": null
      }
     },
     "e9167ec860ce44bc8ce893170d142a96": {
      "model_module": "@jupyter-widgets/controls",
      "model_module_version": "2.0.0",
      "model_name": "HTMLModel",
      "state": {
       "_dom_classes": [],
       "_model_module": "@jupyter-widgets/controls",
       "_model_module_version": "2.0.0",
       "_model_name": "HTMLModel",
       "_view_count": null,
       "_view_module": "@jupyter-widgets/controls",
       "_view_module_version": "2.0.0",
       "_view_name": "HTMLView",
       "buffers": [],
       "description": "",
       "description_allow_html": false,
       "layout": "IPY_MODEL_67fb80655d764b618cc18466ee3de606",
       "placeholder": "​",
       "style": "IPY_MODEL_f8967253d98b45cb87406c2b0d9e3531",
       "tabbable": null,
       "tooltip": null,
       "value": " 349/351 [00:07&lt;00:00, 48.11it/s]"
      }
     },
     "ebf7cc0a50e54fc7806ed287e8a9544f": {
      "model_module": "@jupyter-widgets/controls",
      "model_module_version": "2.0.0",
      "model_name": "FloatProgressModel",
      "state": {
       "_dom_classes": [],
       "_model_module": "@jupyter-widgets/controls",
       "_model_module_version": "2.0.0",
       "_model_name": "FloatProgressModel",
       "_view_count": null,
       "_view_module": "@jupyter-widgets/controls",
       "_view_module_version": "2.0.0",
       "_view_name": "ProgressView",
       "bar_style": "",
       "buffers": [],
       "description": "",
       "description_allow_html": false,
       "layout": "IPY_MODEL_aebe44d5a92845acba731672a695de08",
       "max": 351.0,
       "min": 0.0,
       "orientation": "horizontal",
       "style": "IPY_MODEL_5b2e099bd6834f34b9689c0cec8c538c",
       "tabbable": null,
       "tooltip": null,
       "value": 351.0
      }
     },
     "f17615de071a4a9192c53a956769798b": {
      "model_module": "@jupyter-widgets/base",
      "model_module_version": "2.0.0",
      "model_name": "LayoutModel",
      "state": {
       "_model_module": "@jupyter-widgets/base",
       "_model_module_version": "2.0.0",
       "_model_name": "LayoutModel",
       "_view_count": null,
       "_view_module": "@jupyter-widgets/base",
       "_view_module_version": "2.0.0",
       "_view_name": "LayoutView",
       "align_content": null,
       "align_items": null,
       "align_self": null,
       "border_bottom": null,
       "border_left": null,
       "border_right": null,
       "border_top": null,
       "bottom": null,
       "buffers": [],
       "display": null,
       "flex": null,
       "flex_flow": null,
       "grid_area": null,
       "grid_auto_columns": null,
       "grid_auto_flow": null,
       "grid_auto_rows": null,
       "grid_column": null,
       "grid_gap": null,
       "grid_row": null,
       "grid_template_areas": null,
       "grid_template_columns": null,
       "grid_template_rows": null,
       "height": null,
       "justify_content": null,
       "justify_items": null,
       "left": null,
       "margin": null,
       "max_height": null,
       "max_width": null,
       "min_height": null,
       "min_width": null,
       "object_fit": null,
       "object_position": null,
       "order": null,
       "overflow": null,
       "padding": null,
       "right": null,
       "top": null,
       "visibility": null,
       "width": null
      }
     },
     "f2bd9a90b4314bb6a5b01e52ac3228a0": {
      "model_module": "@jupyter-widgets/base",
      "model_module_version": "2.0.0",
      "model_name": "LayoutModel",
      "state": {
       "_model_module": "@jupyter-widgets/base",
       "_model_module_version": "2.0.0",
       "_model_name": "LayoutModel",
       "_view_count": null,
       "_view_module": "@jupyter-widgets/base",
       "_view_module_version": "2.0.0",
       "_view_name": "LayoutView",
       "align_content": null,
       "align_items": null,
       "align_self": null,
       "border_bottom": null,
       "border_left": null,
       "border_right": null,
       "border_top": null,
       "bottom": null,
       "buffers": [],
       "display": null,
       "flex": null,
       "flex_flow": null,
       "grid_area": null,
       "grid_auto_columns": null,
       "grid_auto_flow": null,
       "grid_auto_rows": null,
       "grid_column": null,
       "grid_gap": null,
       "grid_row": null,
       "grid_template_areas": null,
       "grid_template_columns": null,
       "grid_template_rows": null,
       "height": null,
       "justify_content": null,
       "justify_items": null,
       "left": null,
       "margin": null,
       "max_height": null,
       "max_width": null,
       "min_height": null,
       "min_width": null,
       "object_fit": null,
       "object_position": null,
       "order": null,
       "overflow": null,
       "padding": null,
       "right": null,
       "top": null,
       "visibility": "hidden",
       "width": null
      }
     },
     "f76de5c0d6b3492dbfaa7dbcc6c9fea2": {
      "model_module": "@jupyter-widgets/base",
      "model_module_version": "2.0.0",
      "model_name": "LayoutModel",
      "state": {
       "_model_module": "@jupyter-widgets/base",
       "_model_module_version": "2.0.0",
       "_model_name": "LayoutModel",
       "_view_count": null,
       "_view_module": "@jupyter-widgets/base",
       "_view_module_version": "2.0.0",
       "_view_name": "LayoutView",
       "align_content": null,
       "align_items": null,
       "align_self": null,
       "border_bottom": null,
       "border_left": null,
       "border_right": null,
       "border_top": null,
       "bottom": null,
       "buffers": [],
       "display": null,
       "flex": null,
       "flex_flow": null,
       "grid_area": null,
       "grid_auto_columns": null,
       "grid_auto_flow": null,
       "grid_auto_rows": null,
       "grid_column": null,
       "grid_gap": null,
       "grid_row": null,
       "grid_template_areas": null,
       "grid_template_columns": null,
       "grid_template_rows": null,
       "height": null,
       "justify_content": null,
       "justify_items": null,
       "left": null,
       "margin": null,
       "max_height": null,
       "max_width": null,
       "min_height": null,
       "min_width": null,
       "object_fit": null,
       "object_position": null,
       "order": null,
       "overflow": null,
       "padding": null,
       "right": null,
       "top": null,
       "visibility": null,
       "width": null
      }
     },
     "f8967253d98b45cb87406c2b0d9e3531": {
      "model_module": "@jupyter-widgets/controls",
      "model_module_version": "2.0.0",
      "model_name": "HTMLStyleModel",
      "state": {
       "_model_module": "@jupyter-widgets/controls",
       "_model_module_version": "2.0.0",
       "_model_name": "HTMLStyleModel",
       "_view_count": null,
       "_view_module": "@jupyter-widgets/base",
       "_view_module_version": "2.0.0",
       "_view_name": "StyleView",
       "background": null,
       "buffers": [],
       "description_width": "",
       "font_size": null,
       "text_color": null
      }
     },
     "f8fbbeb9c91147f2854a3e7dfd3f27ec": {
      "model_module": "@jupyter-widgets/controls",
      "model_module_version": "2.0.0",
      "model_name": "HTMLStyleModel",
      "state": {
       "_model_module": "@jupyter-widgets/controls",
       "_model_module_version": "2.0.0",
       "_model_name": "HTMLStyleModel",
       "_view_count": null,
       "_view_module": "@jupyter-widgets/base",
       "_view_module_version": "2.0.0",
       "_view_name": "StyleView",
       "background": null,
       "buffers": [],
       "description_width": "",
       "font_size": null,
       "text_color": null
      }
     },
     "f917275a3f0a43718f861b6df174bdb8": {
      "model_module": "@jupyter-widgets/base",
      "model_module_version": "2.0.0",
      "model_name": "LayoutModel",
      "state": {
       "_model_module": "@jupyter-widgets/base",
       "_model_module_version": "2.0.0",
       "_model_name": "LayoutModel",
       "_view_count": null,
       "_view_module": "@jupyter-widgets/base",
       "_view_module_version": "2.0.0",
       "_view_name": "LayoutView",
       "align_content": null,
       "align_items": null,
       "align_self": null,
       "border_bottom": null,
       "border_left": null,
       "border_right": null,
       "border_top": null,
       "bottom": null,
       "buffers": [],
       "display": null,
       "flex": null,
       "flex_flow": null,
       "grid_area": null,
       "grid_auto_columns": null,
       "grid_auto_flow": null,
       "grid_auto_rows": null,
       "grid_column": null,
       "grid_gap": null,
       "grid_row": null,
       "grid_template_areas": null,
       "grid_template_columns": null,
       "grid_template_rows": null,
       "height": null,
       "justify_content": null,
       "justify_items": null,
       "left": null,
       "margin": null,
       "max_height": null,
       "max_width": null,
       "min_height": null,
       "min_width": null,
       "object_fit": null,
       "object_position": null,
       "order": null,
       "overflow": null,
       "padding": null,
       "right": null,
       "top": null,
       "visibility": null,
       "width": null
      }
     },
     "f9c424e2a78a4b3e9a4736b70418f6e0": {
      "model_module": "@jupyter-widgets/controls",
      "model_module_version": "2.0.0",
      "model_name": "HTMLStyleModel",
      "state": {
       "_model_module": "@jupyter-widgets/controls",
       "_model_module_version": "2.0.0",
       "_model_name": "HTMLStyleModel",
       "_view_count": null,
       "_view_module": "@jupyter-widgets/base",
       "_view_module_version": "2.0.0",
       "_view_name": "StyleView",
       "background": null,
       "buffers": [],
       "description_width": "",
       "font_size": null,
       "text_color": null
      }
     },
     "fe3977d7d55e4d268342bac7d0c44b58": {
      "model_module": "@jupyter-widgets/base",
      "model_module_version": "2.0.0",
      "model_name": "LayoutModel",
      "state": {
       "_model_module": "@jupyter-widgets/base",
       "_model_module_version": "2.0.0",
       "_model_name": "LayoutModel",
       "_view_count": null,
       "_view_module": "@jupyter-widgets/base",
       "_view_module_version": "2.0.0",
       "_view_name": "LayoutView",
       "align_content": null,
       "align_items": null,
       "align_self": null,
       "border_bottom": null,
       "border_left": null,
       "border_right": null,
       "border_top": null,
       "bottom": null,
       "buffers": [],
       "display": null,
       "flex": null,
       "flex_flow": null,
       "grid_area": null,
       "grid_auto_columns": null,
       "grid_auto_flow": null,
       "grid_auto_rows": null,
       "grid_column": null,
       "grid_gap": null,
       "grid_row": null,
       "grid_template_areas": null,
       "grid_template_columns": null,
       "grid_template_rows": null,
       "height": null,
       "justify_content": null,
       "justify_items": null,
       "left": null,
       "margin": null,
       "max_height": null,
       "max_width": null,
       "min_height": null,
       "min_width": null,
       "object_fit": null,
       "object_position": null,
       "order": null,
       "overflow": null,
       "padding": null,
       "right": null,
       "top": null,
       "visibility": null,
       "width": null
      }
     },
     "ff2d97108efd4f22876d3a0129b8ed8b": {
      "model_module": "@jupyter-widgets/controls",
      "model_module_version": "2.0.0",
      "model_name": "ProgressStyleModel",
      "state": {
       "_model_module": "@jupyter-widgets/controls",
       "_model_module_version": "2.0.0",
       "_model_name": "ProgressStyleModel",
       "_view_count": null,
       "_view_module": "@jupyter-widgets/base",
       "_view_module_version": "2.0.0",
       "_view_name": "StyleView",
       "bar_color": null,
       "buffers": [],
       "description_width": ""
      }
     }
    },
    "version_major": 2,
    "version_minor": 0
   }
  }
 },
 "nbformat": 4,
 "nbformat_minor": 0
}
